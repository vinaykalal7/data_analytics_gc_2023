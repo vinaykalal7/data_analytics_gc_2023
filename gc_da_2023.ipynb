{
  "cells": [
    {
      "cell_type": "code",
      "execution_count": null,
      "metadata": {
        "id": "qN29P4brrLbG"
      },
      "outputs": [],
      "source": [
        "import pandas as pd\n",
        "import numpy as np\n",
        "import seaborn as sns\n",
        "from matplotlib import pyplot as plt\n",
        "%matplotlib inline"
      ]
    },
    {
      "cell_type": "code",
      "execution_count": null,
      "metadata": {
        "id": "psrvuoAksLPx"
      },
      "outputs": [],
      "source": [
        "df = pd.read_csv('/content/drive/MyDrive/gc_data/train.txt')\n",
        "daf = pd.DataFrame(columns = [\"SampleID\",\"Timestamp\"]+list(range(1,26)))\n",
        "daf.loc[0] = df.columns\n",
        "df.columns = daf.columns\n",
        "df = pd.concat([daf,df],ignore_index=True)"
      ]
    },
    {
      "cell_type": "code",
      "execution_count": null,
      "metadata": {
        "colab": {
          "base_uri": "https://localhost:8080/",
          "height": 487
        },
        "id": "8u0gUcAHtJJy",
        "outputId": "c98369ca-a207-488e-fc48-a6bdf9a32cd1"
      },
      "outputs": [
        {
          "output_type": "execute_result",
          "data": {
            "text/plain": [
              "       SampleID Timestamp       1       2       3       4       5       6  \\\n",
              "0             0         1  0.4337  0.7431  0.9390  0.7541  0.9035  0.7943   \n",
              "1             0       2.0  0.7859  0.1925  0.9024  0.8108  0.2016  0.9649   \n",
              "2             0       3.0  0.0512  0.9633  0.1423  0.8404  0.6654  0.4348   \n",
              "3             0       4.0  0.0413  0.1588  0.1675  0.0971  0.2918   0.197   \n",
              "4             0       5.0  0.7042  0.4724  0.3901  0.2793  0.2522  0.1933   \n",
              "...         ...       ...     ...     ...     ...     ...     ...     ...   \n",
              "549995    49999       7.0  0.2817  0.6392  0.9709  0.5667  0.0822  0.9976   \n",
              "549996    49999       8.0  0.5622  0.7094  0.1205  0.7765  0.5579  0.4585   \n",
              "549997    49999       9.0  0.3565  0.4717  0.6521  0.6147  0.2524  0.3296   \n",
              "549998    49999      10.0  0.7871  0.2163  0.1643  0.2265  0.9406  0.6559   \n",
              "549999        1       NaN     NaN     NaN     NaN     NaN     NaN     NaN   \n",
              "\n",
              "             7       8  ...      16      17      18      19      20      21  \\\n",
              "0       0.2622  0.5901  ...  0.5696  0.6407  0.7027  0.7163  0.9954  0.8303   \n",
              "1       0.2445  0.8934  ...  0.4259  0.7456   0.575  0.7947  0.4663  0.4303   \n",
              "2       0.5751  0.8067  ...  0.4753  0.5449  0.8531  0.6337  0.8807   0.256   \n",
              "3       0.0971  0.2039  ...  0.7959  0.5306  0.3109  0.2726  0.3298  0.4658   \n",
              "4       0.2694   0.411  ...  0.2474  0.5711  0.5686  0.6575  0.1447  0.5774   \n",
              "...        ...     ...  ...     ...     ...     ...     ...     ...     ...   \n",
              "549995  0.7358  0.9617  ...    0.96  0.4254  0.7402  0.2611  0.8659  0.7473   \n",
              "549996  0.0583  0.1459  ...  0.7685   0.741  0.9113  0.3729  0.1165  0.0866   \n",
              "549997  0.1769  0.9617  ...  0.5341  0.8423   0.509  0.8436  0.9809  0.2696   \n",
              "549998   0.583  0.4123  ...  0.2767  0.0436  0.8426  0.2371  0.6578   0.027   \n",
              "549999     NaN     NaN  ...     NaN     NaN     NaN     NaN     NaN     NaN   \n",
              "\n",
              "            22      23      24      25  \n",
              "0       0.1641  0.7893  0.7533  0.2925  \n",
              "1       0.3643  0.0558   0.133  0.0295  \n",
              "2       0.0597  0.5751  0.7797  0.8544  \n",
              "3       0.7479  0.8747  0.2677  0.3816  \n",
              "4       0.4022  0.6753  0.8371  0.6748  \n",
              "...        ...     ...     ...     ...  \n",
              "549995  0.1093  0.3094  0.7807  0.7287  \n",
              "549996  0.2817  0.4906  0.7756  0.5428  \n",
              "549997  0.5609  0.6706  0.1297  0.8826  \n",
              "549998  0.7201  0.4489  0.4848  0.5125  \n",
              "549999     NaN     NaN     NaN     NaN  \n",
              "\n",
              "[550000 rows x 27 columns]"
            ],
            "text/html": [
              "\n",
              "  <div id=\"df-a730ffdc-2163-4efc-87e5-bd90d98e4723\">\n",
              "    <div class=\"colab-df-container\">\n",
              "      <div>\n",
              "<style scoped>\n",
              "    .dataframe tbody tr th:only-of-type {\n",
              "        vertical-align: middle;\n",
              "    }\n",
              "\n",
              "    .dataframe tbody tr th {\n",
              "        vertical-align: top;\n",
              "    }\n",
              "\n",
              "    .dataframe thead th {\n",
              "        text-align: right;\n",
              "    }\n",
              "</style>\n",
              "<table border=\"1\" class=\"dataframe\">\n",
              "  <thead>\n",
              "    <tr style=\"text-align: right;\">\n",
              "      <th></th>\n",
              "      <th>SampleID</th>\n",
              "      <th>Timestamp</th>\n",
              "      <th>1</th>\n",
              "      <th>2</th>\n",
              "      <th>3</th>\n",
              "      <th>4</th>\n",
              "      <th>5</th>\n",
              "      <th>6</th>\n",
              "      <th>7</th>\n",
              "      <th>8</th>\n",
              "      <th>...</th>\n",
              "      <th>16</th>\n",
              "      <th>17</th>\n",
              "      <th>18</th>\n",
              "      <th>19</th>\n",
              "      <th>20</th>\n",
              "      <th>21</th>\n",
              "      <th>22</th>\n",
              "      <th>23</th>\n",
              "      <th>24</th>\n",
              "      <th>25</th>\n",
              "    </tr>\n",
              "  </thead>\n",
              "  <tbody>\n",
              "    <tr>\n",
              "      <th>0</th>\n",
              "      <td>0</td>\n",
              "      <td>1</td>\n",
              "      <td>0.4337</td>\n",
              "      <td>0.7431</td>\n",
              "      <td>0.9390</td>\n",
              "      <td>0.7541</td>\n",
              "      <td>0.9035</td>\n",
              "      <td>0.7943</td>\n",
              "      <td>0.2622</td>\n",
              "      <td>0.5901</td>\n",
              "      <td>...</td>\n",
              "      <td>0.5696</td>\n",
              "      <td>0.6407</td>\n",
              "      <td>0.7027</td>\n",
              "      <td>0.7163</td>\n",
              "      <td>0.9954</td>\n",
              "      <td>0.8303</td>\n",
              "      <td>0.1641</td>\n",
              "      <td>0.7893</td>\n",
              "      <td>0.7533</td>\n",
              "      <td>0.2925</td>\n",
              "    </tr>\n",
              "    <tr>\n",
              "      <th>1</th>\n",
              "      <td>0</td>\n",
              "      <td>2.0</td>\n",
              "      <td>0.7859</td>\n",
              "      <td>0.1925</td>\n",
              "      <td>0.9024</td>\n",
              "      <td>0.8108</td>\n",
              "      <td>0.2016</td>\n",
              "      <td>0.9649</td>\n",
              "      <td>0.2445</td>\n",
              "      <td>0.8934</td>\n",
              "      <td>...</td>\n",
              "      <td>0.4259</td>\n",
              "      <td>0.7456</td>\n",
              "      <td>0.575</td>\n",
              "      <td>0.7947</td>\n",
              "      <td>0.4663</td>\n",
              "      <td>0.4303</td>\n",
              "      <td>0.3643</td>\n",
              "      <td>0.0558</td>\n",
              "      <td>0.133</td>\n",
              "      <td>0.0295</td>\n",
              "    </tr>\n",
              "    <tr>\n",
              "      <th>2</th>\n",
              "      <td>0</td>\n",
              "      <td>3.0</td>\n",
              "      <td>0.0512</td>\n",
              "      <td>0.9633</td>\n",
              "      <td>0.1423</td>\n",
              "      <td>0.8404</td>\n",
              "      <td>0.6654</td>\n",
              "      <td>0.4348</td>\n",
              "      <td>0.5751</td>\n",
              "      <td>0.8067</td>\n",
              "      <td>...</td>\n",
              "      <td>0.4753</td>\n",
              "      <td>0.5449</td>\n",
              "      <td>0.8531</td>\n",
              "      <td>0.6337</td>\n",
              "      <td>0.8807</td>\n",
              "      <td>0.256</td>\n",
              "      <td>0.0597</td>\n",
              "      <td>0.5751</td>\n",
              "      <td>0.7797</td>\n",
              "      <td>0.8544</td>\n",
              "    </tr>\n",
              "    <tr>\n",
              "      <th>3</th>\n",
              "      <td>0</td>\n",
              "      <td>4.0</td>\n",
              "      <td>0.0413</td>\n",
              "      <td>0.1588</td>\n",
              "      <td>0.1675</td>\n",
              "      <td>0.0971</td>\n",
              "      <td>0.2918</td>\n",
              "      <td>0.197</td>\n",
              "      <td>0.0971</td>\n",
              "      <td>0.2039</td>\n",
              "      <td>...</td>\n",
              "      <td>0.7959</td>\n",
              "      <td>0.5306</td>\n",
              "      <td>0.3109</td>\n",
              "      <td>0.2726</td>\n",
              "      <td>0.3298</td>\n",
              "      <td>0.4658</td>\n",
              "      <td>0.7479</td>\n",
              "      <td>0.8747</td>\n",
              "      <td>0.2677</td>\n",
              "      <td>0.3816</td>\n",
              "    </tr>\n",
              "    <tr>\n",
              "      <th>4</th>\n",
              "      <td>0</td>\n",
              "      <td>5.0</td>\n",
              "      <td>0.7042</td>\n",
              "      <td>0.4724</td>\n",
              "      <td>0.3901</td>\n",
              "      <td>0.2793</td>\n",
              "      <td>0.2522</td>\n",
              "      <td>0.1933</td>\n",
              "      <td>0.2694</td>\n",
              "      <td>0.411</td>\n",
              "      <td>...</td>\n",
              "      <td>0.2474</td>\n",
              "      <td>0.5711</td>\n",
              "      <td>0.5686</td>\n",
              "      <td>0.6575</td>\n",
              "      <td>0.1447</td>\n",
              "      <td>0.5774</td>\n",
              "      <td>0.4022</td>\n",
              "      <td>0.6753</td>\n",
              "      <td>0.8371</td>\n",
              "      <td>0.6748</td>\n",
              "    </tr>\n",
              "    <tr>\n",
              "      <th>...</th>\n",
              "      <td>...</td>\n",
              "      <td>...</td>\n",
              "      <td>...</td>\n",
              "      <td>...</td>\n",
              "      <td>...</td>\n",
              "      <td>...</td>\n",
              "      <td>...</td>\n",
              "      <td>...</td>\n",
              "      <td>...</td>\n",
              "      <td>...</td>\n",
              "      <td>...</td>\n",
              "      <td>...</td>\n",
              "      <td>...</td>\n",
              "      <td>...</td>\n",
              "      <td>...</td>\n",
              "      <td>...</td>\n",
              "      <td>...</td>\n",
              "      <td>...</td>\n",
              "      <td>...</td>\n",
              "      <td>...</td>\n",
              "      <td>...</td>\n",
              "    </tr>\n",
              "    <tr>\n",
              "      <th>549995</th>\n",
              "      <td>49999</td>\n",
              "      <td>7.0</td>\n",
              "      <td>0.2817</td>\n",
              "      <td>0.6392</td>\n",
              "      <td>0.9709</td>\n",
              "      <td>0.5667</td>\n",
              "      <td>0.0822</td>\n",
              "      <td>0.9976</td>\n",
              "      <td>0.7358</td>\n",
              "      <td>0.9617</td>\n",
              "      <td>...</td>\n",
              "      <td>0.96</td>\n",
              "      <td>0.4254</td>\n",
              "      <td>0.7402</td>\n",
              "      <td>0.2611</td>\n",
              "      <td>0.8659</td>\n",
              "      <td>0.7473</td>\n",
              "      <td>0.1093</td>\n",
              "      <td>0.3094</td>\n",
              "      <td>0.7807</td>\n",
              "      <td>0.7287</td>\n",
              "    </tr>\n",
              "    <tr>\n",
              "      <th>549996</th>\n",
              "      <td>49999</td>\n",
              "      <td>8.0</td>\n",
              "      <td>0.5622</td>\n",
              "      <td>0.7094</td>\n",
              "      <td>0.1205</td>\n",
              "      <td>0.7765</td>\n",
              "      <td>0.5579</td>\n",
              "      <td>0.4585</td>\n",
              "      <td>0.0583</td>\n",
              "      <td>0.1459</td>\n",
              "      <td>...</td>\n",
              "      <td>0.7685</td>\n",
              "      <td>0.741</td>\n",
              "      <td>0.9113</td>\n",
              "      <td>0.3729</td>\n",
              "      <td>0.1165</td>\n",
              "      <td>0.0866</td>\n",
              "      <td>0.2817</td>\n",
              "      <td>0.4906</td>\n",
              "      <td>0.7756</td>\n",
              "      <td>0.5428</td>\n",
              "    </tr>\n",
              "    <tr>\n",
              "      <th>549997</th>\n",
              "      <td>49999</td>\n",
              "      <td>9.0</td>\n",
              "      <td>0.3565</td>\n",
              "      <td>0.4717</td>\n",
              "      <td>0.6521</td>\n",
              "      <td>0.6147</td>\n",
              "      <td>0.2524</td>\n",
              "      <td>0.3296</td>\n",
              "      <td>0.1769</td>\n",
              "      <td>0.9617</td>\n",
              "      <td>...</td>\n",
              "      <td>0.5341</td>\n",
              "      <td>0.8423</td>\n",
              "      <td>0.509</td>\n",
              "      <td>0.8436</td>\n",
              "      <td>0.9809</td>\n",
              "      <td>0.2696</td>\n",
              "      <td>0.5609</td>\n",
              "      <td>0.6706</td>\n",
              "      <td>0.1297</td>\n",
              "      <td>0.8826</td>\n",
              "    </tr>\n",
              "    <tr>\n",
              "      <th>549998</th>\n",
              "      <td>49999</td>\n",
              "      <td>10.0</td>\n",
              "      <td>0.7871</td>\n",
              "      <td>0.2163</td>\n",
              "      <td>0.1643</td>\n",
              "      <td>0.2265</td>\n",
              "      <td>0.9406</td>\n",
              "      <td>0.6559</td>\n",
              "      <td>0.583</td>\n",
              "      <td>0.4123</td>\n",
              "      <td>...</td>\n",
              "      <td>0.2767</td>\n",
              "      <td>0.0436</td>\n",
              "      <td>0.8426</td>\n",
              "      <td>0.2371</td>\n",
              "      <td>0.6578</td>\n",
              "      <td>0.027</td>\n",
              "      <td>0.7201</td>\n",
              "      <td>0.4489</td>\n",
              "      <td>0.4848</td>\n",
              "      <td>0.5125</td>\n",
              "    </tr>\n",
              "    <tr>\n",
              "      <th>549999</th>\n",
              "      <td>1</td>\n",
              "      <td>NaN</td>\n",
              "      <td>NaN</td>\n",
              "      <td>NaN</td>\n",
              "      <td>NaN</td>\n",
              "      <td>NaN</td>\n",
              "      <td>NaN</td>\n",
              "      <td>NaN</td>\n",
              "      <td>NaN</td>\n",
              "      <td>NaN</td>\n",
              "      <td>...</td>\n",
              "      <td>NaN</td>\n",
              "      <td>NaN</td>\n",
              "      <td>NaN</td>\n",
              "      <td>NaN</td>\n",
              "      <td>NaN</td>\n",
              "      <td>NaN</td>\n",
              "      <td>NaN</td>\n",
              "      <td>NaN</td>\n",
              "      <td>NaN</td>\n",
              "      <td>NaN</td>\n",
              "    </tr>\n",
              "  </tbody>\n",
              "</table>\n",
              "<p>550000 rows × 27 columns</p>\n",
              "</div>\n",
              "      <button class=\"colab-df-convert\" onclick=\"convertToInteractive('df-a730ffdc-2163-4efc-87e5-bd90d98e4723')\"\n",
              "              title=\"Convert this dataframe to an interactive table.\"\n",
              "              style=\"display:none;\">\n",
              "        \n",
              "  <svg xmlns=\"http://www.w3.org/2000/svg\" height=\"24px\"viewBox=\"0 0 24 24\"\n",
              "       width=\"24px\">\n",
              "    <path d=\"M0 0h24v24H0V0z\" fill=\"none\"/>\n",
              "    <path d=\"M18.56 5.44l.94 2.06.94-2.06 2.06-.94-2.06-.94-.94-2.06-.94 2.06-2.06.94zm-11 1L8.5 8.5l.94-2.06 2.06-.94-2.06-.94L8.5 2.5l-.94 2.06-2.06.94zm10 10l.94 2.06.94-2.06 2.06-.94-2.06-.94-.94-2.06-.94 2.06-2.06.94z\"/><path d=\"M17.41 7.96l-1.37-1.37c-.4-.4-.92-.59-1.43-.59-.52 0-1.04.2-1.43.59L10.3 9.45l-7.72 7.72c-.78.78-.78 2.05 0 2.83L4 21.41c.39.39.9.59 1.41.59.51 0 1.02-.2 1.41-.59l7.78-7.78 2.81-2.81c.8-.78.8-2.07 0-2.86zM5.41 20L4 18.59l7.72-7.72 1.47 1.35L5.41 20z\"/>\n",
              "  </svg>\n",
              "      </button>\n",
              "      \n",
              "  <style>\n",
              "    .colab-df-container {\n",
              "      display:flex;\n",
              "      flex-wrap:wrap;\n",
              "      gap: 12px;\n",
              "    }\n",
              "\n",
              "    .colab-df-convert {\n",
              "      background-color: #E8F0FE;\n",
              "      border: none;\n",
              "      border-radius: 50%;\n",
              "      cursor: pointer;\n",
              "      display: none;\n",
              "      fill: #1967D2;\n",
              "      height: 32px;\n",
              "      padding: 0 0 0 0;\n",
              "      width: 32px;\n",
              "    }\n",
              "\n",
              "    .colab-df-convert:hover {\n",
              "      background-color: #E2EBFA;\n",
              "      box-shadow: 0px 1px 2px rgba(60, 64, 67, 0.3), 0px 1px 3px 1px rgba(60, 64, 67, 0.15);\n",
              "      fill: #174EA6;\n",
              "    }\n",
              "\n",
              "    [theme=dark] .colab-df-convert {\n",
              "      background-color: #3B4455;\n",
              "      fill: #D2E3FC;\n",
              "    }\n",
              "\n",
              "    [theme=dark] .colab-df-convert:hover {\n",
              "      background-color: #434B5C;\n",
              "      box-shadow: 0px 1px 3px 1px rgba(0, 0, 0, 0.15);\n",
              "      filter: drop-shadow(0px 1px 2px rgba(0, 0, 0, 0.3));\n",
              "      fill: #FFFFFF;\n",
              "    }\n",
              "  </style>\n",
              "\n",
              "      <script>\n",
              "        const buttonEl =\n",
              "          document.querySelector('#df-a730ffdc-2163-4efc-87e5-bd90d98e4723 button.colab-df-convert');\n",
              "        buttonEl.style.display =\n",
              "          google.colab.kernel.accessAllowed ? 'block' : 'none';\n",
              "\n",
              "        async function convertToInteractive(key) {\n",
              "          const element = document.querySelector('#df-a730ffdc-2163-4efc-87e5-bd90d98e4723');\n",
              "          const dataTable =\n",
              "            await google.colab.kernel.invokeFunction('convertToInteractive',\n",
              "                                                     [key], {});\n",
              "          if (!dataTable) return;\n",
              "\n",
              "          const docLinkHtml = 'Like what you see? Visit the ' +\n",
              "            '<a target=\"_blank\" href=https://colab.research.google.com/notebooks/data_table.ipynb>data table notebook</a>'\n",
              "            + ' to learn more about interactive tables.';\n",
              "          element.innerHTML = '';\n",
              "          dataTable['output_type'] = 'display_data';\n",
              "          await google.colab.output.renderOutput(dataTable, element);\n",
              "          const docLink = document.createElement('div');\n",
              "          docLink.innerHTML = docLinkHtml;\n",
              "          element.appendChild(docLink);\n",
              "        }\n",
              "      </script>\n",
              "    </div>\n",
              "  </div>\n",
              "  "
            ]
          },
          "metadata": {},
          "execution_count": 3
        }
      ],
      "source": [
        "df"
      ]
    },
    {
      "cell_type": "code",
      "execution_count": null,
      "metadata": {
        "colab": {
          "base_uri": "https://localhost:8080/",
          "height": 1000
        },
        "id": "2AmNhA-osi9G",
        "outputId": "861d9227-f47e-4602-dd27-bb0705b62794"
      },
      "outputs": [
        {
          "data": {
            "text/html": [
              "\n",
              "  <div id=\"df-1b84fb2c-671c-45db-9b94-d16e5d22ffba\">\n",
              "    <div class=\"colab-df-container\">\n",
              "      <div>\n",
              "<style scoped>\n",
              "    .dataframe tbody tr th:only-of-type {\n",
              "        vertical-align: middle;\n",
              "    }\n",
              "\n",
              "    .dataframe tbody tr th {\n",
              "        vertical-align: top;\n",
              "    }\n",
              "\n",
              "    .dataframe thead th {\n",
              "        text-align: right;\n",
              "    }\n",
              "</style>\n",
              "<table border=\"1\" class=\"dataframe\">\n",
              "  <thead>\n",
              "    <tr style=\"text-align: right;\">\n",
              "      <th></th>\n",
              "      <th>SampleID</th>\n",
              "      <th>Timestamp</th>\n",
              "      <th>1</th>\n",
              "      <th>2</th>\n",
              "      <th>3</th>\n",
              "      <th>4</th>\n",
              "      <th>5</th>\n",
              "      <th>6</th>\n",
              "      <th>7</th>\n",
              "      <th>8</th>\n",
              "      <th>...</th>\n",
              "      <th>16</th>\n",
              "      <th>17</th>\n",
              "      <th>18</th>\n",
              "      <th>19</th>\n",
              "      <th>20</th>\n",
              "      <th>21</th>\n",
              "      <th>22</th>\n",
              "      <th>23</th>\n",
              "      <th>24</th>\n",
              "      <th>25</th>\n",
              "    </tr>\n",
              "  </thead>\n",
              "  <tbody>\n",
              "    <tr>\n",
              "      <th>0</th>\n",
              "      <td>0</td>\n",
              "      <td>1</td>\n",
              "      <td>0.4337</td>\n",
              "      <td>0.7431</td>\n",
              "      <td>0.9390</td>\n",
              "      <td>0.7541</td>\n",
              "      <td>0.9035</td>\n",
              "      <td>0.7943</td>\n",
              "      <td>0.2622</td>\n",
              "      <td>0.5901</td>\n",
              "      <td>...</td>\n",
              "      <td>0.5696</td>\n",
              "      <td>0.6407</td>\n",
              "      <td>0.7027</td>\n",
              "      <td>0.7163</td>\n",
              "      <td>0.9954</td>\n",
              "      <td>0.8303</td>\n",
              "      <td>0.1641</td>\n",
              "      <td>0.7893</td>\n",
              "      <td>0.7533</td>\n",
              "      <td>0.2925</td>\n",
              "    </tr>\n",
              "    <tr>\n",
              "      <th>1</th>\n",
              "      <td>0</td>\n",
              "      <td>2.0</td>\n",
              "      <td>0.7859</td>\n",
              "      <td>0.1925</td>\n",
              "      <td>0.9024</td>\n",
              "      <td>0.8108</td>\n",
              "      <td>0.2016</td>\n",
              "      <td>0.9649</td>\n",
              "      <td>0.2445</td>\n",
              "      <td>0.8934</td>\n",
              "      <td>...</td>\n",
              "      <td>0.4259</td>\n",
              "      <td>0.7456</td>\n",
              "      <td>0.575</td>\n",
              "      <td>0.7947</td>\n",
              "      <td>0.4663</td>\n",
              "      <td>0.4303</td>\n",
              "      <td>0.3643</td>\n",
              "      <td>0.0558</td>\n",
              "      <td>0.133</td>\n",
              "      <td>0.0295</td>\n",
              "    </tr>\n",
              "    <tr>\n",
              "      <th>2</th>\n",
              "      <td>0</td>\n",
              "      <td>3.0</td>\n",
              "      <td>0.0512</td>\n",
              "      <td>0.9633</td>\n",
              "      <td>0.1423</td>\n",
              "      <td>0.8404</td>\n",
              "      <td>0.6654</td>\n",
              "      <td>0.4348</td>\n",
              "      <td>0.5751</td>\n",
              "      <td>0.8067</td>\n",
              "      <td>...</td>\n",
              "      <td>0.4753</td>\n",
              "      <td>0.5449</td>\n",
              "      <td>0.8531</td>\n",
              "      <td>0.6337</td>\n",
              "      <td>0.8807</td>\n",
              "      <td>0.256</td>\n",
              "      <td>0.0597</td>\n",
              "      <td>0.5751</td>\n",
              "      <td>0.7797</td>\n",
              "      <td>0.8544</td>\n",
              "    </tr>\n",
              "    <tr>\n",
              "      <th>3</th>\n",
              "      <td>0</td>\n",
              "      <td>4.0</td>\n",
              "      <td>0.0413</td>\n",
              "      <td>0.1588</td>\n",
              "      <td>0.1675</td>\n",
              "      <td>0.0971</td>\n",
              "      <td>0.2918</td>\n",
              "      <td>0.197</td>\n",
              "      <td>0.0971</td>\n",
              "      <td>0.2039</td>\n",
              "      <td>...</td>\n",
              "      <td>0.7959</td>\n",
              "      <td>0.5306</td>\n",
              "      <td>0.3109</td>\n",
              "      <td>0.2726</td>\n",
              "      <td>0.3298</td>\n",
              "      <td>0.4658</td>\n",
              "      <td>0.7479</td>\n",
              "      <td>0.8747</td>\n",
              "      <td>0.2677</td>\n",
              "      <td>0.3816</td>\n",
              "    </tr>\n",
              "    <tr>\n",
              "      <th>4</th>\n",
              "      <td>0</td>\n",
              "      <td>5.0</td>\n",
              "      <td>0.7042</td>\n",
              "      <td>0.4724</td>\n",
              "      <td>0.3901</td>\n",
              "      <td>0.2793</td>\n",
              "      <td>0.2522</td>\n",
              "      <td>0.1933</td>\n",
              "      <td>0.2694</td>\n",
              "      <td>0.411</td>\n",
              "      <td>...</td>\n",
              "      <td>0.2474</td>\n",
              "      <td>0.5711</td>\n",
              "      <td>0.5686</td>\n",
              "      <td>0.6575</td>\n",
              "      <td>0.1447</td>\n",
              "      <td>0.5774</td>\n",
              "      <td>0.4022</td>\n",
              "      <td>0.6753</td>\n",
              "      <td>0.8371</td>\n",
              "      <td>0.6748</td>\n",
              "    </tr>\n",
              "    <tr>\n",
              "      <th>5</th>\n",
              "      <td>0</td>\n",
              "      <td>6.0</td>\n",
              "      <td>0.9538</td>\n",
              "      <td>0.3029</td>\n",
              "      <td>0.4227</td>\n",
              "      <td>0.7774</td>\n",
              "      <td>0.5194</td>\n",
              "      <td>0.7531</td>\n",
              "      <td>0.4816</td>\n",
              "      <td>0.9918</td>\n",
              "      <td>...</td>\n",
              "      <td>0.2433</td>\n",
              "      <td>0.204</td>\n",
              "      <td>0.1013</td>\n",
              "      <td>0.6044</td>\n",
              "      <td>0.957</td>\n",
              "      <td>0.8958</td>\n",
              "      <td>0.8006</td>\n",
              "      <td>0.5282</td>\n",
              "      <td>0.4132</td>\n",
              "      <td>0.4582</td>\n",
              "    </tr>\n",
              "    <tr>\n",
              "      <th>6</th>\n",
              "      <td>0</td>\n",
              "      <td>7.0</td>\n",
              "      <td>0.6729</td>\n",
              "      <td>0.9906</td>\n",
              "      <td>0.8604</td>\n",
              "      <td>0.2969</td>\n",
              "      <td>0.8278</td>\n",
              "      <td>0.484</td>\n",
              "      <td>0.2507</td>\n",
              "      <td>0.0795</td>\n",
              "      <td>...</td>\n",
              "      <td>0.1682</td>\n",
              "      <td>0.7322</td>\n",
              "      <td>0.9347</td>\n",
              "      <td>0.0961</td>\n",
              "      <td>0.2847</td>\n",
              "      <td>0.4782</td>\n",
              "      <td>0.2882</td>\n",
              "      <td>0.4375</td>\n",
              "      <td>0.5795</td>\n",
              "      <td>0.8926</td>\n",
              "    </tr>\n",
              "    <tr>\n",
              "      <th>7</th>\n",
              "      <td>0</td>\n",
              "      <td>8.0</td>\n",
              "      <td>0.3945</td>\n",
              "      <td>0.4753</td>\n",
              "      <td>0.642</td>\n",
              "      <td>0.9227</td>\n",
              "      <td>0.8885</td>\n",
              "      <td>0.1002</td>\n",
              "      <td>0.5443</td>\n",
              "      <td>0.8279</td>\n",
              "      <td>...</td>\n",
              "      <td>0.0176</td>\n",
              "      <td>0.2317</td>\n",
              "      <td>0.8063</td>\n",
              "      <td>0.4249</td>\n",
              "      <td>0.7711</td>\n",
              "      <td>0.4558</td>\n",
              "      <td>0.5419</td>\n",
              "      <td>0.4521</td>\n",
              "      <td>0.3392</td>\n",
              "      <td>0.638</td>\n",
              "    </tr>\n",
              "    <tr>\n",
              "      <th>8</th>\n",
              "      <td>0</td>\n",
              "      <td>9.0</td>\n",
              "      <td>0.7368</td>\n",
              "      <td>0.8174</td>\n",
              "      <td>0.875</td>\n",
              "      <td>0.123</td>\n",
              "      <td>0.397</td>\n",
              "      <td>0.7676</td>\n",
              "      <td>0.5175</td>\n",
              "      <td>0.8211</td>\n",
              "      <td>...</td>\n",
              "      <td>0.7746</td>\n",
              "      <td>0.0908</td>\n",
              "      <td>0.71</td>\n",
              "      <td>0.7641</td>\n",
              "      <td>0.7748</td>\n",
              "      <td>0.9589</td>\n",
              "      <td>0.7818</td>\n",
              "      <td>0.9553</td>\n",
              "      <td>0.7653</td>\n",
              "      <td>0.1555</td>\n",
              "    </tr>\n",
              "    <tr>\n",
              "      <th>9</th>\n",
              "      <td>0</td>\n",
              "      <td>10.0</td>\n",
              "      <td>0.6752</td>\n",
              "      <td>0.1698</td>\n",
              "      <td>0.6974</td>\n",
              "      <td>0.1273</td>\n",
              "      <td>0.509</td>\n",
              "      <td>0.3354</td>\n",
              "      <td>0.8128</td>\n",
              "      <td>0.2753</td>\n",
              "      <td>...</td>\n",
              "      <td>0.7912</td>\n",
              "      <td>0.1517</td>\n",
              "      <td>0.6923</td>\n",
              "      <td>0.7245</td>\n",
              "      <td>0.638</td>\n",
              "      <td>0.0089</td>\n",
              "      <td>0.4479</td>\n",
              "      <td>0.6776</td>\n",
              "      <td>0.7189</td>\n",
              "      <td>0.2121</td>\n",
              "    </tr>\n",
              "    <tr>\n",
              "      <th>10</th>\n",
              "      <td>1</td>\n",
              "      <td>NaN</td>\n",
              "      <td>NaN</td>\n",
              "      <td>NaN</td>\n",
              "      <td>NaN</td>\n",
              "      <td>NaN</td>\n",
              "      <td>NaN</td>\n",
              "      <td>NaN</td>\n",
              "      <td>NaN</td>\n",
              "      <td>NaN</td>\n",
              "      <td>...</td>\n",
              "      <td>NaN</td>\n",
              "      <td>NaN</td>\n",
              "      <td>NaN</td>\n",
              "      <td>NaN</td>\n",
              "      <td>NaN</td>\n",
              "      <td>NaN</td>\n",
              "      <td>NaN</td>\n",
              "      <td>NaN</td>\n",
              "      <td>NaN</td>\n",
              "      <td>NaN</td>\n",
              "    </tr>\n",
              "    <tr>\n",
              "      <th>11</th>\n",
              "      <td>1</td>\n",
              "      <td>1.0</td>\n",
              "      <td>0.4013</td>\n",
              "      <td>0.6779</td>\n",
              "      <td>0.9426</td>\n",
              "      <td>0.3566</td>\n",
              "      <td>0.3919</td>\n",
              "      <td>0.0981</td>\n",
              "      <td>0.9805</td>\n",
              "      <td>0.5617</td>\n",
              "      <td>...</td>\n",
              "      <td>0.7539</td>\n",
              "      <td>0.9158</td>\n",
              "      <td>0.1142</td>\n",
              "      <td>0.1561</td>\n",
              "      <td>0.3578</td>\n",
              "      <td>0.348</td>\n",
              "      <td>0.9472</td>\n",
              "      <td>0.4583</td>\n",
              "      <td>0.9891</td>\n",
              "      <td>0.6206</td>\n",
              "    </tr>\n",
              "    <tr>\n",
              "      <th>12</th>\n",
              "      <td>1</td>\n",
              "      <td>2.0</td>\n",
              "      <td>0.0451</td>\n",
              "      <td>0.998</td>\n",
              "      <td>0.0685</td>\n",
              "      <td>0.7227</td>\n",
              "      <td>0.6657</td>\n",
              "      <td>0.2293</td>\n",
              "      <td>0.124</td>\n",
              "      <td>0.2924</td>\n",
              "      <td>...</td>\n",
              "      <td>0.5176</td>\n",
              "      <td>0.1631</td>\n",
              "      <td>0.0425</td>\n",
              "      <td>0.3357</td>\n",
              "      <td>0.4578</td>\n",
              "      <td>0.23</td>\n",
              "      <td>0.0897</td>\n",
              "      <td>0.3224</td>\n",
              "      <td>0.3442</td>\n",
              "      <td>0.2458</td>\n",
              "    </tr>\n",
              "    <tr>\n",
              "      <th>13</th>\n",
              "      <td>1</td>\n",
              "      <td>3.0</td>\n",
              "      <td>0.6802</td>\n",
              "      <td>0.641</td>\n",
              "      <td>0.1418</td>\n",
              "      <td>0.1385</td>\n",
              "      <td>0.6301</td>\n",
              "      <td>0.7111</td>\n",
              "      <td>0.1836</td>\n",
              "      <td>0.5769</td>\n",
              "      <td>...</td>\n",
              "      <td>0.4084</td>\n",
              "      <td>0.168</td>\n",
              "      <td>0.2971</td>\n",
              "      <td>0.8183</td>\n",
              "      <td>0.3627</td>\n",
              "      <td>0.26</td>\n",
              "      <td>0.2846</td>\n",
              "      <td>0.5258</td>\n",
              "      <td>0.3026</td>\n",
              "      <td>0.5692</td>\n",
              "    </tr>\n",
              "    <tr>\n",
              "      <th>14</th>\n",
              "      <td>1</td>\n",
              "      <td>4.0</td>\n",
              "      <td>0.9324</td>\n",
              "      <td>0.5326</td>\n",
              "      <td>0.6589</td>\n",
              "      <td>0.2548</td>\n",
              "      <td>0.8256</td>\n",
              "      <td>0.8534</td>\n",
              "      <td>0.935</td>\n",
              "      <td>0.4666</td>\n",
              "      <td>...</td>\n",
              "      <td>0.0099</td>\n",
              "      <td>0.865</td>\n",
              "      <td>0.3412</td>\n",
              "      <td>0.9377</td>\n",
              "      <td>0.3999</td>\n",
              "      <td>0.4195</td>\n",
              "      <td>0.3462</td>\n",
              "      <td>0.5679</td>\n",
              "      <td>0.7166</td>\n",
              "      <td>0.1132</td>\n",
              "    </tr>\n",
              "    <tr>\n",
              "      <th>15</th>\n",
              "      <td>1</td>\n",
              "      <td>5.0</td>\n",
              "      <td>0.8794</td>\n",
              "      <td>0.9767</td>\n",
              "      <td>0.3466</td>\n",
              "      <td>0.354</td>\n",
              "      <td>0.228</td>\n",
              "      <td>0.8646</td>\n",
              "      <td>0.2864</td>\n",
              "      <td>0.7606</td>\n",
              "      <td>...</td>\n",
              "      <td>0.3962</td>\n",
              "      <td>0.0471</td>\n",
              "      <td>0.8735</td>\n",
              "      <td>0.5509</td>\n",
              "      <td>0.6695</td>\n",
              "      <td>0.257</td>\n",
              "      <td>0.5096</td>\n",
              "      <td>0.5345</td>\n",
              "      <td>0.547</td>\n",
              "      <td>0.4473</td>\n",
              "    </tr>\n",
              "    <tr>\n",
              "      <th>16</th>\n",
              "      <td>1</td>\n",
              "      <td>6.0</td>\n",
              "      <td>0.8832</td>\n",
              "      <td>0.9665</td>\n",
              "      <td>0.7423</td>\n",
              "      <td>0.4511</td>\n",
              "      <td>0.6319</td>\n",
              "      <td>0.8042</td>\n",
              "      <td>0.2793</td>\n",
              "      <td>0.6086</td>\n",
              "      <td>...</td>\n",
              "      <td>0.3586</td>\n",
              "      <td>0.0811</td>\n",
              "      <td>0.762</td>\n",
              "      <td>0.7324</td>\n",
              "      <td>0.0827</td>\n",
              "      <td>0.9804</td>\n",
              "      <td>0.1287</td>\n",
              "      <td>0.1299</td>\n",
              "      <td>0.8027</td>\n",
              "      <td>0.6284</td>\n",
              "    </tr>\n",
              "    <tr>\n",
              "      <th>17</th>\n",
              "      <td>1</td>\n",
              "      <td>7.0</td>\n",
              "      <td>0.7994</td>\n",
              "      <td>0.0085</td>\n",
              "      <td>0.0867</td>\n",
              "      <td>0.2826</td>\n",
              "      <td>0.5555</td>\n",
              "      <td>0.534</td>\n",
              "      <td>0.1658</td>\n",
              "      <td>0.4708</td>\n",
              "      <td>...</td>\n",
              "      <td>0.427</td>\n",
              "      <td>0.3943</td>\n",
              "      <td>0.0931</td>\n",
              "      <td>0.2443</td>\n",
              "      <td>0.9403</td>\n",
              "      <td>0.4783</td>\n",
              "      <td>0.6029</td>\n",
              "      <td>0.0214</td>\n",
              "      <td>0.2403</td>\n",
              "      <td>0.3354</td>\n",
              "    </tr>\n",
              "    <tr>\n",
              "      <th>18</th>\n",
              "      <td>1</td>\n",
              "      <td>8.0</td>\n",
              "      <td>0.0529</td>\n",
              "      <td>0.1694</td>\n",
              "      <td>0.4128</td>\n",
              "      <td>0.1315</td>\n",
              "      <td>0.9721</td>\n",
              "      <td>0.9899</td>\n",
              "      <td>0.8796</td>\n",
              "      <td>0.9293</td>\n",
              "      <td>...</td>\n",
              "      <td>0.7912</td>\n",
              "      <td>0.9558</td>\n",
              "      <td>0.7626</td>\n",
              "      <td>0.5849</td>\n",
              "      <td>0.5646</td>\n",
              "      <td>0.8403</td>\n",
              "      <td>0.9607</td>\n",
              "      <td>0.9589</td>\n",
              "      <td>0.8822</td>\n",
              "      <td>0.2051</td>\n",
              "    </tr>\n",
              "    <tr>\n",
              "      <th>19</th>\n",
              "      <td>1</td>\n",
              "      <td>9.0</td>\n",
              "      <td>0.848</td>\n",
              "      <td>0.3604</td>\n",
              "      <td>0.808</td>\n",
              "      <td>0.8181</td>\n",
              "      <td>0.6007</td>\n",
              "      <td>0.0921</td>\n",
              "      <td>0.871</td>\n",
              "      <td>0.7188</td>\n",
              "      <td>...</td>\n",
              "      <td>0.9931</td>\n",
              "      <td>0.0538</td>\n",
              "      <td>0.9773</td>\n",
              "      <td>0.2699</td>\n",
              "      <td>0.9068</td>\n",
              "      <td>0.7106</td>\n",
              "      <td>0.0611</td>\n",
              "      <td>0.8626</td>\n",
              "      <td>0.422</td>\n",
              "      <td>0.5948</td>\n",
              "    </tr>\n",
              "    <tr>\n",
              "      <th>20</th>\n",
              "      <td>1</td>\n",
              "      <td>10.0</td>\n",
              "      <td>0.376</td>\n",
              "      <td>0.2622</td>\n",
              "      <td>0.5555</td>\n",
              "      <td>0.2837</td>\n",
              "      <td>0.1444</td>\n",
              "      <td>0.7606</td>\n",
              "      <td>0.1316</td>\n",
              "      <td>0.5048</td>\n",
              "      <td>...</td>\n",
              "      <td>0.772</td>\n",
              "      <td>0.4128</td>\n",
              "      <td>0.4043</td>\n",
              "      <td>0.6029</td>\n",
              "      <td>0.9818</td>\n",
              "      <td>0.771</td>\n",
              "      <td>0.596</td>\n",
              "      <td>0.9843</td>\n",
              "      <td>0.697</td>\n",
              "      <td>0.8146</td>\n",
              "    </tr>\n",
              "    <tr>\n",
              "      <th>21</th>\n",
              "      <td>2</td>\n",
              "      <td>NaN</td>\n",
              "      <td>NaN</td>\n",
              "      <td>NaN</td>\n",
              "      <td>NaN</td>\n",
              "      <td>NaN</td>\n",
              "      <td>NaN</td>\n",
              "      <td>NaN</td>\n",
              "      <td>NaN</td>\n",
              "      <td>NaN</td>\n",
              "      <td>...</td>\n",
              "      <td>NaN</td>\n",
              "      <td>NaN</td>\n",
              "      <td>NaN</td>\n",
              "      <td>NaN</td>\n",
              "      <td>NaN</td>\n",
              "      <td>NaN</td>\n",
              "      <td>NaN</td>\n",
              "      <td>NaN</td>\n",
              "      <td>NaN</td>\n",
              "      <td>NaN</td>\n",
              "    </tr>\n",
              "    <tr>\n",
              "      <th>22</th>\n",
              "      <td>2</td>\n",
              "      <td>1.0</td>\n",
              "      <td>0.8912</td>\n",
              "      <td>0.4076</td>\n",
              "      <td>0.8245</td>\n",
              "      <td>0.7026</td>\n",
              "      <td>0.7784</td>\n",
              "      <td>0.4193</td>\n",
              "      <td>0.0786</td>\n",
              "      <td>0.0406</td>\n",
              "      <td>...</td>\n",
              "      <td>0.3924</td>\n",
              "      <td>0.5904</td>\n",
              "      <td>0.7597</td>\n",
              "      <td>0.162</td>\n",
              "      <td>0.3635</td>\n",
              "      <td>0.7204</td>\n",
              "      <td>0.8827</td>\n",
              "      <td>0.7251</td>\n",
              "      <td>0.0735</td>\n",
              "      <td>0.4344</td>\n",
              "    </tr>\n",
              "    <tr>\n",
              "      <th>23</th>\n",
              "      <td>2</td>\n",
              "      <td>2.0</td>\n",
              "      <td>0.6556</td>\n",
              "      <td>0.8445</td>\n",
              "      <td>0.9791</td>\n",
              "      <td>0.5888</td>\n",
              "      <td>0.5415</td>\n",
              "      <td>0.7938</td>\n",
              "      <td>0.48</td>\n",
              "      <td>0.8979</td>\n",
              "      <td>...</td>\n",
              "      <td>0.4697</td>\n",
              "      <td>0.7482</td>\n",
              "      <td>0.5427</td>\n",
              "      <td>0.9124</td>\n",
              "      <td>0.3356</td>\n",
              "      <td>0.6929</td>\n",
              "      <td>0.2537</td>\n",
              "      <td>0.926</td>\n",
              "      <td>0.4013</td>\n",
              "      <td>0.3644</td>\n",
              "    </tr>\n",
              "    <tr>\n",
              "      <th>24</th>\n",
              "      <td>2</td>\n",
              "      <td>3.0</td>\n",
              "      <td>0.2383</td>\n",
              "      <td>0.1217</td>\n",
              "      <td>0.1959</td>\n",
              "      <td>0.9121</td>\n",
              "      <td>0.144</td>\n",
              "      <td>0.6303</td>\n",
              "      <td>0.5165</td>\n",
              "      <td>0.9884</td>\n",
              "      <td>...</td>\n",
              "      <td>0.6653</td>\n",
              "      <td>0.0016</td>\n",
              "      <td>0.9053</td>\n",
              "      <td>0.824</td>\n",
              "      <td>0.6673</td>\n",
              "      <td>0.7639</td>\n",
              "      <td>0.2938</td>\n",
              "      <td>0.3643</td>\n",
              "      <td>0.3066</td>\n",
              "      <td>0.155</td>\n",
              "    </tr>\n",
              "    <tr>\n",
              "      <th>25</th>\n",
              "      <td>2</td>\n",
              "      <td>4.0</td>\n",
              "      <td>0.6486</td>\n",
              "      <td>0.9995</td>\n",
              "      <td>0.4086</td>\n",
              "      <td>0.5234</td>\n",
              "      <td>0.3496</td>\n",
              "      <td>0.7218</td>\n",
              "      <td>0.7616</td>\n",
              "      <td>0.4714</td>\n",
              "      <td>...</td>\n",
              "      <td>0.2443</td>\n",
              "      <td>0.0313</td>\n",
              "      <td>0.4582</td>\n",
              "      <td>0.7783</td>\n",
              "      <td>0.4079</td>\n",
              "      <td>0.3772</td>\n",
              "      <td>0.4436</td>\n",
              "      <td>0.4096</td>\n",
              "      <td>0.2825</td>\n",
              "      <td>0.2164</td>\n",
              "    </tr>\n",
              "    <tr>\n",
              "      <th>26</th>\n",
              "      <td>2</td>\n",
              "      <td>5.0</td>\n",
              "      <td>0.0256</td>\n",
              "      <td>0.0465</td>\n",
              "      <td>0.4589</td>\n",
              "      <td>0.3899</td>\n",
              "      <td>0.3019</td>\n",
              "      <td>0.6139</td>\n",
              "      <td>0.0385</td>\n",
              "      <td>0.2502</td>\n",
              "      <td>...</td>\n",
              "      <td>0.8436</td>\n",
              "      <td>0.6353</td>\n",
              "      <td>0.1076</td>\n",
              "      <td>0.9826</td>\n",
              "      <td>0.1367</td>\n",
              "      <td>0.2138</td>\n",
              "      <td>0.2269</td>\n",
              "      <td>0.168</td>\n",
              "      <td>0.6208</td>\n",
              "      <td>0.9539</td>\n",
              "    </tr>\n",
              "    <tr>\n",
              "      <th>27</th>\n",
              "      <td>2</td>\n",
              "      <td>6.0</td>\n",
              "      <td>0.5247</td>\n",
              "      <td>0.998</td>\n",
              "      <td>0.3975</td>\n",
              "      <td>0.9343</td>\n",
              "      <td>0.2805</td>\n",
              "      <td>0.5627</td>\n",
              "      <td>0.9086</td>\n",
              "      <td>0.2758</td>\n",
              "      <td>...</td>\n",
              "      <td>0.7965</td>\n",
              "      <td>0.4276</td>\n",
              "      <td>0.1975</td>\n",
              "      <td>0.0175</td>\n",
              "      <td>0.4476</td>\n",
              "      <td>0.7571</td>\n",
              "      <td>0.8611</td>\n",
              "      <td>0.0317</td>\n",
              "      <td>0.8135</td>\n",
              "      <td>0.8437</td>\n",
              "    </tr>\n",
              "    <tr>\n",
              "      <th>28</th>\n",
              "      <td>2</td>\n",
              "      <td>7.0</td>\n",
              "      <td>0.1172</td>\n",
              "      <td>0.976</td>\n",
              "      <td>0.0194</td>\n",
              "      <td>0.2852</td>\n",
              "      <td>0.5968</td>\n",
              "      <td>0.9733</td>\n",
              "      <td>0.8099</td>\n",
              "      <td>0.5435</td>\n",
              "      <td>...</td>\n",
              "      <td>0.8489</td>\n",
              "      <td>0.575</td>\n",
              "      <td>0.437</td>\n",
              "      <td>0.0835</td>\n",
              "      <td>0.3516</td>\n",
              "      <td>0.9414</td>\n",
              "      <td>0.8287</td>\n",
              "      <td>0.728</td>\n",
              "      <td>0.0877</td>\n",
              "      <td>0.8463</td>\n",
              "    </tr>\n",
              "    <tr>\n",
              "      <th>29</th>\n",
              "      <td>2</td>\n",
              "      <td>8.0</td>\n",
              "      <td>0.1756</td>\n",
              "      <td>0.7935</td>\n",
              "      <td>0.7074</td>\n",
              "      <td>0.1561</td>\n",
              "      <td>0.607</td>\n",
              "      <td>0.4999</td>\n",
              "      <td>0.2733</td>\n",
              "      <td>0.5318</td>\n",
              "      <td>...</td>\n",
              "      <td>0.959</td>\n",
              "      <td>0.3937</td>\n",
              "      <td>0.5922</td>\n",
              "      <td>0.5095</td>\n",
              "      <td>0.4422</td>\n",
              "      <td>0.3937</td>\n",
              "      <td>0.3072</td>\n",
              "      <td>0.966</td>\n",
              "      <td>0.8307</td>\n",
              "      <td>0.3907</td>\n",
              "    </tr>\n",
              "    <tr>\n",
              "      <th>30</th>\n",
              "      <td>2</td>\n",
              "      <td>9.0</td>\n",
              "      <td>0.3175</td>\n",
              "      <td>0.7721</td>\n",
              "      <td>0.1682</td>\n",
              "      <td>0.0455</td>\n",
              "      <td>0.8086</td>\n",
              "      <td>0.0145</td>\n",
              "      <td>0.1699</td>\n",
              "      <td>0.6021</td>\n",
              "      <td>...</td>\n",
              "      <td>0.0042</td>\n",
              "      <td>0.7158</td>\n",
              "      <td>0.0803</td>\n",
              "      <td>0.2702</td>\n",
              "      <td>0.3367</td>\n",
              "      <td>0.7901</td>\n",
              "      <td>0.2293</td>\n",
              "      <td>0.7304</td>\n",
              "      <td>0.3312</td>\n",
              "      <td>0.6875</td>\n",
              "    </tr>\n",
              "    <tr>\n",
              "      <th>31</th>\n",
              "      <td>2</td>\n",
              "      <td>10.0</td>\n",
              "      <td>0.1214</td>\n",
              "      <td>0.7249</td>\n",
              "      <td>0.9947</td>\n",
              "      <td>0.0361</td>\n",
              "      <td>0.5556</td>\n",
              "      <td>0.3342</td>\n",
              "      <td>0.3536</td>\n",
              "      <td>0.2765</td>\n",
              "      <td>...</td>\n",
              "      <td>0.7925</td>\n",
              "      <td>0.7939</td>\n",
              "      <td>0.3583</td>\n",
              "      <td>0.2893</td>\n",
              "      <td>0.4324</td>\n",
              "      <td>0.997</td>\n",
              "      <td>0.2935</td>\n",
              "      <td>0.1482</td>\n",
              "      <td>0.0261</td>\n",
              "      <td>0.5637</td>\n",
              "    </tr>\n",
              "    <tr>\n",
              "      <th>32</th>\n",
              "      <td>3</td>\n",
              "      <td>NaN</td>\n",
              "      <td>NaN</td>\n",
              "      <td>NaN</td>\n",
              "      <td>NaN</td>\n",
              "      <td>NaN</td>\n",
              "      <td>NaN</td>\n",
              "      <td>NaN</td>\n",
              "      <td>NaN</td>\n",
              "      <td>NaN</td>\n",
              "      <td>...</td>\n",
              "      <td>NaN</td>\n",
              "      <td>NaN</td>\n",
              "      <td>NaN</td>\n",
              "      <td>NaN</td>\n",
              "      <td>NaN</td>\n",
              "      <td>NaN</td>\n",
              "      <td>NaN</td>\n",
              "      <td>NaN</td>\n",
              "      <td>NaN</td>\n",
              "      <td>NaN</td>\n",
              "    </tr>\n",
              "    <tr>\n",
              "      <th>33</th>\n",
              "      <td>3</td>\n",
              "      <td>1.0</td>\n",
              "      <td>0.4849</td>\n",
              "      <td>0.8162</td>\n",
              "      <td>0.7418</td>\n",
              "      <td>0.164</td>\n",
              "      <td>0.0961</td>\n",
              "      <td>0.4293</td>\n",
              "      <td>0.2342</td>\n",
              "      <td>0.821</td>\n",
              "      <td>...</td>\n",
              "      <td>0.9718</td>\n",
              "      <td>0.5845</td>\n",
              "      <td>0.6752</td>\n",
              "      <td>0.4896</td>\n",
              "      <td>0.1692</td>\n",
              "      <td>0.8116</td>\n",
              "      <td>0.2309</td>\n",
              "      <td>0.9631</td>\n",
              "      <td>0.1186</td>\n",
              "      <td>0.5202</td>\n",
              "    </tr>\n",
              "    <tr>\n",
              "      <th>34</th>\n",
              "      <td>3</td>\n",
              "      <td>2.0</td>\n",
              "      <td>0.3955</td>\n",
              "      <td>0.0644</td>\n",
              "      <td>0.8137</td>\n",
              "      <td>0.5437</td>\n",
              "      <td>0.0905</td>\n",
              "      <td>0.3775</td>\n",
              "      <td>0.9773</td>\n",
              "      <td>0.8554</td>\n",
              "      <td>...</td>\n",
              "      <td>0.5946</td>\n",
              "      <td>0.9955</td>\n",
              "      <td>0.526</td>\n",
              "      <td>0.1673</td>\n",
              "      <td>0.5461</td>\n",
              "      <td>0.6843</td>\n",
              "      <td>0.0879</td>\n",
              "      <td>0.0794</td>\n",
              "      <td>0.3594</td>\n",
              "      <td>0.5263</td>\n",
              "    </tr>\n",
              "    <tr>\n",
              "      <th>35</th>\n",
              "      <td>3</td>\n",
              "      <td>3.0</td>\n",
              "      <td>0.2486</td>\n",
              "      <td>0.1198</td>\n",
              "      <td>0.7571</td>\n",
              "      <td>0.2117</td>\n",
              "      <td>0.2384</td>\n",
              "      <td>0.2774</td>\n",
              "      <td>0.556</td>\n",
              "      <td>0.3028</td>\n",
              "      <td>...</td>\n",
              "      <td>0.1159</td>\n",
              "      <td>0.0465</td>\n",
              "      <td>0.9315</td>\n",
              "      <td>0.4402</td>\n",
              "      <td>0.7679</td>\n",
              "      <td>0.7506</td>\n",
              "      <td>0.9836</td>\n",
              "      <td>0.7633</td>\n",
              "      <td>0.2766</td>\n",
              "      <td>0.0996</td>\n",
              "    </tr>\n",
              "    <tr>\n",
              "      <th>36</th>\n",
              "      <td>3</td>\n",
              "      <td>4.0</td>\n",
              "      <td>0.2582</td>\n",
              "      <td>0.9608</td>\n",
              "      <td>0.1875</td>\n",
              "      <td>0.3376</td>\n",
              "      <td>0.269</td>\n",
              "      <td>0.6626</td>\n",
              "      <td>0.5349</td>\n",
              "      <td>0.3888</td>\n",
              "      <td>...</td>\n",
              "      <td>0.2997</td>\n",
              "      <td>0.1695</td>\n",
              "      <td>0.0518</td>\n",
              "      <td>0.3255</td>\n",
              "      <td>0.2644</td>\n",
              "      <td>0.486</td>\n",
              "      <td>0.4414</td>\n",
              "      <td>0.311</td>\n",
              "      <td>0.3663</td>\n",
              "      <td>0.8303</td>\n",
              "    </tr>\n",
              "    <tr>\n",
              "      <th>37</th>\n",
              "      <td>3</td>\n",
              "      <td>5.0</td>\n",
              "      <td>0.0788</td>\n",
              "      <td>0.1169</td>\n",
              "      <td>0.8139</td>\n",
              "      <td>0.791</td>\n",
              "      <td>0.3422</td>\n",
              "      <td>0.9135</td>\n",
              "      <td>0.0492</td>\n",
              "      <td>0.2519</td>\n",
              "      <td>...</td>\n",
              "      <td>0.5146</td>\n",
              "      <td>0.3832</td>\n",
              "      <td>0.7268</td>\n",
              "      <td>0.7659</td>\n",
              "      <td>0.2106</td>\n",
              "      <td>0.4126</td>\n",
              "      <td>0.0145</td>\n",
              "      <td>0.3289</td>\n",
              "      <td>0.4132</td>\n",
              "      <td>0.2887</td>\n",
              "    </tr>\n",
              "    <tr>\n",
              "      <th>38</th>\n",
              "      <td>3</td>\n",
              "      <td>6.0</td>\n",
              "      <td>0.5933</td>\n",
              "      <td>0.8991</td>\n",
              "      <td>0.7301</td>\n",
              "      <td>0.9043</td>\n",
              "      <td>0.2655</td>\n",
              "      <td>0.5091</td>\n",
              "      <td>0.9831</td>\n",
              "      <td>0.3311</td>\n",
              "      <td>...</td>\n",
              "      <td>0.0563</td>\n",
              "      <td>0.3436</td>\n",
              "      <td>0.9475</td>\n",
              "      <td>0.8755</td>\n",
              "      <td>0.1509</td>\n",
              "      <td>0.0285</td>\n",
              "      <td>0.3901</td>\n",
              "      <td>0.5341</td>\n",
              "      <td>0.704</td>\n",
              "      <td>0.1048</td>\n",
              "    </tr>\n",
              "    <tr>\n",
              "      <th>39</th>\n",
              "      <td>3</td>\n",
              "      <td>7.0</td>\n",
              "      <td>0.7447</td>\n",
              "      <td>0.1166</td>\n",
              "      <td>0.1193</td>\n",
              "      <td>0.0736</td>\n",
              "      <td>0.4785</td>\n",
              "      <td>0.408</td>\n",
              "      <td>0.6669</td>\n",
              "      <td>0.3777</td>\n",
              "      <td>...</td>\n",
              "      <td>0.2259</td>\n",
              "      <td>0.4939</td>\n",
              "      <td>0.0019</td>\n",
              "      <td>0.8954</td>\n",
              "      <td>0.3679</td>\n",
              "      <td>0.237</td>\n",
              "      <td>0.9517</td>\n",
              "      <td>0.7115</td>\n",
              "      <td>0.1333</td>\n",
              "      <td>0.776</td>\n",
              "    </tr>\n",
              "    <tr>\n",
              "      <th>40</th>\n",
              "      <td>3</td>\n",
              "      <td>8.0</td>\n",
              "      <td>0.8624</td>\n",
              "      <td>0.1105</td>\n",
              "      <td>0.1149</td>\n",
              "      <td>0.3964</td>\n",
              "      <td>0.8146</td>\n",
              "      <td>0.2197</td>\n",
              "      <td>0.0899</td>\n",
              "      <td>0.8799</td>\n",
              "      <td>...</td>\n",
              "      <td>0.299</td>\n",
              "      <td>0.2256</td>\n",
              "      <td>0.2762</td>\n",
              "      <td>0.8021</td>\n",
              "      <td>0.0974</td>\n",
              "      <td>0.0928</td>\n",
              "      <td>0.9767</td>\n",
              "      <td>0.5913</td>\n",
              "      <td>0.0434</td>\n",
              "      <td>0.8721</td>\n",
              "    </tr>\n",
              "    <tr>\n",
              "      <th>41</th>\n",
              "      <td>3</td>\n",
              "      <td>9.0</td>\n",
              "      <td>0.9079</td>\n",
              "      <td>0.2804</td>\n",
              "      <td>0.7726</td>\n",
              "      <td>0.5682</td>\n",
              "      <td>0.3625</td>\n",
              "      <td>0.5486</td>\n",
              "      <td>0.4306</td>\n",
              "      <td>0.4217</td>\n",
              "      <td>...</td>\n",
              "      <td>0.978</td>\n",
              "      <td>0.3722</td>\n",
              "      <td>0.7132</td>\n",
              "      <td>0.7571</td>\n",
              "      <td>0.0059</td>\n",
              "      <td>0.3935</td>\n",
              "      <td>0.0562</td>\n",
              "      <td>0.2315</td>\n",
              "      <td>0.6185</td>\n",
              "      <td>0.807</td>\n",
              "    </tr>\n",
              "    <tr>\n",
              "      <th>42</th>\n",
              "      <td>3</td>\n",
              "      <td>10.0</td>\n",
              "      <td>0.2777</td>\n",
              "      <td>0.7113</td>\n",
              "      <td>0.7325</td>\n",
              "      <td>0.8177</td>\n",
              "      <td>0.7547</td>\n",
              "      <td>0.5533</td>\n",
              "      <td>0.7257</td>\n",
              "      <td>0.9839</td>\n",
              "      <td>...</td>\n",
              "      <td>0.449</td>\n",
              "      <td>0.8507</td>\n",
              "      <td>0.2165</td>\n",
              "      <td>0.2635</td>\n",
              "      <td>0.9157</td>\n",
              "      <td>0.2851</td>\n",
              "      <td>0.1902</td>\n",
              "      <td>0.2367</td>\n",
              "      <td>0.9471</td>\n",
              "      <td>0.8961</td>\n",
              "    </tr>\n",
              "    <tr>\n",
              "      <th>43</th>\n",
              "      <td>1</td>\n",
              "      <td>NaN</td>\n",
              "      <td>NaN</td>\n",
              "      <td>NaN</td>\n",
              "      <td>NaN</td>\n",
              "      <td>NaN</td>\n",
              "      <td>NaN</td>\n",
              "      <td>NaN</td>\n",
              "      <td>NaN</td>\n",
              "      <td>NaN</td>\n",
              "      <td>...</td>\n",
              "      <td>NaN</td>\n",
              "      <td>NaN</td>\n",
              "      <td>NaN</td>\n",
              "      <td>NaN</td>\n",
              "      <td>NaN</td>\n",
              "      <td>NaN</td>\n",
              "      <td>NaN</td>\n",
              "      <td>NaN</td>\n",
              "      <td>NaN</td>\n",
              "      <td>NaN</td>\n",
              "    </tr>\n",
              "    <tr>\n",
              "      <th>44</th>\n",
              "      <td>4</td>\n",
              "      <td>1.0</td>\n",
              "      <td>0.2426</td>\n",
              "      <td>0.3405</td>\n",
              "      <td>0.9523</td>\n",
              "      <td>0.4741</td>\n",
              "      <td>0.9078</td>\n",
              "      <td>0.7081</td>\n",
              "      <td>0.7006</td>\n",
              "      <td>0.5678</td>\n",
              "      <td>...</td>\n",
              "      <td>0.4866</td>\n",
              "      <td>0.4991</td>\n",
              "      <td>0.092</td>\n",
              "      <td>0.1086</td>\n",
              "      <td>0.1648</td>\n",
              "      <td>0.4764</td>\n",
              "      <td>0.5064</td>\n",
              "      <td>0.0154</td>\n",
              "      <td>0.6928</td>\n",
              "      <td>0.7698</td>\n",
              "    </tr>\n",
              "    <tr>\n",
              "      <th>45</th>\n",
              "      <td>4</td>\n",
              "      <td>2.0</td>\n",
              "      <td>0.8799</td>\n",
              "      <td>0.9267</td>\n",
              "      <td>0.9088</td>\n",
              "      <td>0.1166</td>\n",
              "      <td>0.8225</td>\n",
              "      <td>0.8049</td>\n",
              "      <td>0.3079</td>\n",
              "      <td>0.1119</td>\n",
              "      <td>...</td>\n",
              "      <td>0.9497</td>\n",
              "      <td>0.8588</td>\n",
              "      <td>0.746</td>\n",
              "      <td>0.1425</td>\n",
              "      <td>0.0628</td>\n",
              "      <td>0.9634</td>\n",
              "      <td>0.5779</td>\n",
              "      <td>0.5619</td>\n",
              "      <td>0.0554</td>\n",
              "      <td>0.6865</td>\n",
              "    </tr>\n",
              "    <tr>\n",
              "      <th>46</th>\n",
              "      <td>4</td>\n",
              "      <td>3.0</td>\n",
              "      <td>0.6755</td>\n",
              "      <td>0.4805</td>\n",
              "      <td>0.1929</td>\n",
              "      <td>0.6909</td>\n",
              "      <td>0.1221</td>\n",
              "      <td>0.9114</td>\n",
              "      <td>0.5196</td>\n",
              "      <td>0.9976</td>\n",
              "      <td>...</td>\n",
              "      <td>0.6236</td>\n",
              "      <td>0.9516</td>\n",
              "      <td>0.694</td>\n",
              "      <td>0.055</td>\n",
              "      <td>0.5391</td>\n",
              "      <td>0.4462</td>\n",
              "      <td>0.9535</td>\n",
              "      <td>0.3979</td>\n",
              "      <td>0.1922</td>\n",
              "      <td>0.0448</td>\n",
              "    </tr>\n",
              "    <tr>\n",
              "      <th>47</th>\n",
              "      <td>4</td>\n",
              "      <td>4.0</td>\n",
              "      <td>0.4607</td>\n",
              "      <td>0.1556</td>\n",
              "      <td>0.5714</td>\n",
              "      <td>0.9714</td>\n",
              "      <td>0.1598</td>\n",
              "      <td>0.2579</td>\n",
              "      <td>0.6469</td>\n",
              "      <td>0.589</td>\n",
              "      <td>...</td>\n",
              "      <td>0.3398</td>\n",
              "      <td>0.5289</td>\n",
              "      <td>0.654</td>\n",
              "      <td>0.2326</td>\n",
              "      <td>0.4096</td>\n",
              "      <td>0.934</td>\n",
              "      <td>0.8562</td>\n",
              "      <td>0.3613</td>\n",
              "      <td>0.5768</td>\n",
              "      <td>0.86</td>\n",
              "    </tr>\n",
              "    <tr>\n",
              "      <th>48</th>\n",
              "      <td>4</td>\n",
              "      <td>5.0</td>\n",
              "      <td>0.8491</td>\n",
              "      <td>0.023</td>\n",
              "      <td>0.7622</td>\n",
              "      <td>0.1958</td>\n",
              "      <td>0.164</td>\n",
              "      <td>0.807</td>\n",
              "      <td>0.6053</td>\n",
              "      <td>0.3196</td>\n",
              "      <td>...</td>\n",
              "      <td>0.4078</td>\n",
              "      <td>0.6771</td>\n",
              "      <td>0.1933</td>\n",
              "      <td>0.1627</td>\n",
              "      <td>0.3858</td>\n",
              "      <td>0.2222</td>\n",
              "      <td>0.5025</td>\n",
              "      <td>0.8635</td>\n",
              "      <td>0.825</td>\n",
              "      <td>0.6839</td>\n",
              "    </tr>\n",
              "    <tr>\n",
              "      <th>49</th>\n",
              "      <td>4</td>\n",
              "      <td>6.0</td>\n",
              "      <td>0.2731</td>\n",
              "      <td>0.7078</td>\n",
              "      <td>0.4889</td>\n",
              "      <td>0.5831</td>\n",
              "      <td>0.2846</td>\n",
              "      <td>0.3489</td>\n",
              "      <td>0.4323</td>\n",
              "      <td>0.2563</td>\n",
              "      <td>...</td>\n",
              "      <td>0.7078</td>\n",
              "      <td>0.1169</td>\n",
              "      <td>0.7793</td>\n",
              "      <td>0.829</td>\n",
              "      <td>0.0828</td>\n",
              "      <td>0.6616</td>\n",
              "      <td>0.2368</td>\n",
              "      <td>0.7599</td>\n",
              "      <td>0.8037</td>\n",
              "      <td>0.3484</td>\n",
              "    </tr>\n",
              "    <tr>\n",
              "      <th>50</th>\n",
              "      <td>4</td>\n",
              "      <td>7.0</td>\n",
              "      <td>0.0945</td>\n",
              "      <td>0.9747</td>\n",
              "      <td>0.7997</td>\n",
              "      <td>0.9068</td>\n",
              "      <td>0.7996</td>\n",
              "      <td>0.4836</td>\n",
              "      <td>0.1799</td>\n",
              "      <td>0.4562</td>\n",
              "      <td>...</td>\n",
              "      <td>0.6697</td>\n",
              "      <td>0.3662</td>\n",
              "      <td>0.197</td>\n",
              "      <td>0.852</td>\n",
              "      <td>0.0037</td>\n",
              "      <td>0.3912</td>\n",
              "      <td>0.5085</td>\n",
              "      <td>0.0693</td>\n",
              "      <td>0.1193</td>\n",
              "      <td>0.2863</td>\n",
              "    </tr>\n",
              "    <tr>\n",
              "      <th>51</th>\n",
              "      <td>4</td>\n",
              "      <td>8.0</td>\n",
              "      <td>0.1521</td>\n",
              "      <td>0.7297</td>\n",
              "      <td>0.4719</td>\n",
              "      <td>0.8608</td>\n",
              "      <td>0.5334</td>\n",
              "      <td>0.8203</td>\n",
              "      <td>0.9041</td>\n",
              "      <td>0.5081</td>\n",
              "      <td>...</td>\n",
              "      <td>0.6514</td>\n",
              "      <td>0.351</td>\n",
              "      <td>0.295</td>\n",
              "      <td>0.7442</td>\n",
              "      <td>0.2969</td>\n",
              "      <td>0.5738</td>\n",
              "      <td>0.414</td>\n",
              "      <td>0.6118</td>\n",
              "      <td>0.7708</td>\n",
              "      <td>0.2147</td>\n",
              "    </tr>\n",
              "    <tr>\n",
              "      <th>52</th>\n",
              "      <td>4</td>\n",
              "      <td>9.0</td>\n",
              "      <td>0.6155</td>\n",
              "      <td>0.1108</td>\n",
              "      <td>0.672</td>\n",
              "      <td>0.6335</td>\n",
              "      <td>0.2301</td>\n",
              "      <td>0.9583</td>\n",
              "      <td>0.7856</td>\n",
              "      <td>0.9086</td>\n",
              "      <td>...</td>\n",
              "      <td>0.259</td>\n",
              "      <td>0.1555</td>\n",
              "      <td>0.8203</td>\n",
              "      <td>0.1473</td>\n",
              "      <td>0.8169</td>\n",
              "      <td>0.8451</td>\n",
              "      <td>0.7987</td>\n",
              "      <td>0.1679</td>\n",
              "      <td>0.0888</td>\n",
              "      <td>0.543</td>\n",
              "    </tr>\n",
              "    <tr>\n",
              "      <th>53</th>\n",
              "      <td>4</td>\n",
              "      <td>10.0</td>\n",
              "      <td>0.4136</td>\n",
              "      <td>0.6626</td>\n",
              "      <td>0.9569</td>\n",
              "      <td>0.9741</td>\n",
              "      <td>0.3823</td>\n",
              "      <td>0.1204</td>\n",
              "      <td>0.5896</td>\n",
              "      <td>0.4931</td>\n",
              "      <td>...</td>\n",
              "      <td>0.5016</td>\n",
              "      <td>0.0226</td>\n",
              "      <td>0.3803</td>\n",
              "      <td>0.8984</td>\n",
              "      <td>0.9216</td>\n",
              "      <td>0.1483</td>\n",
              "      <td>0.1575</td>\n",
              "      <td>0.077</td>\n",
              "      <td>0.9685</td>\n",
              "      <td>0.2536</td>\n",
              "    </tr>\n",
              "    <tr>\n",
              "      <th>54</th>\n",
              "      <td>1</td>\n",
              "      <td>NaN</td>\n",
              "      <td>NaN</td>\n",
              "      <td>NaN</td>\n",
              "      <td>NaN</td>\n",
              "      <td>NaN</td>\n",
              "      <td>NaN</td>\n",
              "      <td>NaN</td>\n",
              "      <td>NaN</td>\n",
              "      <td>NaN</td>\n",
              "      <td>...</td>\n",
              "      <td>NaN</td>\n",
              "      <td>NaN</td>\n",
              "      <td>NaN</td>\n",
              "      <td>NaN</td>\n",
              "      <td>NaN</td>\n",
              "      <td>NaN</td>\n",
              "      <td>NaN</td>\n",
              "      <td>NaN</td>\n",
              "      <td>NaN</td>\n",
              "      <td>NaN</td>\n",
              "    </tr>\n",
              "    <tr>\n",
              "      <th>55</th>\n",
              "      <td>5</td>\n",
              "      <td>1.0</td>\n",
              "      <td>0.894</td>\n",
              "      <td>0.7624</td>\n",
              "      <td>0.0523</td>\n",
              "      <td>0.0107</td>\n",
              "      <td>0.8</td>\n",
              "      <td>0.5953</td>\n",
              "      <td>0.4242</td>\n",
              "      <td>0.4626</td>\n",
              "      <td>...</td>\n",
              "      <td>0.1087</td>\n",
              "      <td>0.9075</td>\n",
              "      <td>0.1646</td>\n",
              "      <td>0.0151</td>\n",
              "      <td>0.4881</td>\n",
              "      <td>0.2944</td>\n",
              "      <td>0.4654</td>\n",
              "      <td>0.4595</td>\n",
              "      <td>0.6234</td>\n",
              "      <td>0.3639</td>\n",
              "    </tr>\n",
              "    <tr>\n",
              "      <th>56</th>\n",
              "      <td>5</td>\n",
              "      <td>2.0</td>\n",
              "      <td>0.3299</td>\n",
              "      <td>0.7204</td>\n",
              "      <td>0.4701</td>\n",
              "      <td>0.4069</td>\n",
              "      <td>0.6889</td>\n",
              "      <td>0.7237</td>\n",
              "      <td>0.2496</td>\n",
              "      <td>0.4001</td>\n",
              "      <td>...</td>\n",
              "      <td>0.0317</td>\n",
              "      <td>0.4052</td>\n",
              "      <td>0.3911</td>\n",
              "      <td>0.9685</td>\n",
              "      <td>0.692</td>\n",
              "      <td>0.805</td>\n",
              "      <td>0.026</td>\n",
              "      <td>0.5995</td>\n",
              "      <td>0.9183</td>\n",
              "      <td>0.0411</td>\n",
              "    </tr>\n",
              "    <tr>\n",
              "      <th>57</th>\n",
              "      <td>5</td>\n",
              "      <td>3.0</td>\n",
              "      <td>0.0364</td>\n",
              "      <td>0.1615</td>\n",
              "      <td>0.5065</td>\n",
              "      <td>0.4959</td>\n",
              "      <td>0.7336</td>\n",
              "      <td>0.8191</td>\n",
              "      <td>0.7745</td>\n",
              "      <td>0.454</td>\n",
              "      <td>...</td>\n",
              "      <td>0.6402</td>\n",
              "      <td>0.6407</td>\n",
              "      <td>0.0576</td>\n",
              "      <td>0.2735</td>\n",
              "      <td>0.2523</td>\n",
              "      <td>0.8785</td>\n",
              "      <td>0.254</td>\n",
              "      <td>0.6062</td>\n",
              "      <td>0.2184</td>\n",
              "      <td>0.2225</td>\n",
              "    </tr>\n",
              "    <tr>\n",
              "      <th>58</th>\n",
              "      <td>5</td>\n",
              "      <td>4.0</td>\n",
              "      <td>0.247</td>\n",
              "      <td>0.9722</td>\n",
              "      <td>0.1973</td>\n",
              "      <td>0.7953</td>\n",
              "      <td>0.8393</td>\n",
              "      <td>0.2383</td>\n",
              "      <td>0.8317</td>\n",
              "      <td>0.9495</td>\n",
              "      <td>...</td>\n",
              "      <td>0.1811</td>\n",
              "      <td>0.1777</td>\n",
              "      <td>0.7635</td>\n",
              "      <td>0.561</td>\n",
              "      <td>0.5671</td>\n",
              "      <td>0.5011</td>\n",
              "      <td>0.1499</td>\n",
              "      <td>0.2078</td>\n",
              "      <td>0.5586</td>\n",
              "      <td>0.3722</td>\n",
              "    </tr>\n",
              "    <tr>\n",
              "      <th>59</th>\n",
              "      <td>5</td>\n",
              "      <td>5.0</td>\n",
              "      <td>0.4088</td>\n",
              "      <td>0.3859</td>\n",
              "      <td>0.6262</td>\n",
              "      <td>0.0151</td>\n",
              "      <td>0.6043</td>\n",
              "      <td>0.7975</td>\n",
              "      <td>0.2108</td>\n",
              "      <td>0.5253</td>\n",
              "      <td>...</td>\n",
              "      <td>0.0629</td>\n",
              "      <td>0.946</td>\n",
              "      <td>0.3369</td>\n",
              "      <td>0.0626</td>\n",
              "      <td>0.0319</td>\n",
              "      <td>0.0363</td>\n",
              "      <td>0.1925</td>\n",
              "      <td>0.1584</td>\n",
              "      <td>0.7998</td>\n",
              "      <td>0.7535</td>\n",
              "    </tr>\n",
              "  </tbody>\n",
              "</table>\n",
              "<p>60 rows × 27 columns</p>\n",
              "</div>\n",
              "      <button class=\"colab-df-convert\" onclick=\"convertToInteractive('df-1b84fb2c-671c-45db-9b94-d16e5d22ffba')\"\n",
              "              title=\"Convert this dataframe to an interactive table.\"\n",
              "              style=\"display:none;\">\n",
              "        \n",
              "  <svg xmlns=\"http://www.w3.org/2000/svg\" height=\"24px\"viewBox=\"0 0 24 24\"\n",
              "       width=\"24px\">\n",
              "    <path d=\"M0 0h24v24H0V0z\" fill=\"none\"/>\n",
              "    <path d=\"M18.56 5.44l.94 2.06.94-2.06 2.06-.94-2.06-.94-.94-2.06-.94 2.06-2.06.94zm-11 1L8.5 8.5l.94-2.06 2.06-.94-2.06-.94L8.5 2.5l-.94 2.06-2.06.94zm10 10l.94 2.06.94-2.06 2.06-.94-2.06-.94-.94-2.06-.94 2.06-2.06.94z\"/><path d=\"M17.41 7.96l-1.37-1.37c-.4-.4-.92-.59-1.43-.59-.52 0-1.04.2-1.43.59L10.3 9.45l-7.72 7.72c-.78.78-.78 2.05 0 2.83L4 21.41c.39.39.9.59 1.41.59.51 0 1.02-.2 1.41-.59l7.78-7.78 2.81-2.81c.8-.78.8-2.07 0-2.86zM5.41 20L4 18.59l7.72-7.72 1.47 1.35L5.41 20z\"/>\n",
              "  </svg>\n",
              "      </button>\n",
              "      \n",
              "  <style>\n",
              "    .colab-df-container {\n",
              "      display:flex;\n",
              "      flex-wrap:wrap;\n",
              "      gap: 12px;\n",
              "    }\n",
              "\n",
              "    .colab-df-convert {\n",
              "      background-color: #E8F0FE;\n",
              "      border: none;\n",
              "      border-radius: 50%;\n",
              "      cursor: pointer;\n",
              "      display: none;\n",
              "      fill: #1967D2;\n",
              "      height: 32px;\n",
              "      padding: 0 0 0 0;\n",
              "      width: 32px;\n",
              "    }\n",
              "\n",
              "    .colab-df-convert:hover {\n",
              "      background-color: #E2EBFA;\n",
              "      box-shadow: 0px 1px 2px rgba(60, 64, 67, 0.3), 0px 1px 3px 1px rgba(60, 64, 67, 0.15);\n",
              "      fill: #174EA6;\n",
              "    }\n",
              "\n",
              "    [theme=dark] .colab-df-convert {\n",
              "      background-color: #3B4455;\n",
              "      fill: #D2E3FC;\n",
              "    }\n",
              "\n",
              "    [theme=dark] .colab-df-convert:hover {\n",
              "      background-color: #434B5C;\n",
              "      box-shadow: 0px 1px 3px 1px rgba(0, 0, 0, 0.15);\n",
              "      filter: drop-shadow(0px 1px 2px rgba(0, 0, 0, 0.3));\n",
              "      fill: #FFFFFF;\n",
              "    }\n",
              "  </style>\n",
              "\n",
              "      <script>\n",
              "        const buttonEl =\n",
              "          document.querySelector('#df-1b84fb2c-671c-45db-9b94-d16e5d22ffba button.colab-df-convert');\n",
              "        buttonEl.style.display =\n",
              "          google.colab.kernel.accessAllowed ? 'block' : 'none';\n",
              "\n",
              "        async function convertToInteractive(key) {\n",
              "          const element = document.querySelector('#df-1b84fb2c-671c-45db-9b94-d16e5d22ffba');\n",
              "          const dataTable =\n",
              "            await google.colab.kernel.invokeFunction('convertToInteractive',\n",
              "                                                     [key], {});\n",
              "          if (!dataTable) return;\n",
              "\n",
              "          const docLinkHtml = 'Like what you see? Visit the ' +\n",
              "            '<a target=\"_blank\" href=https://colab.research.google.com/notebooks/data_table.ipynb>data table notebook</a>'\n",
              "            + ' to learn more about interactive tables.';\n",
              "          element.innerHTML = '';\n",
              "          dataTable['output_type'] = 'display_data';\n",
              "          await google.colab.output.renderOutput(dataTable, element);\n",
              "          const docLink = document.createElement('div');\n",
              "          docLink.innerHTML = docLinkHtml;\n",
              "          element.appendChild(docLink);\n",
              "        }\n",
              "      </script>\n",
              "    </div>\n",
              "  </div>\n",
              "  "
            ],
            "text/plain": [
              "   SampleID Timestamp       1       2       3       4       5       6       7  \\\n",
              "0         0         1  0.4337  0.7431  0.9390  0.7541  0.9035  0.7943  0.2622   \n",
              "1         0       2.0  0.7859  0.1925  0.9024  0.8108  0.2016  0.9649  0.2445   \n",
              "2         0       3.0  0.0512  0.9633  0.1423  0.8404  0.6654  0.4348  0.5751   \n",
              "3         0       4.0  0.0413  0.1588  0.1675  0.0971  0.2918   0.197  0.0971   \n",
              "4         0       5.0  0.7042  0.4724  0.3901  0.2793  0.2522  0.1933  0.2694   \n",
              "5         0       6.0  0.9538  0.3029  0.4227  0.7774  0.5194  0.7531  0.4816   \n",
              "6         0       7.0  0.6729  0.9906  0.8604  0.2969  0.8278   0.484  0.2507   \n",
              "7         0       8.0  0.3945  0.4753   0.642  0.9227  0.8885  0.1002  0.5443   \n",
              "8         0       9.0  0.7368  0.8174   0.875   0.123   0.397  0.7676  0.5175   \n",
              "9         0      10.0  0.6752  0.1698  0.6974  0.1273   0.509  0.3354  0.8128   \n",
              "10        1       NaN     NaN     NaN     NaN     NaN     NaN     NaN     NaN   \n",
              "11        1       1.0  0.4013  0.6779  0.9426  0.3566  0.3919  0.0981  0.9805   \n",
              "12        1       2.0  0.0451   0.998  0.0685  0.7227  0.6657  0.2293   0.124   \n",
              "13        1       3.0  0.6802   0.641  0.1418  0.1385  0.6301  0.7111  0.1836   \n",
              "14        1       4.0  0.9324  0.5326  0.6589  0.2548  0.8256  0.8534   0.935   \n",
              "15        1       5.0  0.8794  0.9767  0.3466   0.354   0.228  0.8646  0.2864   \n",
              "16        1       6.0  0.8832  0.9665  0.7423  0.4511  0.6319  0.8042  0.2793   \n",
              "17        1       7.0  0.7994  0.0085  0.0867  0.2826  0.5555   0.534  0.1658   \n",
              "18        1       8.0  0.0529  0.1694  0.4128  0.1315  0.9721  0.9899  0.8796   \n",
              "19        1       9.0   0.848  0.3604   0.808  0.8181  0.6007  0.0921   0.871   \n",
              "20        1      10.0   0.376  0.2622  0.5555  0.2837  0.1444  0.7606  0.1316   \n",
              "21        2       NaN     NaN     NaN     NaN     NaN     NaN     NaN     NaN   \n",
              "22        2       1.0  0.8912  0.4076  0.8245  0.7026  0.7784  0.4193  0.0786   \n",
              "23        2       2.0  0.6556  0.8445  0.9791  0.5888  0.5415  0.7938    0.48   \n",
              "24        2       3.0  0.2383  0.1217  0.1959  0.9121   0.144  0.6303  0.5165   \n",
              "25        2       4.0  0.6486  0.9995  0.4086  0.5234  0.3496  0.7218  0.7616   \n",
              "26        2       5.0  0.0256  0.0465  0.4589  0.3899  0.3019  0.6139  0.0385   \n",
              "27        2       6.0  0.5247   0.998  0.3975  0.9343  0.2805  0.5627  0.9086   \n",
              "28        2       7.0  0.1172   0.976  0.0194  0.2852  0.5968  0.9733  0.8099   \n",
              "29        2       8.0  0.1756  0.7935  0.7074  0.1561   0.607  0.4999  0.2733   \n",
              "30        2       9.0  0.3175  0.7721  0.1682  0.0455  0.8086  0.0145  0.1699   \n",
              "31        2      10.0  0.1214  0.7249  0.9947  0.0361  0.5556  0.3342  0.3536   \n",
              "32        3       NaN     NaN     NaN     NaN     NaN     NaN     NaN     NaN   \n",
              "33        3       1.0  0.4849  0.8162  0.7418   0.164  0.0961  0.4293  0.2342   \n",
              "34        3       2.0  0.3955  0.0644  0.8137  0.5437  0.0905  0.3775  0.9773   \n",
              "35        3       3.0  0.2486  0.1198  0.7571  0.2117  0.2384  0.2774   0.556   \n",
              "36        3       4.0  0.2582  0.9608  0.1875  0.3376   0.269  0.6626  0.5349   \n",
              "37        3       5.0  0.0788  0.1169  0.8139   0.791  0.3422  0.9135  0.0492   \n",
              "38        3       6.0  0.5933  0.8991  0.7301  0.9043  0.2655  0.5091  0.9831   \n",
              "39        3       7.0  0.7447  0.1166  0.1193  0.0736  0.4785   0.408  0.6669   \n",
              "40        3       8.0  0.8624  0.1105  0.1149  0.3964  0.8146  0.2197  0.0899   \n",
              "41        3       9.0  0.9079  0.2804  0.7726  0.5682  0.3625  0.5486  0.4306   \n",
              "42        3      10.0  0.2777  0.7113  0.7325  0.8177  0.7547  0.5533  0.7257   \n",
              "43        1       NaN     NaN     NaN     NaN     NaN     NaN     NaN     NaN   \n",
              "44        4       1.0  0.2426  0.3405  0.9523  0.4741  0.9078  0.7081  0.7006   \n",
              "45        4       2.0  0.8799  0.9267  0.9088  0.1166  0.8225  0.8049  0.3079   \n",
              "46        4       3.0  0.6755  0.4805  0.1929  0.6909  0.1221  0.9114  0.5196   \n",
              "47        4       4.0  0.4607  0.1556  0.5714  0.9714  0.1598  0.2579  0.6469   \n",
              "48        4       5.0  0.8491   0.023  0.7622  0.1958   0.164   0.807  0.6053   \n",
              "49        4       6.0  0.2731  0.7078  0.4889  0.5831  0.2846  0.3489  0.4323   \n",
              "50        4       7.0  0.0945  0.9747  0.7997  0.9068  0.7996  0.4836  0.1799   \n",
              "51        4       8.0  0.1521  0.7297  0.4719  0.8608  0.5334  0.8203  0.9041   \n",
              "52        4       9.0  0.6155  0.1108   0.672  0.6335  0.2301  0.9583  0.7856   \n",
              "53        4      10.0  0.4136  0.6626  0.9569  0.9741  0.3823  0.1204  0.5896   \n",
              "54        1       NaN     NaN     NaN     NaN     NaN     NaN     NaN     NaN   \n",
              "55        5       1.0   0.894  0.7624  0.0523  0.0107     0.8  0.5953  0.4242   \n",
              "56        5       2.0  0.3299  0.7204  0.4701  0.4069  0.6889  0.7237  0.2496   \n",
              "57        5       3.0  0.0364  0.1615  0.5065  0.4959  0.7336  0.8191  0.7745   \n",
              "58        5       4.0   0.247  0.9722  0.1973  0.7953  0.8393  0.2383  0.8317   \n",
              "59        5       5.0  0.4088  0.3859  0.6262  0.0151  0.6043  0.7975  0.2108   \n",
              "\n",
              "         8  ...      16      17      18      19      20      21      22  \\\n",
              "0   0.5901  ...  0.5696  0.6407  0.7027  0.7163  0.9954  0.8303  0.1641   \n",
              "1   0.8934  ...  0.4259  0.7456   0.575  0.7947  0.4663  0.4303  0.3643   \n",
              "2   0.8067  ...  0.4753  0.5449  0.8531  0.6337  0.8807   0.256  0.0597   \n",
              "3   0.2039  ...  0.7959  0.5306  0.3109  0.2726  0.3298  0.4658  0.7479   \n",
              "4    0.411  ...  0.2474  0.5711  0.5686  0.6575  0.1447  0.5774  0.4022   \n",
              "5   0.9918  ...  0.2433   0.204  0.1013  0.6044   0.957  0.8958  0.8006   \n",
              "6   0.0795  ...  0.1682  0.7322  0.9347  0.0961  0.2847  0.4782  0.2882   \n",
              "7   0.8279  ...  0.0176  0.2317  0.8063  0.4249  0.7711  0.4558  0.5419   \n",
              "8   0.8211  ...  0.7746  0.0908    0.71  0.7641  0.7748  0.9589  0.7818   \n",
              "9   0.2753  ...  0.7912  0.1517  0.6923  0.7245   0.638  0.0089  0.4479   \n",
              "10     NaN  ...     NaN     NaN     NaN     NaN     NaN     NaN     NaN   \n",
              "11  0.5617  ...  0.7539  0.9158  0.1142  0.1561  0.3578   0.348  0.9472   \n",
              "12  0.2924  ...  0.5176  0.1631  0.0425  0.3357  0.4578    0.23  0.0897   \n",
              "13  0.5769  ...  0.4084   0.168  0.2971  0.8183  0.3627    0.26  0.2846   \n",
              "14  0.4666  ...  0.0099   0.865  0.3412  0.9377  0.3999  0.4195  0.3462   \n",
              "15  0.7606  ...  0.3962  0.0471  0.8735  0.5509  0.6695   0.257  0.5096   \n",
              "16  0.6086  ...  0.3586  0.0811   0.762  0.7324  0.0827  0.9804  0.1287   \n",
              "17  0.4708  ...   0.427  0.3943  0.0931  0.2443  0.9403  0.4783  0.6029   \n",
              "18  0.9293  ...  0.7912  0.9558  0.7626  0.5849  0.5646  0.8403  0.9607   \n",
              "19  0.7188  ...  0.9931  0.0538  0.9773  0.2699  0.9068  0.7106  0.0611   \n",
              "20  0.5048  ...   0.772  0.4128  0.4043  0.6029  0.9818   0.771   0.596   \n",
              "21     NaN  ...     NaN     NaN     NaN     NaN     NaN     NaN     NaN   \n",
              "22  0.0406  ...  0.3924  0.5904  0.7597   0.162  0.3635  0.7204  0.8827   \n",
              "23  0.8979  ...  0.4697  0.7482  0.5427  0.9124  0.3356  0.6929  0.2537   \n",
              "24  0.9884  ...  0.6653  0.0016  0.9053   0.824  0.6673  0.7639  0.2938   \n",
              "25  0.4714  ...  0.2443  0.0313  0.4582  0.7783  0.4079  0.3772  0.4436   \n",
              "26  0.2502  ...  0.8436  0.6353  0.1076  0.9826  0.1367  0.2138  0.2269   \n",
              "27  0.2758  ...  0.7965  0.4276  0.1975  0.0175  0.4476  0.7571  0.8611   \n",
              "28  0.5435  ...  0.8489   0.575   0.437  0.0835  0.3516  0.9414  0.8287   \n",
              "29  0.5318  ...   0.959  0.3937  0.5922  0.5095  0.4422  0.3937  0.3072   \n",
              "30  0.6021  ...  0.0042  0.7158  0.0803  0.2702  0.3367  0.7901  0.2293   \n",
              "31  0.2765  ...  0.7925  0.7939  0.3583  0.2893  0.4324   0.997  0.2935   \n",
              "32     NaN  ...     NaN     NaN     NaN     NaN     NaN     NaN     NaN   \n",
              "33   0.821  ...  0.9718  0.5845  0.6752  0.4896  0.1692  0.8116  0.2309   \n",
              "34  0.8554  ...  0.5946  0.9955   0.526  0.1673  0.5461  0.6843  0.0879   \n",
              "35  0.3028  ...  0.1159  0.0465  0.9315  0.4402  0.7679  0.7506  0.9836   \n",
              "36  0.3888  ...  0.2997  0.1695  0.0518  0.3255  0.2644   0.486  0.4414   \n",
              "37  0.2519  ...  0.5146  0.3832  0.7268  0.7659  0.2106  0.4126  0.0145   \n",
              "38  0.3311  ...  0.0563  0.3436  0.9475  0.8755  0.1509  0.0285  0.3901   \n",
              "39  0.3777  ...  0.2259  0.4939  0.0019  0.8954  0.3679   0.237  0.9517   \n",
              "40  0.8799  ...   0.299  0.2256  0.2762  0.8021  0.0974  0.0928  0.9767   \n",
              "41  0.4217  ...   0.978  0.3722  0.7132  0.7571  0.0059  0.3935  0.0562   \n",
              "42  0.9839  ...   0.449  0.8507  0.2165  0.2635  0.9157  0.2851  0.1902   \n",
              "43     NaN  ...     NaN     NaN     NaN     NaN     NaN     NaN     NaN   \n",
              "44  0.5678  ...  0.4866  0.4991   0.092  0.1086  0.1648  0.4764  0.5064   \n",
              "45  0.1119  ...  0.9497  0.8588   0.746  0.1425  0.0628  0.9634  0.5779   \n",
              "46  0.9976  ...  0.6236  0.9516   0.694   0.055  0.5391  0.4462  0.9535   \n",
              "47   0.589  ...  0.3398  0.5289   0.654  0.2326  0.4096   0.934  0.8562   \n",
              "48  0.3196  ...  0.4078  0.6771  0.1933  0.1627  0.3858  0.2222  0.5025   \n",
              "49  0.2563  ...  0.7078  0.1169  0.7793   0.829  0.0828  0.6616  0.2368   \n",
              "50  0.4562  ...  0.6697  0.3662   0.197   0.852  0.0037  0.3912  0.5085   \n",
              "51  0.5081  ...  0.6514   0.351   0.295  0.7442  0.2969  0.5738   0.414   \n",
              "52  0.9086  ...   0.259  0.1555  0.8203  0.1473  0.8169  0.8451  0.7987   \n",
              "53  0.4931  ...  0.5016  0.0226  0.3803  0.8984  0.9216  0.1483  0.1575   \n",
              "54     NaN  ...     NaN     NaN     NaN     NaN     NaN     NaN     NaN   \n",
              "55  0.4626  ...  0.1087  0.9075  0.1646  0.0151  0.4881  0.2944  0.4654   \n",
              "56  0.4001  ...  0.0317  0.4052  0.3911  0.9685   0.692   0.805   0.026   \n",
              "57   0.454  ...  0.6402  0.6407  0.0576  0.2735  0.2523  0.8785   0.254   \n",
              "58  0.9495  ...  0.1811  0.1777  0.7635   0.561  0.5671  0.5011  0.1499   \n",
              "59  0.5253  ...  0.0629   0.946  0.3369  0.0626  0.0319  0.0363  0.1925   \n",
              "\n",
              "        23      24      25  \n",
              "0   0.7893  0.7533  0.2925  \n",
              "1   0.0558   0.133  0.0295  \n",
              "2   0.5751  0.7797  0.8544  \n",
              "3   0.8747  0.2677  0.3816  \n",
              "4   0.6753  0.8371  0.6748  \n",
              "5   0.5282  0.4132  0.4582  \n",
              "6   0.4375  0.5795  0.8926  \n",
              "7   0.4521  0.3392   0.638  \n",
              "8   0.9553  0.7653  0.1555  \n",
              "9   0.6776  0.7189  0.2121  \n",
              "10     NaN     NaN     NaN  \n",
              "11  0.4583  0.9891  0.6206  \n",
              "12  0.3224  0.3442  0.2458  \n",
              "13  0.5258  0.3026  0.5692  \n",
              "14  0.5679  0.7166  0.1132  \n",
              "15  0.5345   0.547  0.4473  \n",
              "16  0.1299  0.8027  0.6284  \n",
              "17  0.0214  0.2403  0.3354  \n",
              "18  0.9589  0.8822  0.2051  \n",
              "19  0.8626   0.422  0.5948  \n",
              "20  0.9843   0.697  0.8146  \n",
              "21     NaN     NaN     NaN  \n",
              "22  0.7251  0.0735  0.4344  \n",
              "23   0.926  0.4013  0.3644  \n",
              "24  0.3643  0.3066   0.155  \n",
              "25  0.4096  0.2825  0.2164  \n",
              "26   0.168  0.6208  0.9539  \n",
              "27  0.0317  0.8135  0.8437  \n",
              "28   0.728  0.0877  0.8463  \n",
              "29   0.966  0.8307  0.3907  \n",
              "30  0.7304  0.3312  0.6875  \n",
              "31  0.1482  0.0261  0.5637  \n",
              "32     NaN     NaN     NaN  \n",
              "33  0.9631  0.1186  0.5202  \n",
              "34  0.0794  0.3594  0.5263  \n",
              "35  0.7633  0.2766  0.0996  \n",
              "36   0.311  0.3663  0.8303  \n",
              "37  0.3289  0.4132  0.2887  \n",
              "38  0.5341   0.704  0.1048  \n",
              "39  0.7115  0.1333   0.776  \n",
              "40  0.5913  0.0434  0.8721  \n",
              "41  0.2315  0.6185   0.807  \n",
              "42  0.2367  0.9471  0.8961  \n",
              "43     NaN     NaN     NaN  \n",
              "44  0.0154  0.6928  0.7698  \n",
              "45  0.5619  0.0554  0.6865  \n",
              "46  0.3979  0.1922  0.0448  \n",
              "47  0.3613  0.5768    0.86  \n",
              "48  0.8635   0.825  0.6839  \n",
              "49  0.7599  0.8037  0.3484  \n",
              "50  0.0693  0.1193  0.2863  \n",
              "51  0.6118  0.7708  0.2147  \n",
              "52  0.1679  0.0888   0.543  \n",
              "53   0.077  0.9685  0.2536  \n",
              "54     NaN     NaN     NaN  \n",
              "55  0.4595  0.6234  0.3639  \n",
              "56  0.5995  0.9183  0.0411  \n",
              "57  0.6062  0.2184  0.2225  \n",
              "58  0.2078  0.5586  0.3722  \n",
              "59  0.1584  0.7998  0.7535  \n",
              "\n",
              "[60 rows x 27 columns]"
            ]
          },
          "execution_count": 4,
          "metadata": {},
          "output_type": "execute_result"
        }
      ],
      "source": [
        "df.head(60)"
      ]
    },
    {
      "cell_type": "code",
      "execution_count": null,
      "metadata": {
        "colab": {
          "base_uri": "https://localhost:8080/"
        },
        "id": "yokyBoHjv_9l",
        "outputId": "77009ebe-56ca-402b-805f-a528a7f23432"
      },
      "outputs": [
        {
          "data": {
            "text/plain": [
              "550000"
            ]
          },
          "execution_count": 5,
          "metadata": {},
          "output_type": "execute_result"
        }
      ],
      "source": [
        "len(df)"
      ]
    },
    {
      "cell_type": "code",
      "execution_count": null,
      "metadata": {
        "id": "4mGoIORTu3My"
      },
      "outputs": [],
      "source": []
    },
    {
      "cell_type": "code",
      "execution_count": null,
      "metadata": {
        "id": "h3zigDe6vjJH"
      },
      "outputs": [],
      "source": [
        "label0 = np.zeros(25)\n",
        "label1 = np.zeros(25)\n",
        "label2 = np.zeros(25)\n",
        "label3 = np.zeros(25)\n",
        "\n",
        "num0=num1=num2=num3=0\n",
        "\n",
        "\n",
        "for i in range(10,550000,11):\n",
        "  if (df['SampleID'][i] == 0):\n",
        "    num0 = num0+1\n",
        "    label0 = label0+np.array(df.iloc[i-1][2:],dtype=float)\n",
        "  elif (df['SampleID'][i] == 1):\n",
        "    num1 = num1+1\n",
        "    # print(df.iloc[i-1][2:])\n",
        "    label1 = label1+np.array(df.iloc[i-1][2:],dtype=float)\n",
        "  elif (df['SampleID'][i] == 2):\n",
        "    num2 = num2+1\n",
        "    label2 = label2+np.array(df.iloc[i-1][2:],dtype=float)\n",
        "  elif (df['SampleID'][i] == 3):\n",
        "    num3 = num3+1\n",
        "    label3 = label3+np.array(df.iloc[i-1][2:],dtype=float)"
      ]
    },
    {
      "cell_type": "code",
      "execution_count": null,
      "metadata": {
        "id": "ZrWGzUaL1qOx"
      },
      "outputs": [],
      "source": [
        "# label0"
      ]
    },
    {
      "cell_type": "code",
      "execution_count": null,
      "metadata": {
        "id": "VjLnvyQew6Qr"
      },
      "outputs": [],
      "source": [
        "#Getting the averages\n",
        "avg0 = label0/num0\n",
        "avg1 = label1/num1\n",
        "avg2 = label2/num2\n",
        "avg3 = label3/num3"
      ]
    },
    {
      "cell_type": "code",
      "execution_count": null,
      "metadata": {
        "colab": {
          "base_uri": "https://localhost:8080/",
          "height": 408
        },
        "id": "OWPlOjK2yHB2",
        "outputId": "14ee9529-5279-47af-c609-a67441823311"
      },
      "outputs": [
        {
          "output_type": "display_data",
          "data": {
            "text/plain": [
              "<Figure size 864x504 with 1 Axes>"
            ],
            "image/png": "[encoded data removed]"
          },
          "metadata": {
            "needs_background": "light"
          }
        }
      ],
      "source": [
        "plt.figure(figsize=(12,7))\n",
        "plt.plot(avg0, label='No Risk')\n",
        "plt.plot(avg1, label='Low Risk')\n",
        "plt.plot(avg2, label='Medium Risk')\n",
        "plt.plot(avg3, label = 'Catastrophic')\n",
        "\n",
        "plt.legend(loc = \"upper left\")\n",
        "\n",
        "plt.grid()\n",
        "plt.xticks(ticks=np.arange(1,26,1))\n",
        "plt.xlabel(\"Sensor\")\n",
        "plt.ylabel(\"Average Sensor Values\")\n",
        "plt.title('10th Min')\n",
        "plt.show()"
      ]
    },
    {
      "cell_type": "code",
      "execution_count": null,
      "metadata": {
        "colab": {
          "base_uri": "https://localhost:8080/",
          "height": 423
        },
        "id": "XrMujh7yy_Mi",
        "outputId": "191dbf94-e237-40b3-dec0-3983f35be340"
      },
      "outputs": [
        {
          "data": {
            "text/html": [
              "\n",
              "  <div id=\"df-a5a5af6c-8272-4690-8302-38bbed6aaa56\">\n",
              "    <div class=\"colab-df-container\">\n",
              "      <div>\n",
              "<style scoped>\n",
              "    .dataframe tbody tr th:only-of-type {\n",
              "        vertical-align: middle;\n",
              "    }\n",
              "\n",
              "    .dataframe tbody tr th {\n",
              "        vertical-align: top;\n",
              "    }\n",
              "\n",
              "    .dataframe thead th {\n",
              "        text-align: right;\n",
              "    }\n",
              "</style>\n",
              "<table border=\"1\" class=\"dataframe\">\n",
              "  <thead>\n",
              "    <tr style=\"text-align: right;\">\n",
              "      <th></th>\n",
              "      <th>SampleID</th>\n",
              "      <th>Timestamp</th>\n",
              "      <th>1</th>\n",
              "      <th>2</th>\n",
              "      <th>3</th>\n",
              "      <th>4</th>\n",
              "      <th>5</th>\n",
              "      <th>6</th>\n",
              "      <th>7</th>\n",
              "      <th>8</th>\n",
              "      <th>...</th>\n",
              "      <th>16</th>\n",
              "      <th>17</th>\n",
              "      <th>18</th>\n",
              "      <th>19</th>\n",
              "      <th>20</th>\n",
              "      <th>21</th>\n",
              "      <th>22</th>\n",
              "      <th>23</th>\n",
              "      <th>24</th>\n",
              "      <th>25</th>\n",
              "    </tr>\n",
              "  </thead>\n",
              "  <tbody>\n",
              "    <tr>\n",
              "      <th>0</th>\n",
              "      <td>0</td>\n",
              "      <td>1</td>\n",
              "      <td>0.4337</td>\n",
              "      <td>0.7431</td>\n",
              "      <td>0.9390</td>\n",
              "      <td>0.7541</td>\n",
              "      <td>0.9035</td>\n",
              "      <td>0.7943</td>\n",
              "      <td>0.2622</td>\n",
              "      <td>0.5901</td>\n",
              "      <td>...</td>\n",
              "      <td>0.5696</td>\n",
              "      <td>0.6407</td>\n",
              "      <td>0.7027</td>\n",
              "      <td>0.7163</td>\n",
              "      <td>0.9954</td>\n",
              "      <td>0.8303</td>\n",
              "      <td>0.1641</td>\n",
              "      <td>0.7893</td>\n",
              "      <td>0.7533</td>\n",
              "      <td>0.2925</td>\n",
              "    </tr>\n",
              "    <tr>\n",
              "      <th>1</th>\n",
              "      <td>0</td>\n",
              "      <td>2.0</td>\n",
              "      <td>0.7859</td>\n",
              "      <td>0.1925</td>\n",
              "      <td>0.9024</td>\n",
              "      <td>0.8108</td>\n",
              "      <td>0.2016</td>\n",
              "      <td>0.9649</td>\n",
              "      <td>0.2445</td>\n",
              "      <td>0.8934</td>\n",
              "      <td>...</td>\n",
              "      <td>0.4259</td>\n",
              "      <td>0.7456</td>\n",
              "      <td>0.575</td>\n",
              "      <td>0.7947</td>\n",
              "      <td>0.4663</td>\n",
              "      <td>0.4303</td>\n",
              "      <td>0.3643</td>\n",
              "      <td>0.0558</td>\n",
              "      <td>0.133</td>\n",
              "      <td>0.0295</td>\n",
              "    </tr>\n",
              "    <tr>\n",
              "      <th>2</th>\n",
              "      <td>0</td>\n",
              "      <td>3.0</td>\n",
              "      <td>0.0512</td>\n",
              "      <td>0.9633</td>\n",
              "      <td>0.1423</td>\n",
              "      <td>0.8404</td>\n",
              "      <td>0.6654</td>\n",
              "      <td>0.4348</td>\n",
              "      <td>0.5751</td>\n",
              "      <td>0.8067</td>\n",
              "      <td>...</td>\n",
              "      <td>0.4753</td>\n",
              "      <td>0.5449</td>\n",
              "      <td>0.8531</td>\n",
              "      <td>0.6337</td>\n",
              "      <td>0.8807</td>\n",
              "      <td>0.256</td>\n",
              "      <td>0.0597</td>\n",
              "      <td>0.5751</td>\n",
              "      <td>0.7797</td>\n",
              "      <td>0.8544</td>\n",
              "    </tr>\n",
              "    <tr>\n",
              "      <th>3</th>\n",
              "      <td>0</td>\n",
              "      <td>4.0</td>\n",
              "      <td>0.0413</td>\n",
              "      <td>0.1588</td>\n",
              "      <td>0.1675</td>\n",
              "      <td>0.0971</td>\n",
              "      <td>0.2918</td>\n",
              "      <td>0.197</td>\n",
              "      <td>0.0971</td>\n",
              "      <td>0.2039</td>\n",
              "      <td>...</td>\n",
              "      <td>0.7959</td>\n",
              "      <td>0.5306</td>\n",
              "      <td>0.3109</td>\n",
              "      <td>0.2726</td>\n",
              "      <td>0.3298</td>\n",
              "      <td>0.4658</td>\n",
              "      <td>0.7479</td>\n",
              "      <td>0.8747</td>\n",
              "      <td>0.2677</td>\n",
              "      <td>0.3816</td>\n",
              "    </tr>\n",
              "    <tr>\n",
              "      <th>4</th>\n",
              "      <td>0</td>\n",
              "      <td>5.0</td>\n",
              "      <td>0.7042</td>\n",
              "      <td>0.4724</td>\n",
              "      <td>0.3901</td>\n",
              "      <td>0.2793</td>\n",
              "      <td>0.2522</td>\n",
              "      <td>0.1933</td>\n",
              "      <td>0.2694</td>\n",
              "      <td>0.411</td>\n",
              "      <td>...</td>\n",
              "      <td>0.2474</td>\n",
              "      <td>0.5711</td>\n",
              "      <td>0.5686</td>\n",
              "      <td>0.6575</td>\n",
              "      <td>0.1447</td>\n",
              "      <td>0.5774</td>\n",
              "      <td>0.4022</td>\n",
              "      <td>0.6753</td>\n",
              "      <td>0.8371</td>\n",
              "      <td>0.6748</td>\n",
              "    </tr>\n",
              "    <tr>\n",
              "      <th>...</th>\n",
              "      <td>...</td>\n",
              "      <td>...</td>\n",
              "      <td>...</td>\n",
              "      <td>...</td>\n",
              "      <td>...</td>\n",
              "      <td>...</td>\n",
              "      <td>...</td>\n",
              "      <td>...</td>\n",
              "      <td>...</td>\n",
              "      <td>...</td>\n",
              "      <td>...</td>\n",
              "      <td>...</td>\n",
              "      <td>...</td>\n",
              "      <td>...</td>\n",
              "      <td>...</td>\n",
              "      <td>...</td>\n",
              "      <td>...</td>\n",
              "      <td>...</td>\n",
              "      <td>...</td>\n",
              "      <td>...</td>\n",
              "      <td>...</td>\n",
              "    </tr>\n",
              "    <tr>\n",
              "      <th>549995</th>\n",
              "      <td>49999</td>\n",
              "      <td>7.0</td>\n",
              "      <td>0.2817</td>\n",
              "      <td>0.6392</td>\n",
              "      <td>0.9709</td>\n",
              "      <td>0.5667</td>\n",
              "      <td>0.0822</td>\n",
              "      <td>0.9976</td>\n",
              "      <td>0.7358</td>\n",
              "      <td>0.9617</td>\n",
              "      <td>...</td>\n",
              "      <td>0.96</td>\n",
              "      <td>0.4254</td>\n",
              "      <td>0.7402</td>\n",
              "      <td>0.2611</td>\n",
              "      <td>0.8659</td>\n",
              "      <td>0.7473</td>\n",
              "      <td>0.1093</td>\n",
              "      <td>0.3094</td>\n",
              "      <td>0.7807</td>\n",
              "      <td>0.7287</td>\n",
              "    </tr>\n",
              "    <tr>\n",
              "      <th>549996</th>\n",
              "      <td>49999</td>\n",
              "      <td>8.0</td>\n",
              "      <td>0.5622</td>\n",
              "      <td>0.7094</td>\n",
              "      <td>0.1205</td>\n",
              "      <td>0.7765</td>\n",
              "      <td>0.5579</td>\n",
              "      <td>0.4585</td>\n",
              "      <td>0.0583</td>\n",
              "      <td>0.1459</td>\n",
              "      <td>...</td>\n",
              "      <td>0.7685</td>\n",
              "      <td>0.741</td>\n",
              "      <td>0.9113</td>\n",
              "      <td>0.3729</td>\n",
              "      <td>0.1165</td>\n",
              "      <td>0.0866</td>\n",
              "      <td>0.2817</td>\n",
              "      <td>0.4906</td>\n",
              "      <td>0.7756</td>\n",
              "      <td>0.5428</td>\n",
              "    </tr>\n",
              "    <tr>\n",
              "      <th>549997</th>\n",
              "      <td>49999</td>\n",
              "      <td>9.0</td>\n",
              "      <td>0.3565</td>\n",
              "      <td>0.4717</td>\n",
              "      <td>0.6521</td>\n",
              "      <td>0.6147</td>\n",
              "      <td>0.2524</td>\n",
              "      <td>0.3296</td>\n",
              "      <td>0.1769</td>\n",
              "      <td>0.9617</td>\n",
              "      <td>...</td>\n",
              "      <td>0.5341</td>\n",
              "      <td>0.8423</td>\n",
              "      <td>0.509</td>\n",
              "      <td>0.8436</td>\n",
              "      <td>0.9809</td>\n",
              "      <td>0.2696</td>\n",
              "      <td>0.5609</td>\n",
              "      <td>0.6706</td>\n",
              "      <td>0.1297</td>\n",
              "      <td>0.8826</td>\n",
              "    </tr>\n",
              "    <tr>\n",
              "      <th>549998</th>\n",
              "      <td>49999</td>\n",
              "      <td>10.0</td>\n",
              "      <td>0.7871</td>\n",
              "      <td>0.2163</td>\n",
              "      <td>0.1643</td>\n",
              "      <td>0.2265</td>\n",
              "      <td>0.9406</td>\n",
              "      <td>0.6559</td>\n",
              "      <td>0.583</td>\n",
              "      <td>0.4123</td>\n",
              "      <td>...</td>\n",
              "      <td>0.2767</td>\n",
              "      <td>0.0436</td>\n",
              "      <td>0.8426</td>\n",
              "      <td>0.2371</td>\n",
              "      <td>0.6578</td>\n",
              "      <td>0.027</td>\n",
              "      <td>0.7201</td>\n",
              "      <td>0.4489</td>\n",
              "      <td>0.4848</td>\n",
              "      <td>0.5125</td>\n",
              "    </tr>\n",
              "    <tr>\n",
              "      <th>549999</th>\n",
              "      <td>1</td>\n",
              "      <td>NaN</td>\n",
              "      <td>NaN</td>\n",
              "      <td>NaN</td>\n",
              "      <td>NaN</td>\n",
              "      <td>NaN</td>\n",
              "      <td>NaN</td>\n",
              "      <td>NaN</td>\n",
              "      <td>NaN</td>\n",
              "      <td>NaN</td>\n",
              "      <td>...</td>\n",
              "      <td>NaN</td>\n",
              "      <td>NaN</td>\n",
              "      <td>NaN</td>\n",
              "      <td>NaN</td>\n",
              "      <td>NaN</td>\n",
              "      <td>NaN</td>\n",
              "      <td>NaN</td>\n",
              "      <td>NaN</td>\n",
              "      <td>NaN</td>\n",
              "      <td>NaN</td>\n",
              "    </tr>\n",
              "  </tbody>\n",
              "</table>\n",
              "<p>550000 rows × 27 columns</p>\n",
              "</div>\n",
              "      <button class=\"colab-df-convert\" onclick=\"convertToInteractive('df-a5a5af6c-8272-4690-8302-38bbed6aaa56')\"\n",
              "              title=\"Convert this dataframe to an interactive table.\"\n",
              "              style=\"display:none;\">\n",
              "        \n",
              "  <svg xmlns=\"http://www.w3.org/2000/svg\" height=\"24px\"viewBox=\"0 0 24 24\"\n",
              "       width=\"24px\">\n",
              "    <path d=\"M0 0h24v24H0V0z\" fill=\"none\"/>\n",
              "    <path d=\"M18.56 5.44l.94 2.06.94-2.06 2.06-.94-2.06-.94-.94-2.06-.94 2.06-2.06.94zm-11 1L8.5 8.5l.94-2.06 2.06-.94-2.06-.94L8.5 2.5l-.94 2.06-2.06.94zm10 10l.94 2.06.94-2.06 2.06-.94-2.06-.94-.94-2.06-.94 2.06-2.06.94z\"/><path d=\"M17.41 7.96l-1.37-1.37c-.4-.4-.92-.59-1.43-.59-.52 0-1.04.2-1.43.59L10.3 9.45l-7.72 7.72c-.78.78-.78 2.05 0 2.83L4 21.41c.39.39.9.59 1.41.59.51 0 1.02-.2 1.41-.59l7.78-7.78 2.81-2.81c.8-.78.8-2.07 0-2.86zM5.41 20L4 18.59l7.72-7.72 1.47 1.35L5.41 20z\"/>\n",
              "  </svg>\n",
              "      </button>\n",
              "      \n",
              "  <style>\n",
              "    .colab-df-container {\n",
              "      display:flex;\n",
              "      flex-wrap:wrap;\n",
              "      gap: 12px;\n",
              "    }\n",
              "\n",
              "    .colab-df-convert {\n",
              "      background-color: #E8F0FE;\n",
              "      border: none;\n",
              "      border-radius: 50%;\n",
              "      cursor: pointer;\n",
              "      display: none;\n",
              "      fill: #1967D2;\n",
              "      height: 32px;\n",
              "      padding: 0 0 0 0;\n",
              "      width: 32px;\n",
              "    }\n",
              "\n",
              "    .colab-df-convert:hover {\n",
              "      background-color: #E2EBFA;\n",
              "      box-shadow: 0px 1px 2px rgba(60, 64, 67, 0.3), 0px 1px 3px 1px rgba(60, 64, 67, 0.15);\n",
              "      fill: #174EA6;\n",
              "    }\n",
              "\n",
              "    [theme=dark] .colab-df-convert {\n",
              "      background-color: #3B4455;\n",
              "      fill: #D2E3FC;\n",
              "    }\n",
              "\n",
              "    [theme=dark] .colab-df-convert:hover {\n",
              "      background-color: #434B5C;\n",
              "      box-shadow: 0px 1px 3px 1px rgba(0, 0, 0, 0.15);\n",
              "      filter: drop-shadow(0px 1px 2px rgba(0, 0, 0, 0.3));\n",
              "      fill: #FFFFFF;\n",
              "    }\n",
              "  </style>\n",
              "\n",
              "      <script>\n",
              "        const buttonEl =\n",
              "          document.querySelector('#df-a5a5af6c-8272-4690-8302-38bbed6aaa56 button.colab-df-convert');\n",
              "        buttonEl.style.display =\n",
              "          google.colab.kernel.accessAllowed ? 'block' : 'none';\n",
              "\n",
              "        async function convertToInteractive(key) {\n",
              "          const element = document.querySelector('#df-a5a5af6c-8272-4690-8302-38bbed6aaa56');\n",
              "          const dataTable =\n",
              "            await google.colab.kernel.invokeFunction('convertToInteractive',\n",
              "                                                     [key], {});\n",
              "          if (!dataTable) return;\n",
              "\n",
              "          const docLinkHtml = 'Like what you see? Visit the ' +\n",
              "            '<a target=\"_blank\" href=https://colab.research.google.com/notebooks/data_table.ipynb>data table notebook</a>'\n",
              "            + ' to learn more about interactive tables.';\n",
              "          element.innerHTML = '';\n",
              "          dataTable['output_type'] = 'display_data';\n",
              "          await google.colab.output.renderOutput(dataTable, element);\n",
              "          const docLink = document.createElement('div');\n",
              "          docLink.innerHTML = docLinkHtml;\n",
              "          element.appendChild(docLink);\n",
              "        }\n",
              "      </script>\n",
              "    </div>\n",
              "  </div>\n",
              "  "
            ],
            "text/plain": [
              "       SampleID Timestamp       1       2       3       4       5       6  \\\n",
              "0             0         1  0.4337  0.7431  0.9390  0.7541  0.9035  0.7943   \n",
              "1             0       2.0  0.7859  0.1925  0.9024  0.8108  0.2016  0.9649   \n",
              "2             0       3.0  0.0512  0.9633  0.1423  0.8404  0.6654  0.4348   \n",
              "3             0       4.0  0.0413  0.1588  0.1675  0.0971  0.2918   0.197   \n",
              "4             0       5.0  0.7042  0.4724  0.3901  0.2793  0.2522  0.1933   \n",
              "...         ...       ...     ...     ...     ...     ...     ...     ...   \n",
              "549995    49999       7.0  0.2817  0.6392  0.9709  0.5667  0.0822  0.9976   \n",
              "549996    49999       8.0  0.5622  0.7094  0.1205  0.7765  0.5579  0.4585   \n",
              "549997    49999       9.0  0.3565  0.4717  0.6521  0.6147  0.2524  0.3296   \n",
              "549998    49999      10.0  0.7871  0.2163  0.1643  0.2265  0.9406  0.6559   \n",
              "549999        1       NaN     NaN     NaN     NaN     NaN     NaN     NaN   \n",
              "\n",
              "             7       8  ...      16      17      18      19      20      21  \\\n",
              "0       0.2622  0.5901  ...  0.5696  0.6407  0.7027  0.7163  0.9954  0.8303   \n",
              "1       0.2445  0.8934  ...  0.4259  0.7456   0.575  0.7947  0.4663  0.4303   \n",
              "2       0.5751  0.8067  ...  0.4753  0.5449  0.8531  0.6337  0.8807   0.256   \n",
              "3       0.0971  0.2039  ...  0.7959  0.5306  0.3109  0.2726  0.3298  0.4658   \n",
              "4       0.2694   0.411  ...  0.2474  0.5711  0.5686  0.6575  0.1447  0.5774   \n",
              "...        ...     ...  ...     ...     ...     ...     ...     ...     ...   \n",
              "549995  0.7358  0.9617  ...    0.96  0.4254  0.7402  0.2611  0.8659  0.7473   \n",
              "549996  0.0583  0.1459  ...  0.7685   0.741  0.9113  0.3729  0.1165  0.0866   \n",
              "549997  0.1769  0.9617  ...  0.5341  0.8423   0.509  0.8436  0.9809  0.2696   \n",
              "549998   0.583  0.4123  ...  0.2767  0.0436  0.8426  0.2371  0.6578   0.027   \n",
              "549999     NaN     NaN  ...     NaN     NaN     NaN     NaN     NaN     NaN   \n",
              "\n",
              "            22      23      24      25  \n",
              "0       0.1641  0.7893  0.7533  0.2925  \n",
              "1       0.3643  0.0558   0.133  0.0295  \n",
              "2       0.0597  0.5751  0.7797  0.8544  \n",
              "3       0.7479  0.8747  0.2677  0.3816  \n",
              "4       0.4022  0.6753  0.8371  0.6748  \n",
              "...        ...     ...     ...     ...  \n",
              "549995  0.1093  0.3094  0.7807  0.7287  \n",
              "549996  0.2817  0.4906  0.7756  0.5428  \n",
              "549997  0.5609  0.6706  0.1297  0.8826  \n",
              "549998  0.7201  0.4489  0.4848  0.5125  \n",
              "549999     NaN     NaN     NaN     NaN  \n",
              "\n",
              "[550000 rows x 27 columns]"
            ]
          },
          "execution_count": 13,
          "metadata": {},
          "output_type": "execute_result"
        }
      ],
      "source": [
        "df"
      ]
    },
    {
      "cell_type": "code",
      "execution_count": null,
      "metadata": {
        "colab": {
          "base_uri": "https://localhost:8080/"
        },
        "id": "1j3FIP-8zK68",
        "outputId": "1ac2da33-b3ab-4d36-9381-b9f8e2a1eaaf"
      },
      "outputs": [
        {
          "data": {
            "text/plain": [
              "10917"
            ]
          },
          "execution_count": 14,
          "metadata": {},
          "output_type": "execute_result"
        }
      ],
      "source": [
        "num1"
      ]
    },
    {
      "cell_type": "code",
      "execution_count": null,
      "metadata": {
        "colab": {
          "base_uri": "https://localhost:8080/"
        },
        "id": "QDJdpJV2zL4c",
        "outputId": "11a68329-0ae1-4494-a3e3-c9116510f3cc"
      },
      "outputs": [
        {
          "name": "stdout",
          "output_type": "stream",
          "text": [
            "73.57544390176676\n",
            "191.03751776619123\n",
            "79.58719836129521\n",
            "176.50678052699175\n"
          ]
        }
      ],
      "source": [
        "print(np.std(label0))\n",
        "print(np.std(label1))\n",
        "print(np.std(label2))\n",
        "print(np.std(label3))"
      ]
    },
    {
      "cell_type": "code",
      "execution_count": null,
      "metadata": {
        "id": "H5avZtyq0gsh"
      },
      "outputs": [],
      "source": [
        "label0 = np.zeros(25)\n",
        "label1 = np.zeros(25)\n",
        "label2 = np.zeros(25)\n",
        "label3 = np.zeros(25)\n",
        "\n",
        "num0=num1=num2=num3=0\n",
        "\n",
        "\n",
        "for i in range(10,50000,11):\n",
        "  print(i)\n",
        "  if (df['SampleID'][i] == 0):\n",
        "    num0 = num0+1\n",
        "    label0 = label0+df.iloc[i-1][2:]\n",
        "  elif (df['SampleID'][i] == 1):\n",
        "    num1 = num1+1\n",
        "    # print(df.iloc[i-1][2:])\n",
        "    temp = np.array(df.iloc[i-1][2:], dtype=np.float)\n",
        "    # print(label1)\n",
        "    label1 = label1+temp\n",
        "  elif (df['SampleID'][i] == 2):\n",
        "    num2 = num2+1\n",
        "    label2 = label2+df.iloc[i-1][2:]\n",
        "  elif (df['SampleID'][i] == 3):\n",
        "    num3 = num3+1\n",
        "    label3 = label3+df.iloc[i-1][2:]\n",
        "\n",
        "\n",
        "#Getting the averages\n",
        "avg0 = label0/num0\n",
        "avg1 = label1/num1\n",
        "avg2 = label2/num2\n",
        "avg3 = label3/num3\n",
        "\n",
        "plt.figure(figsize=(10,6))\n",
        "plt.plot(avg0, label='Label 0')\n",
        "plt.plot(avg1, label='Label 1')\n",
        "plt.plot(avg2, label='Label 2')\n",
        "plt.plot(avg3, label = 'Label 3')\n",
        "\n",
        "plt.legend()\n",
        "\n",
        "plt.xticks(ticks=np.arange(1,25,1))\n",
        "plt.xlabel(\"Sensor\")\n",
        "plt.ylabel(\"Averaged label sensor data\")\n",
        "plt.title('10th Min')\n",
        "plt.show()"
      ]
    },
    {
      "cell_type": "code",
      "execution_count": null,
      "metadata": {
        "colab": {
          "base_uri": "https://localhost:8080/"
        },
        "id": "rGAjuiqv6Y9m",
        "outputId": "e3a63a1d-90ea-43c0-9984-5aa770db4516"
      },
      "outputs": [
        {
          "name": "stderr",
          "output_type": "stream",
          "text": [
            "<ipython-input-168-b821e6b209b2>:21: DeprecationWarning: `np.float` is a deprecated alias for the builtin `float`. To silence this warning, use `float` by itself. Doing this will not modify any behavior and is safe. If you specifically wanted the numpy scalar type, use `np.float64` here.\n",
            "Deprecated in NumPy 1.20; for more details and guidance: https://numpy.org/devdocs/release/1.20.0-notes.html#deprecations\n",
            "  temp1=temp1+np.array(df.iloc[i-j][2:], dtype=np.float)\n",
            "<ipython-input-168-b821e6b209b2>:28: DeprecationWarning: `np.float` is a deprecated alias for the builtin `float`. To silence this warning, use `float` by itself. Doing this will not modify any behavior and is safe. If you specifically wanted the numpy scalar type, use `np.float64` here.\n",
            "Deprecated in NumPy 1.20; for more details and guidance: https://numpy.org/devdocs/release/1.20.0-notes.html#deprecations\n",
            "  temp2=temp2+np.array(df.iloc[i-j][2:], dtype=np.float)\n",
            "<ipython-input-168-b821e6b209b2>:35: DeprecationWarning: `np.float` is a deprecated alias for the builtin `float`. To silence this warning, use `float` by itself. Doing this will not modify any behavior and is safe. If you specifically wanted the numpy scalar type, use `np.float64` here.\n",
            "Deprecated in NumPy 1.20; for more details and guidance: https://numpy.org/devdocs/release/1.20.0-notes.html#deprecations\n",
            "  temp3=temp3+np.array(df.iloc[i-j][2:], dtype=np.float)\n",
            "<ipython-input-168-b821e6b209b2>:14: DeprecationWarning: `np.float` is a deprecated alias for the builtin `float`. To silence this warning, use `float` by itself. Doing this will not modify any behavior and is safe. If you specifically wanted the numpy scalar type, use `np.float64` here.\n",
            "Deprecated in NumPy 1.20; for more details and guidance: https://numpy.org/devdocs/release/1.20.0-notes.html#deprecations\n",
            "  temp0=temp0+np.array(df.iloc[i-j][2:], dtype=np.float)\n"
          ]
        }
      ],
      "source": [
        "label0 = [[None]]\n",
        "label1 = [[None]]\n",
        "label2 = [[None]]\n",
        "label3 = [[None]]\n",
        "\n",
        "num0=num1=num2=num3=0\n",
        "\n",
        "\n",
        "for i in range(10,50000,11):\n",
        "  # print(i)\n",
        "  if (df['SampleID'][i] == 0):\n",
        "    temp0 = [[]]\n",
        "    for j in range(1,3):\n",
        "      temp0=temp0+np.array(df.iloc[i-j][2:], dtype=np.float)\n",
        "    temp0=temp0/2\n",
        "    label0.append(temp0)\n",
        "\n",
        "  elif (df['SampleID'][i] == 1):\n",
        "    temp1 = np.zeros(25)\n",
        "    for j in range(1,3):\n",
        "      temp1=temp1+np.array(df.iloc[i-j][2:], dtype=np.float)\n",
        "    temp1=temp1/2\n",
        "    label1.append(temp1)\n",
        "\n",
        "  elif (df['SampleID'][i] == 2):\n",
        "    temp2 = np.zeros(25)\n",
        "    for j in range(1,3):\n",
        "      temp2=temp2+np.array(df.iloc[i-j][2:], dtype=np.float)\n",
        "    temp2=temp2/2\n",
        "    label2.append(temp2)\n",
        "\n",
        "  elif (df['SampleID'][i] == 3):\n",
        "    temp3 = np.zeros(25)\n",
        "    for j in range(1,3):\n",
        "      temp3=temp3+np.array(df.iloc[i-j][2:], dtype=np.float)\n",
        "    temp3=temp3/2\n",
        "    label3.append(temp3)"
      ]
    },
    {
      "cell_type": "code",
      "execution_count": null,
      "metadata": {
        "colab": {
          "base_uri": "https://localhost:8080/"
        },
        "id": "fJPDV5ngF-io",
        "outputId": "72a65407-75dc-43e4-b14d-e0d1473a67f8"
      },
      "outputs": [
        {
          "data": {
            "text/plain": [
              "[None]"
            ]
          },
          "execution_count": 169,
          "metadata": {},
          "output_type": "execute_result"
        }
      ],
      "source": [
        "label0.pop(0)\n",
        "label1.pop(0)\n",
        "label2.pop(0)\n",
        "label3.pop(0)"
      ]
    },
    {
      "cell_type": "code",
      "execution_count": null,
      "metadata": {
        "id": "3MzTVlCy-l7w"
      },
      "outputs": [],
      "source": [
        "l0 = np.array(label0)\n",
        "l1 = np.array(label1)\n",
        "l2 = np.array(label2)\n",
        "l3 = np.array(label3)"
      ]
    },
    {
      "cell_type": "code",
      "execution_count": null,
      "metadata": {
        "id": "tek9PnyJFavp"
      },
      "outputs": [],
      "source": [
        "tl0 = np. average(l0, axis=0)\n",
        "tl1 = np. average(l1, axis=0)\n",
        "tl2 = np. average(l2, axis=0)\n",
        "tl3 = np. average(l3, axis=0)"
      ]
    },
    {
      "cell_type": "code",
      "execution_count": null,
      "metadata": {
        "colab": {
          "base_uri": "https://localhost:8080/",
          "height": 388
        },
        "id": "O72u5_NfFrqa",
        "outputId": "812ab745-73ff-434d-feee-32852627889e"
      },
      "outputs": [
        {
          "data": {
            "image/png": "[encoded data removed]",
            "text/plain": [
              "<Figure size 720x432 with 1 Axes>"
            ]
          },
          "metadata": {},
          "output_type": "display_data"
        }
      ],
      "source": [
        "plt.figure(figsize=(10,6))\n",
        "plt.plot(tl0, label='Label 0')\n",
        "plt.plot(tl1, label='Label 1')\n",
        "plt.plot(tl2, label='Label 2')\n",
        "plt.plot(tl3, label = 'Label 3')\n",
        "\n",
        "plt.legend()\n",
        "plt.xticks(ticks=np.arange(1,26,1))\n",
        "plt.grid()\n",
        "plt.xlabel(\"Sensor\")\n",
        "plt.ylabel(\"Averaged label sensor data\")\n",
        "# plt.title('1st Min')\n",
        "plt.show()"
      ]
    },
    {
      "cell_type": "code",
      "execution_count": null,
      "metadata": {
        "colab": {
          "base_uri": "https://localhost:8080/"
        },
        "id": "l-1DcLQQHu74",
        "outputId": "d07c3203-eac1-431c-eb85-a79ef431e30b"
      },
      "outputs": [
        {
          "name": "stdout",
          "output_type": "stream",
          "text": [
            "0.5006523307631787\n",
            "0.5005484185671039\n",
            "0.4999864074436827\n",
            "0.5008804522979399\n",
            "0.0027820417497477147\n",
            "0.0034924487073657823\n",
            "0.002542413979920706\n",
            "0.002573603041040449\n"
          ]
        }
      ],
      "source": [
        "print(np.mean(tl0))\n",
        "print(np.mean(tl1))\n",
        "print(np.mean(tl2))\n",
        "print(np.mean(tl3))\n",
        "\n",
        "\n",
        "print(np.std(tl0))\n",
        "print(np.std(tl1))\n",
        "print(np.std(tl2))\n",
        "print(np.std(tl3))"
      ]
    },
    {
      "cell_type": "code",
      "execution_count": null,
      "metadata": {
        "id": "1eyPMT2LIKWY"
      },
      "outputs": [],
      "source": [
        "A = np.array([[1,2],[3,1]])\n",
        "max = A.max(axis=0, keepdims=True)"
      ]
    },
    {
      "cell_type": "code",
      "execution_count": null,
      "metadata": {
        "colab": {
          "base_uri": "https://localhost:8080/"
        },
        "id": "tDQjqndgKmzT",
        "outputId": "de622352-7ddc-469a-81b9-fb9a5e4d4266"
      },
      "outputs": [
        {
          "data": {
            "text/plain": [
              "array([[3, 2]])"
            ]
          },
          "execution_count": 178,
          "metadata": {},
          "output_type": "execute_result"
        }
      ],
      "source": [
        "max"
      ]
    },
    {
      "cell_type": "code",
      "execution_count": null,
      "metadata": {
        "id": "x0NY-ckfKyfk"
      },
      "outputs": [],
      "source": [
        "label0 = [[]]\n",
        "label1 = [[]]\n",
        "label2 = [[]]\n",
        "label3 = [[]]\n",
        "\n",
        "num0=num1=num2=num3=0\n",
        "\n",
        "\n",
        "for i in range(10,50000,11):\n",
        "  # print(i)\n",
        "  if (df['SampleID'][i] == 0):\n",
        "    temp0 = [[]]\n",
        "    for j in range(1,11):\n",
        "      label0.append(np.array(df.iloc[i-j][2:]))\n",
        "    # temp0.pop(0)\n",
        "    # temp0 = np.array(temp0, dtype=np.float)\n",
        "    # label0.append(temp0)\n",
        "\n",
        "  elif (df['SampleID'][i] == 1):\n",
        "    temp1 = [[]]\n",
        "    for j in range(1,11):\n",
        "      label1.append(np.array(df.iloc[i-j][2:]))\n",
        "    # temp1.pop(0)\n",
        "    # temp1 = np.array(temp1, dtype=np.float)\n",
        "    # print(temp1)\n",
        "\n",
        "    # label1.append(temp1)\n",
        "\n",
        "  elif (df['SampleID'][i] == 2):\n",
        "    temp2 = [[]]\n",
        "    for j in range(1,11):\n",
        "      label2.append(np.array(df.iloc[i-j][2:]))\n",
        "    # temp2.pop(0)\n",
        "    # temp2 = np.array(temp2,dtype=np.float)\n",
        "    # label2.append(temp2)\n",
        "\n",
        "  elif (df['SampleID'][i] == 3):\n",
        "    temp3 = [[]]\n",
        "    for j in range(1,11):\n",
        "      label3.append(np.array(df.iloc[i-j][2:]))\n",
        "    # temp3.pop(0)\n",
        "    # temp3 = np.array(temp3, dtype=np.float)\n",
        "    # label3.append(temp3)"
      ]
    },
    {
      "cell_type": "code",
      "source": [
        "label3[0]"
      ],
      "metadata": {
        "colab": {
          "base_uri": "https://localhost:8080/"
        },
        "id": "ZFRtxVE4wukL",
        "outputId": "33a88b9c-aa42-45b7-a83a-2333d1cf297d"
      },
      "execution_count": null,
      "outputs": [
        {
          "output_type": "execute_result",
          "data": {
            "text/plain": [
              "[]"
            ]
          },
          "metadata": {},
          "execution_count": 43
        }
      ]
    },
    {
      "cell_type": "code",
      "execution_count": null,
      "metadata": {
        "colab": {
          "base_uri": "https://localhost:8080/"
        },
        "id": "TVYCMgDTLyuL",
        "outputId": "a393805d-91a9-4b56-8f96-185427c0dec2"
      },
      "outputs": [
        {
          "output_type": "execute_result",
          "data": {
            "text/plain": [
              "[]"
            ]
          },
          "metadata": {},
          "execution_count": 44
        }
      ],
      "source": [
        "label0.pop(0)\n",
        "label1.pop(0)\n",
        "label2.pop(0)\n",
        "label3.pop(0)"
      ]
    },
    {
      "cell_type": "code",
      "execution_count": null,
      "metadata": {
        "id": "d4ZFC_jnMh2m"
      },
      "outputs": [],
      "source": [
        "# label0.shape"
      ]
    },
    {
      "cell_type": "code",
      "execution_count": null,
      "metadata": {
        "id": "5HSOa-HKMUDa"
      },
      "outputs": [],
      "source": [
        "l0 = np.array(label0,dtype=float)\n",
        "l1 = np.array(label1,dtype=float)\n",
        "l2 = np.array(label2,dtype=float)\n",
        "l3 = np.array(label3,dtype=float)"
      ]
    },
    {
      "cell_type": "code",
      "source": [
        "l0.shape"
      ],
      "metadata": {
        "colab": {
          "base_uri": "https://localhost:8080/"
        },
        "id": "_sJKMCE4w-Wv",
        "outputId": "14e530df-845e-46c0-9c0f-0ea8645ae95e"
      },
      "execution_count": null,
      "outputs": [
        {
          "output_type": "execute_result",
          "data": {
            "text/plain": [
              "(12710, 25)"
            ]
          },
          "metadata": {},
          "execution_count": 48
        }
      ]
    },
    {
      "cell_type": "code",
      "source": [
        "l0"
      ],
      "metadata": {
        "colab": {
          "base_uri": "https://localhost:8080/"
        },
        "id": "w0mp3V-fxpB6",
        "outputId": "4bcb6a7d-f478-4e13-d360-45b70aaadcf8"
      },
      "execution_count": null,
      "outputs": [
        {
          "output_type": "execute_result",
          "data": {
            "text/plain": [
              "array([[0.8026, 0.1799, 0.9962, ..., 0.3685, 0.9753, 0.7563],\n",
              "       [0.9583, 0.6121, 0.761 , ..., 0.4604, 0.0893, 0.0837],\n",
              "       [0.8039, 0.3304, 0.8187, ..., 0.2065, 0.4471, 0.9531],\n",
              "       ...,\n",
              "       [0.1566, 0.768 , 0.3957, ..., 0.344 , 0.6862, 0.9626],\n",
              "       [0.265 , 0.8594, 0.7347, ..., 0.0896, 0.809 , 0.2485],\n",
              "       [0.5534, 0.8612, 0.0047, ..., 0.1836, 0.4454, 0.0097]])"
            ]
          },
          "metadata": {},
          "execution_count": 33
        }
      ]
    },
    {
      "cell_type": "code",
      "source": [
        "l0=np.transpose(l0)\n",
        "l1=np.transpose(l1)\n",
        "l2=np.transpose(l2)\n",
        "l3=np.transpose(l3)"
      ],
      "metadata": {
        "id": "AHMmdd6Fxg9j"
      },
      "execution_count": null,
      "outputs": []
    },
    {
      "cell_type": "code",
      "source": [
        "np.std(np.array([1,2,3]))"
      ],
      "metadata": {
        "colab": {
          "base_uri": "https://localhost:8080/"
        },
        "id": "KqnkrvNDxwv3",
        "outputId": "0be9851a-9a7e-4616-8031-e007afb49193"
      },
      "execution_count": null,
      "outputs": [
        {
          "output_type": "execute_result",
          "data": {
            "text/plain": [
              "0.816496580927726"
            ]
          },
          "metadata": {},
          "execution_count": 53
        }
      ]
    },
    {
      "cell_type": "code",
      "source": [
        "l1.shape"
      ],
      "metadata": {
        "colab": {
          "base_uri": "https://localhost:8080/"
        },
        "id": "aaZB7G3yyGUQ",
        "outputId": "acd13aeb-2342-4599-a9e6-629a28efe1ae"
      },
      "execution_count": null,
      "outputs": [
        {
          "output_type": "execute_result",
          "data": {
            "text/plain": [
              "(25, 9910)"
            ]
          },
          "metadata": {},
          "execution_count": 54
        }
      ]
    },
    {
      "cell_type": "code",
      "source": [
        "tl0 = np.var(l0,axis=1)\n",
        "tl1 = np.var(l1,axis=1)\n",
        "tl2 = np.var(l2,axis=1)\n",
        "tl3 = np.var(l3,axis=1)"
      ],
      "metadata": {
        "id": "0O6B9fcBw4vf"
      },
      "execution_count": null,
      "outputs": []
    },
    {
      "cell_type": "code",
      "source": [
        "tl0.shape"
      ],
      "metadata": {
        "colab": {
          "base_uri": "https://localhost:8080/"
        },
        "id": "-jjRlCLXoosr",
        "outputId": "fa08eb7a-9ce6-4511-dbac-bf706849b973"
      },
      "execution_count": null,
      "outputs": [
        {
          "output_type": "execute_result",
          "data": {
            "text/plain": [
              "(25,)"
            ]
          },
          "metadata": {},
          "execution_count": 56
        }
      ]
    },
    {
      "cell_type": "code",
      "execution_count": null,
      "metadata": {
        "id": "UhOChaO6Ppmy"
      },
      "outputs": [],
      "source": [
        "# np.resize()\n",
        "tl0 = tl0.flatten()\n",
        "tl1 = tl1.flatten()\n",
        "tl2 = tl2.flatten()\n",
        "tl3 = tl3.flatten()"
      ]
    },
    {
      "cell_type": "code",
      "execution_count": null,
      "metadata": {
        "colab": {
          "base_uri": "https://localhost:8080/",
          "height": 497
        },
        "id": "NHfNFYaYMdUD",
        "outputId": "ad2b4f4b-8a2c-481c-9291-7dd2fcffe535"
      },
      "outputs": [
        {
          "output_type": "display_data",
          "data": {
            "text/plain": [
              "<Figure size 864x576 with 1 Axes>"
            ],
            "image/png": "[encoded data removed]"
          },
          "metadata": {
            "needs_background": "light"
          }
        }
      ],
      "source": [
        "plt.figure(figsize=(12,8))\n",
        "plt.plot(tl0, label='No Risk')\n",
        "plt.plot(tl1, label='Low Risk')\n",
        "plt.plot(tl2, label='Medium Risk')\n",
        "plt.plot(tl3, label = 'Catastrophic')\n",
        "\n",
        "plt.legend()\n",
        "plt.xticks(ticks=np.arange(0,25,1))\n",
        "plt.grid()\n",
        "plt.xlabel(\"Sensor\")\n",
        "plt.ylabel(\"Variance of sensor Values\")\n",
        "# plt.title('1st Min')\n",
        "plt.show()"
      ]
    },
    {
      "cell_type": "code",
      "execution_count": null,
      "metadata": {
        "colab": {
          "base_uri": "https://localhost:8080/"
        },
        "id": "YryHSpLbMdlw",
        "outputId": "4e4f531a-249f-4de3-b5a1-2882fd17cf77"
      },
      "outputs": [
        {
          "name": "stdout",
          "output_type": "stream",
          "text": [
            "0.9098648717545242\n",
            "0.9090099778002019\n",
            "0.9088388129285017\n",
            "0.9097591283676703\n",
            "0.001922154501434963\n",
            "0.0024081698593950746\n",
            "0.0027255268517101445\n",
            "0.002731052234009093\n"
          ]
        }
      ],
      "source": [
        "print(np.mean(tl0))\n",
        "print(np.mean(tl1))\n",
        "print(np.mean(tl2))\n",
        "print(np.mean(tl3))\n",
        "\n",
        "\n",
        "print(np.std(tl0))\n",
        "print(np.std(tl1))\n",
        "print(np.std(tl2))\n",
        "print(np.std(tl3))"
      ]
    },
    {
      "cell_type": "code",
      "execution_count": null,
      "metadata": {
        "id": "Q4vF_gY0QeE7"
      },
      "outputs": [],
      "source": [
        "#max ka max\n",
        "tl0 = l0.max(axis=0,keepdims=True)\n",
        "tl1 = l1.max(axis=0,keepdims=True)\n",
        "tl2 = l2.max(axis=0,keepdims=True)\n",
        "tl3 = l3.max(axis=0,keepdims=True)"
      ]
    },
    {
      "cell_type": "code",
      "execution_count": null,
      "metadata": {
        "id": "SIOpHHM5REfM"
      },
      "outputs": [],
      "source": [
        "tl0 = tl0.flatten()\n",
        "tl1 = tl1.flatten()\n",
        "tl2 = tl2.flatten()\n",
        "tl3 = tl3.flatten()"
      ]
    },
    {
      "cell_type": "code",
      "execution_count": null,
      "metadata": {
        "colab": {
          "base_uri": "https://localhost:8080/",
          "height": 399
        },
        "id": "PTYsZdNhQ-E6",
        "outputId": "64511f73-add3-46b8-c6dc-62c48002495d"
      },
      "outputs": [
        {
          "data": {
            "image/png": "[encoded data removed]",
            "text/plain": [
              "<Figure size 720x432 with 1 Axes>"
            ]
          },
          "metadata": {},
          "output_type": "display_data"
        }
      ],
      "source": [
        "plt.figure(figsize=(10,6))\n",
        "plt.plot(tl0, label='Label 0')\n",
        "plt.plot(tl1, label='Label 1')\n",
        "plt.plot(tl2, label='Label 2')\n",
        "plt.plot(tl3, label = 'Label 3')\n",
        "\n",
        "plt.legend()\n",
        "plt.xticks(ticks=np.arange(1,26,1))\n",
        "plt.grid()\n",
        "plt.xlabel(\"Sensor\")\n",
        "plt.ylabel(\"Averaged label sensor data\")\n",
        "# plt.title('1st Min')\n",
        "plt.show()"
      ]
    },
    {
      "cell_type": "code",
      "execution_count": null,
      "metadata": {
        "colab": {
          "base_uri": "https://localhost:8080/"
        },
        "id": "ACJ3hkTZRAy6",
        "outputId": "e0a82429-0e2f-47c6-958a-878bb24e0bf6"
      },
      "outputs": [
        {
          "data": {
            "text/plain": [
              "array([0.9999, 0.9999, 1.    , 1.    , 1.    , 0.9999, 0.9998, 0.9999,\n",
              "       1.    , 1.    , 0.9999, 0.9999, 0.9999, 1.    , 1.    , 1.    ,\n",
              "       0.9998, 0.9999, 0.9999, 1.    , 0.9999, 1.    , 0.9998, 1.    ,\n",
              "       0.9999])"
            ]
          },
          "execution_count": 217,
          "metadata": {},
          "output_type": "execute_result"
        }
      ],
      "source": [
        "tl0"
      ]
    },
    {
      "cell_type": "code",
      "execution_count": null,
      "metadata": {
        "colab": {
          "base_uri": "https://localhost:8080/"
        },
        "id": "xAf_pnimRTQ4",
        "outputId": "d78bb884-85f9-4a5a-9f05-cf1b1619ba04"
      },
      "outputs": [
        {
          "data": {
            "text/plain": [
              "array([0.9999, 0.9998, 0.9999, 0.9998, 0.9998, 1.    , 0.9997, 1.    ,\n",
              "       0.9998, 1.    , 0.9999, 0.9999, 0.9999, 0.9998, 0.9999, 0.9999,\n",
              "       1.    , 0.9999, 0.9999, 1.    , 0.9999, 1.    , 0.9998, 1.    ,\n",
              "       0.9999])"
            ]
          },
          "execution_count": 218,
          "metadata": {},
          "output_type": "execute_result"
        }
      ],
      "source": [
        "tl1"
      ]
    },
    {
      "cell_type": "code",
      "execution_count": null,
      "metadata": {
        "colab": {
          "base_uri": "https://localhost:8080/"
        },
        "id": "3m-__SpZRVch",
        "outputId": "2b51c14a-b625-42bc-bebb-928772dc0f9e"
      },
      "outputs": [
        {
          "data": {
            "text/plain": [
              "array([0.9999, 0.9999, 0.9999, 0.9999, 0.9997, 0.9998, 1.    , 0.9999,\n",
              "       1.    , 0.9998, 0.9999, 0.9997, 0.9998, 0.9999, 0.9995, 0.9999,\n",
              "       1.    , 1.    , 0.9998, 1.    , 1.    , 0.9999, 0.9999, 0.9999,\n",
              "       0.9999])"
            ]
          },
          "execution_count": 219,
          "metadata": {},
          "output_type": "execute_result"
        }
      ],
      "source": [
        "tl2"
      ]
    },
    {
      "cell_type": "code",
      "execution_count": null,
      "metadata": {
        "colab": {
          "base_uri": "https://localhost:8080/"
        },
        "id": "UK4-VqjhRaGj",
        "outputId": "70b35d1b-4270-499b-bd93-948b9868a314"
      },
      "outputs": [
        {
          "data": {
            "text/plain": [
              "array([1.    , 0.9999, 0.9998, 1.    , 1.    , 1.    , 0.9998, 1.    ,\n",
              "       0.9999, 1.    , 0.9999, 1.    , 1.    , 1.    , 1.    , 1.    ,\n",
              "       0.9999, 0.9999, 1.    , 0.9999, 1.    , 0.9996, 0.9999, 0.9998,\n",
              "       1.    ])"
            ]
          },
          "execution_count": 220,
          "metadata": {},
          "output_type": "execute_result"
        }
      ],
      "source": [
        "tl3"
      ]
    },
    {
      "cell_type": "code",
      "execution_count": null,
      "metadata": {
        "id": "vLzPxe8HRbiD"
      },
      "outputs": [],
      "source": []
    },
    {
      "cell_type": "markdown",
      "metadata": {
        "id": "Mbk-dwb1Pxko"
      },
      "source": [
        "### Mean ka Max"
      ]
    },
    {
      "cell_type": "code",
      "execution_count": null,
      "metadata": {
        "colab": {
          "base_uri": "https://localhost:8080/"
        },
        "id": "yE4nqHJVPzOJ",
        "outputId": "3ac11d49-513e-4f9e-b48c-cb44c498840f"
      },
      "outputs": [
        {
          "name": "stderr",
          "output_type": "stream",
          "text": [
            "<ipython-input-66-ac6a36198da5>:24: DeprecationWarning: `np.float` is a deprecated alias for the builtin `float`. To silence this warning, use `float` by itself. Doing this will not modify any behavior and is safe. If you specifically wanted the numpy scalar type, use `np.float64` here.\n",
            "Deprecated in NumPy 1.20; for more details and guidance: https://numpy.org/devdocs/release/1.20.0-notes.html#deprecations\n",
            "  temp1 = np.array(temp1, dtype=np.float)\n",
            "<ipython-input-66-ac6a36198da5>:34: DeprecationWarning: `np.float` is a deprecated alias for the builtin `float`. To silence this warning, use `float` by itself. Doing this will not modify any behavior and is safe. If you specifically wanted the numpy scalar type, use `np.float64` here.\n",
            "Deprecated in NumPy 1.20; for more details and guidance: https://numpy.org/devdocs/release/1.20.0-notes.html#deprecations\n",
            "  temp2 = np.array(temp2,dtype=np.float)\n",
            "<ipython-input-66-ac6a36198da5>:42: DeprecationWarning: `np.float` is a deprecated alias for the builtin `float`. To silence this warning, use `float` by itself. Doing this will not modify any behavior and is safe. If you specifically wanted the numpy scalar type, use `np.float64` here.\n",
            "Deprecated in NumPy 1.20; for more details and guidance: https://numpy.org/devdocs/release/1.20.0-notes.html#deprecations\n",
            "  temp3 = np.array(temp3, dtype=np.float)\n",
            "<ipython-input-66-ac6a36198da5>:16: DeprecationWarning: `np.float` is a deprecated alias for the builtin `float`. To silence this warning, use `float` by itself. Doing this will not modify any behavior and is safe. If you specifically wanted the numpy scalar type, use `np.float64` here.\n",
            "Deprecated in NumPy 1.20; for more details and guidance: https://numpy.org/devdocs/release/1.20.0-notes.html#deprecations\n",
            "  temp0 = np.array(temp0, dtype=np.float)\n"
          ]
        }
      ],
      "source": [
        "label0 = [[None]]\n",
        "label1 = [[None]]\n",
        "label2 = [[None]]\n",
        "label3 = [[None]]\n",
        "\n",
        "num0=num1=num2=num3=0\n",
        "\n",
        "\n",
        "for i in range(10,50000,11):\n",
        "  # print(i)\n",
        "  if (df['SampleID'][i] == 0):\n",
        "    temp0 = [[]]\n",
        "    for j in range(1,11):\n",
        "      temp0.append(np.array(df.iloc[i-j][2:]))\n",
        "    temp0.pop(0)\n",
        "    temp0 = np.array(temp0, dtype=np.float)\n",
        "    label0.append(np.average(temp0,axis=0))\n",
        "\n",
        "  elif (df['SampleID'][i] == 1):\n",
        "    temp1 = [[]]\n",
        "    for j in range(1,11):\n",
        "      temp1.append(np.array(df.iloc[i-j][2:]))\n",
        "    temp1.pop(0)\n",
        "    temp1 = np.array(temp1, dtype=np.float)\n",
        "    # print(temp1)\n",
        "\n",
        "    label1.append(np.average(temp1,axis=0))\n",
        "\n",
        "  elif (df['SampleID'][i] == 2):\n",
        "    temp2 = [[]]\n",
        "    for j in range(1,11):\n",
        "      temp2.append(np.array(df.iloc[i-j][2:]))\n",
        "    temp2.pop(0)\n",
        "    temp2 = np.array(temp2,dtype=np.float)\n",
        "    label2.append(np.average(temp2,axis=0))\n",
        "\n",
        "  elif (df['SampleID'][i] == 3):\n",
        "    temp3 = [[]]\n",
        "    for j in range(1,11):\n",
        "      temp3.append(np.array(df.iloc[i-j][2:]))\n",
        "    temp3.pop(0)\n",
        "    temp3 = np.array(temp3, dtype=np.float)\n",
        "    label3.append(np.average(temp3,axis=0))"
      ]
    },
    {
      "cell_type": "code",
      "execution_count": null,
      "metadata": {
        "colab": {
          "base_uri": "https://localhost:8080/"
        },
        "id": "4ZzRSrJKQqYP",
        "outputId": "310f185b-802f-4b55-8358-f7cfabe45c7c"
      },
      "outputs": [
        {
          "data": {
            "text/plain": [
              "[None]"
            ]
          },
          "execution_count": 67,
          "metadata": {},
          "output_type": "execute_result"
        }
      ],
      "source": [
        "label0.pop(0)\n",
        "label1.pop(0)\n",
        "label2.pop(0)\n",
        "label3.pop(0)"
      ]
    },
    {
      "cell_type": "code",
      "execution_count": null,
      "metadata": {
        "id": "wC6zJmjnRNFX"
      },
      "outputs": [],
      "source": [
        "label0 = np.array(label0,dtype=float)\n",
        "label1 = np.array(label1,dtype=float)\n",
        "label2 = np.array(label2,dtype=float)\n",
        "label3 = np.array(label3,dtype=float)"
      ]
    },
    {
      "cell_type": "code",
      "execution_count": null,
      "metadata": {
        "id": "AcvInu3fQvFj"
      },
      "outputs": [],
      "source": [
        "tl0 = label0.max(axis=0,keepdims=True)\n",
        "tl1 = label1.max(axis=0,keepdims=True)\n",
        "tl2 = label2.max(axis=0,keepdims=True)\n",
        "tl3 = label3.max(axis=0,keepdims=True)"
      ]
    },
    {
      "cell_type": "code",
      "execution_count": null,
      "metadata": {
        "id": "aByNsGlwRGka"
      },
      "outputs": [],
      "source": [
        "tl0 = tl0.flatten()\n",
        "tl1 = tl1.flatten()\n",
        "tl2 = tl2.flatten()\n",
        "tl3 = tl3.flatten()"
      ]
    },
    {
      "cell_type": "code",
      "execution_count": null,
      "metadata": {
        "colab": {
          "base_uri": "https://localhost:8080/",
          "height": 388
        },
        "id": "AaOWII4wRaNg",
        "outputId": "c205f7ad-77d9-4514-ac8b-d77ec070ba13"
      },
      "outputs": [
        {
          "data": {
            "image/png": "[encoded data removed]",
            "text/plain": [
              "<Figure size 720x432 with 1 Axes>"
            ]
          },
          "metadata": {},
          "output_type": "display_data"
        }
      ],
      "source": [
        "plt.figure(figsize=(10,6))\n",
        "plt.plot(tl0, label='Label 0')\n",
        "plt.plot(tl1, label='Label 1')\n",
        "plt.plot(tl2, label='Label 2')\n",
        "plt.plot(tl3, label = 'Label 3')\n",
        "\n",
        "plt.legend()\n",
        "plt.xticks(ticks=np.arange(1,26,1))\n",
        "plt.grid()\n",
        "plt.xlabel(\"Sensor\")\n",
        "plt.ylabel(\"Averaged label sensor data\")\n",
        "# plt.title('1st Min')\n",
        "plt.show()"
      ]
    },
    {
      "cell_type": "code",
      "execution_count": null,
      "metadata": {
        "colab": {
          "base_uri": "https://localhost:8080/"
        },
        "id": "KdwPF5viRhie",
        "outputId": "845fc7d2-cc40-4271-fc59-df05ff062d16"
      },
      "outputs": [
        {
          "name": "stdout",
          "output_type": "stream",
          "text": [
            "0.7808052000000001\n",
            "0.7812972\n",
            "0.7820244\n",
            "0.7885756\n",
            "0.01807169812054194\n",
            "0.028650662473318118\n",
            "0.02365147573915846\n",
            "0.02361360863231198\n"
          ]
        }
      ],
      "source": [
        "print(np.mean(tl0))\n",
        "print(np.mean(tl1))\n",
        "print(np.mean(tl2))\n",
        "print(np.mean(tl3))\n",
        "\n",
        "\n",
        "print(np.std(tl0))\n",
        "print(np.std(tl1))\n",
        "print(np.std(tl2))\n",
        "print(np.std(tl3))"
      ]
    },
    {
      "cell_type": "code",
      "execution_count": null,
      "metadata": {
        "colab": {
          "base_uri": "https://localhost:8080/"
        },
        "id": "bW38YejaURql",
        "outputId": "0d361d3e-66f3-4fbe-e089-244a06a45d98"
      },
      "outputs": [
        {
          "data": {
            "text/plain": [
              "array([[1.        , 0.12287322],\n",
              "       [0.12287322, 1.        ]])"
            ]
          },
          "execution_count": 34,
          "metadata": {},
          "output_type": "execute_result"
        }
      ],
      "source": [
        "np.corrcoef(tl1,tl3)"
      ]
    },
    {
      "cell_type": "code",
      "execution_count": null,
      "metadata": {
        "colab": {
          "base_uri": "https://localhost:8080/"
        },
        "id": "6KbSW8qYUVk9",
        "outputId": "e7e68b8b-a5f0-4ed7-d71e-2c1c88c1ff13"
      },
      "outputs": [
        {
          "data": {
            "text/plain": [
              "array([[1.        , 0.44416346],\n",
              "       [0.44416346, 1.        ]])"
            ]
          },
          "execution_count": 35,
          "metadata": {},
          "output_type": "execute_result"
        }
      ],
      "source": [
        "np.corrcoef(tl1[0:16],tl3[0:16])"
      ]
    },
    {
      "cell_type": "markdown",
      "metadata": {
        "id": "7reLhwOdSdGh"
      },
      "source": [
        "### All sensors averaged for all labels"
      ]
    },
    {
      "cell_type": "code",
      "execution_count": null,
      "metadata": {
        "colab": {
          "base_uri": "https://localhost:8080/"
        },
        "id": "S9A7itCcSjZD",
        "outputId": "5e485ee1-38ba-4c65-b698-f8536e1d2a1c"
      },
      "outputs": [
        {
          "name": "stderr",
          "output_type": "stream",
          "text": [
            "<ipython-input-64-511f8c488ea1>:24: DeprecationWarning: `np.float` is a deprecated alias for the builtin `float`. To silence this warning, use `float` by itself. Doing this will not modify any behavior and is safe. If you specifically wanted the numpy scalar type, use `np.float64` here.\n",
            "Deprecated in NumPy 1.20; for more details and guidance: https://numpy.org/devdocs/release/1.20.0-notes.html#deprecations\n",
            "  temp1 = np.array(temp1, dtype=np.float)\n",
            "<ipython-input-64-511f8c488ea1>:34: DeprecationWarning: `np.float` is a deprecated alias for the builtin `float`. To silence this warning, use `float` by itself. Doing this will not modify any behavior and is safe. If you specifically wanted the numpy scalar type, use `np.float64` here.\n",
            "Deprecated in NumPy 1.20; for more details and guidance: https://numpy.org/devdocs/release/1.20.0-notes.html#deprecations\n",
            "  temp2 = np.array(temp2,dtype=np.float)\n",
            "<ipython-input-64-511f8c488ea1>:42: DeprecationWarning: `np.float` is a deprecated alias for the builtin `float`. To silence this warning, use `float` by itself. Doing this will not modify any behavior and is safe. If you specifically wanted the numpy scalar type, use `np.float64` here.\n",
            "Deprecated in NumPy 1.20; for more details and guidance: https://numpy.org/devdocs/release/1.20.0-notes.html#deprecations\n",
            "  temp3 = np.array(temp3, dtype=np.float)\n",
            "<ipython-input-64-511f8c488ea1>:16: DeprecationWarning: `np.float` is a deprecated alias for the builtin `float`. To silence this warning, use `float` by itself. Doing this will not modify any behavior and is safe. If you specifically wanted the numpy scalar type, use `np.float64` here.\n",
            "Deprecated in NumPy 1.20; for more details and guidance: https://numpy.org/devdocs/release/1.20.0-notes.html#deprecations\n",
            "  temp0 = np.array(temp0, dtype=np.float)\n"
          ]
        }
      ],
      "source": [
        "label0 = []\n",
        "label1 = []\n",
        "label2 = []\n",
        "label3 = []\n",
        "\n",
        "num0=num1=num2=num3=0\n",
        "\n",
        "\n",
        "for i in range(10,50000,11):\n",
        "  # print(i)\n",
        "  if (df['SampleID'][i] == 0):\n",
        "    temp0 = [[]]\n",
        "    for j in range(1,11):\n",
        "      temp0.append(np.array(df.iloc[i-j][2:]))\n",
        "    temp0.pop(0)\n",
        "    temp0 = np.array(temp0, dtype=np.float)\n",
        "    label0.append(np.average(np.average(temp0,axis=0)))\n",
        "\n",
        "  elif (df['SampleID'][i] == 1):\n",
        "    temp1 = [[]]\n",
        "    for j in range(1,11):\n",
        "      temp1.append(np.array(df.iloc[i-j][2:]))\n",
        "    temp1.pop(0)\n",
        "    temp1 = np.array(temp1, dtype=np.float)\n",
        "    # print(temp1)\n",
        "\n",
        "    label1.append(np.average(np.average(temp1,axis=0)))\n",
        "\n",
        "  elif (df['SampleID'][i] == 2):\n",
        "    temp2 = [[]]\n",
        "    for j in range(1,11):\n",
        "      temp2.append(np.array(df.iloc[i-j][2:]))\n",
        "    temp2.pop(0)\n",
        "    temp2 = np.array(temp2,dtype=np.float)\n",
        "    label2.append(np.average(np.average(temp2,axis=0)))\n",
        "\n",
        "  elif (df['SampleID'][i] == 3):\n",
        "    temp3 = [[]]\n",
        "    for j in range(1,11):\n",
        "      temp3.append(np.array(df.iloc[i-j][2:]))\n",
        "    temp3.pop(0)\n",
        "    temp3 = np.array(temp3, dtype=np.float)\n",
        "    label3.append(np.average(np.average(temp3,axis=0)))"
      ]
    },
    {
      "cell_type": "code",
      "execution_count": null,
      "metadata": {
        "id": "RixzBHWtS-P6"
      },
      "outputs": [],
      "source": [
        "label0 = np.array(label0,dtype=float)\n",
        "label1 = np.array(label1,dtype=float)\n",
        "label2 = np.array(label2,dtype=float)\n",
        "label3 = np.array(label3,dtype=float)"
      ]
    },
    {
      "cell_type": "code",
      "execution_count": null,
      "metadata": {
        "colab": {
          "base_uri": "https://localhost:8080/"
        },
        "id": "EHB4M9Z6Xpgk",
        "outputId": "80c4f9e5-627c-447a-ee30-4674cb831154"
      },
      "outputs": [
        {
          "data": {
            "text/plain": [
              "991"
            ]
          },
          "execution_count": 46,
          "metadata": {},
          "output_type": "execute_result"
        }
      ],
      "source": [
        "len(label1)"
      ]
    },
    {
      "cell_type": "code",
      "execution_count": null,
      "metadata": {
        "id": "5xxFfyfxXfzQ"
      },
      "outputs": [],
      "source": [
        "plt.figure(figsize=(100,60))\n",
        "plt.plot(label0, label='Label 0')\n",
        "# plt.plot(tl1, label='Label 1')\n",
        "# plt.plot(tl2, label='Label 2')\n",
        "# plt.plot(tl3, label = 'Label 3')\n",
        "\n",
        "plt.legend()\n",
        "# plt.xticks(ticks=np.arange(1,26,1))\n",
        "plt.grid()\n",
        "plt.xlabel(\"Sensor\")\n",
        "plt.ylabel(\"Averaged label sensor data\")\n",
        "# plt.title('1st Min')\n",
        "plt.show()"
      ]
    },
    {
      "cell_type": "code",
      "execution_count": null,
      "metadata": {
        "id": "7wK5L0GdgxrO"
      },
      "outputs": [],
      "source": [
        "import tensorflow as tf\n",
        "import tensorflow.keras"
      ]
    },
    {
      "cell_type": "code",
      "execution_count": null,
      "metadata": {
        "id": "-u-9lgBTg6Fh"
      },
      "outputs": [],
      "source": [
        "from tensorflow.keras import layers"
      ]
    },
    {
      "cell_type": "code",
      "execution_count": null,
      "metadata": {
        "id": "MCAc4BWcjSJo"
      },
      "outputs": [],
      "source": [
        "from tensorflow.keras import Sequential"
      ]
    },
    {
      "cell_type": "code",
      "execution_count": null,
      "metadata": {
        "id": "PjyFAY6dmvPg"
      },
      "outputs": [],
      "source": [
        "from keras.layers import Dense\n",
        "from keras.layers import TimeDistributed\n",
        "from keras.layers import LSTM"
      ]
    },
    {
      "cell_type": "code",
      "execution_count": null,
      "metadata": {
        "colab": {
          "base_uri": "https://localhost:8080/",
          "height": 380
        },
        "id": "8opU4ckyX0qv",
        "outputId": "4a51650e-faff-46c5-e44f-a14c682286d7"
      },
      "outputs": [
        {
          "ename": "ValueError",
          "evalue": "ignored",
          "output_type": "error",
          "traceback": [
            "\u001b[0;31m---------------------------------------------------------------------------\u001b[0m",
            "\u001b[0;31mValueError\u001b[0m                                Traceback (most recent call last)",
            "\u001b[0;32m<ipython-input-9-9baac0677745>\u001b[0m in \u001b[0;36m<module>\u001b[0;34m\u001b[0m\n\u001b[1;32m      1\u001b[0m \u001b[0mmodel\u001b[0m \u001b[0;34m=\u001b[0m \u001b[0mSequential\u001b[0m\u001b[0;34m(\u001b[0m\u001b[0;34m)\u001b[0m\u001b[0;34m\u001b[0m\u001b[0;34m\u001b[0m\u001b[0m\n\u001b[1;32m      2\u001b[0m \u001b[0;31m# define CNN model\u001b[0m\u001b[0;34m\u001b[0m\u001b[0;34m\u001b[0m\u001b[0m\n\u001b[0;32m----> 3\u001b[0;31m \u001b[0mmodel\u001b[0m\u001b[0;34m.\u001b[0m\u001b[0madd\u001b[0m\u001b[0;34m(\u001b[0m\u001b[0;34m(\u001b[0m\u001b[0mlayers\u001b[0m\u001b[0;34m.\u001b[0m\u001b[0mConv2D\u001b[0m\u001b[0;34m(\u001b[0m\u001b[0;36m2\u001b[0m\u001b[0;34m,\u001b[0m \u001b[0;36m3\u001b[0m\u001b[0;34m,\u001b[0m \u001b[0mactivation\u001b[0m\u001b[0;34m=\u001b[0m\u001b[0;34m'relu'\u001b[0m\u001b[0;34m,\u001b[0m\u001b[0minput_shape\u001b[0m\u001b[0;34m=\u001b[0m\u001b[0;34m(\u001b[0m\u001b[0;36m10\u001b[0m\u001b[0;34m,\u001b[0m\u001b[0;36m25\u001b[0m\u001b[0;34m)\u001b[0m\u001b[0;34m)\u001b[0m\u001b[0;34m)\u001b[0m\u001b[0;34m)\u001b[0m\u001b[0;34m\u001b[0m\u001b[0;34m\u001b[0m\u001b[0m\n\u001b[0m\u001b[1;32m      4\u001b[0m \u001b[0mmodel\u001b[0m\u001b[0;34m.\u001b[0m\u001b[0madd\u001b[0m\u001b[0;34m(\u001b[0m\u001b[0;34m(\u001b[0m\u001b[0mlayers\u001b[0m\u001b[0;34m.\u001b[0m\u001b[0mMaxPooling2D\u001b[0m\u001b[0;34m(\u001b[0m\u001b[0mpool_size\u001b[0m \u001b[0;34m=\u001b[0m \u001b[0;34m(\u001b[0m\u001b[0;36m2\u001b[0m\u001b[0;34m,\u001b[0m\u001b[0;36m2\u001b[0m\u001b[0;34m)\u001b[0m\u001b[0;34m,\u001b[0m\u001b[0mstrides\u001b[0m\u001b[0;34m=\u001b[0m\u001b[0;32mNone\u001b[0m\u001b[0;34m,\u001b[0m \u001b[0mpadding\u001b[0m\u001b[0;34m=\u001b[0m\u001b[0;34m\"valid\"\u001b[0m\u001b[0;34m)\u001b[0m\u001b[0;34m)\u001b[0m\u001b[0;34m)\u001b[0m\u001b[0;34m\u001b[0m\u001b[0;34m\u001b[0m\u001b[0m\n\u001b[1;32m      5\u001b[0m \u001b[0mmodel\u001b[0m\u001b[0;34m.\u001b[0m\u001b[0madd\u001b[0m\u001b[0;34m(\u001b[0m\u001b[0;34m(\u001b[0m\u001b[0mlayers\u001b[0m\u001b[0;34m.\u001b[0m\u001b[0mFlatten\u001b[0m\u001b[0;34m(\u001b[0m\u001b[0;34m)\u001b[0m\u001b[0;34m)\u001b[0m\u001b[0;34m)\u001b[0m\u001b[0;34m\u001b[0m\u001b[0;34m\u001b[0m\u001b[0m\n",
            "\u001b[0;32m/usr/local/lib/python3.9/dist-packages/tensorflow/python/trackable/base.py\u001b[0m in \u001b[0;36m_method_wrapper\u001b[0;34m(self, *args, **kwargs)\u001b[0m\n\u001b[1;32m    203\u001b[0m     \u001b[0mself\u001b[0m\u001b[0;34m.\u001b[0m\u001b[0m_self_setattr_tracking\u001b[0m \u001b[0;34m=\u001b[0m \u001b[0;32mFalse\u001b[0m  \u001b[0;31m# pylint: disable=protected-access\u001b[0m\u001b[0;34m\u001b[0m\u001b[0;34m\u001b[0m\u001b[0m\n\u001b[1;32m    204\u001b[0m     \u001b[0;32mtry\u001b[0m\u001b[0;34m:\u001b[0m\u001b[0;34m\u001b[0m\u001b[0;34m\u001b[0m\u001b[0m\n\u001b[0;32m--> 205\u001b[0;31m       \u001b[0mresult\u001b[0m \u001b[0;34m=\u001b[0m \u001b[0mmethod\u001b[0m\u001b[0;34m(\u001b[0m\u001b[0mself\u001b[0m\u001b[0;34m,\u001b[0m \u001b[0;34m*\u001b[0m\u001b[0margs\u001b[0m\u001b[0;34m,\u001b[0m \u001b[0;34m**\u001b[0m\u001b[0mkwargs\u001b[0m\u001b[0;34m)\u001b[0m\u001b[0;34m\u001b[0m\u001b[0;34m\u001b[0m\u001b[0m\n\u001b[0m\u001b[1;32m    206\u001b[0m     \u001b[0;32mfinally\u001b[0m\u001b[0;34m:\u001b[0m\u001b[0;34m\u001b[0m\u001b[0;34m\u001b[0m\u001b[0m\n\u001b[1;32m    207\u001b[0m       \u001b[0mself\u001b[0m\u001b[0;34m.\u001b[0m\u001b[0m_self_setattr_tracking\u001b[0m \u001b[0;34m=\u001b[0m \u001b[0mprevious_value\u001b[0m  \u001b[0;31m# pylint: disable=protected-access\u001b[0m\u001b[0;34m\u001b[0m\u001b[0;34m\u001b[0m\u001b[0m\n",
            "\u001b[0;32m/usr/local/lib/python3.9/dist-packages/keras/utils/traceback_utils.py\u001b[0m in \u001b[0;36merror_handler\u001b[0;34m(*args, **kwargs)\u001b[0m\n\u001b[1;32m     68\u001b[0m             \u001b[0;31m# To get the full stack trace, call:\u001b[0m\u001b[0;34m\u001b[0m\u001b[0;34m\u001b[0m\u001b[0m\n\u001b[1;32m     69\u001b[0m             \u001b[0;31m# `tf.debugging.disable_traceback_filtering()`\u001b[0m\u001b[0;34m\u001b[0m\u001b[0;34m\u001b[0m\u001b[0m\n\u001b[0;32m---> 70\u001b[0;31m             \u001b[0;32mraise\u001b[0m \u001b[0me\u001b[0m\u001b[0;34m.\u001b[0m\u001b[0mwith_traceback\u001b[0m\u001b[0;34m(\u001b[0m\u001b[0mfiltered_tb\u001b[0m\u001b[0;34m)\u001b[0m \u001b[0;32mfrom\u001b[0m \u001b[0;32mNone\u001b[0m\u001b[0;34m\u001b[0m\u001b[0;34m\u001b[0m\u001b[0m\n\u001b[0m\u001b[1;32m     71\u001b[0m         \u001b[0;32mfinally\u001b[0m\u001b[0;34m:\u001b[0m\u001b[0;34m\u001b[0m\u001b[0;34m\u001b[0m\u001b[0m\n\u001b[1;32m     72\u001b[0m             \u001b[0;32mdel\u001b[0m \u001b[0mfiltered_tb\u001b[0m\u001b[0;34m\u001b[0m\u001b[0;34m\u001b[0m\u001b[0m\n",
            "\u001b[0;32m/usr/local/lib/python3.9/dist-packages/keras/engine/input_spec.py\u001b[0m in \u001b[0;36massert_input_compatibility\u001b[0;34m(input_spec, inputs, layer_name)\u001b[0m\n\u001b[1;32m    248\u001b[0m             \u001b[0mndim\u001b[0m \u001b[0;34m=\u001b[0m \u001b[0mx\u001b[0m\u001b[0;34m.\u001b[0m\u001b[0mshape\u001b[0m\u001b[0;34m.\u001b[0m\u001b[0mrank\u001b[0m\u001b[0;34m\u001b[0m\u001b[0;34m\u001b[0m\u001b[0m\n\u001b[1;32m    249\u001b[0m             \u001b[0;32mif\u001b[0m \u001b[0mndim\u001b[0m \u001b[0;32mis\u001b[0m \u001b[0;32mnot\u001b[0m \u001b[0;32mNone\u001b[0m \u001b[0;32mand\u001b[0m \u001b[0mndim\u001b[0m \u001b[0;34m<\u001b[0m \u001b[0mspec\u001b[0m\u001b[0;34m.\u001b[0m\u001b[0mmin_ndim\u001b[0m\u001b[0;34m:\u001b[0m\u001b[0;34m\u001b[0m\u001b[0;34m\u001b[0m\u001b[0m\n\u001b[0;32m--> 250\u001b[0;31m                 raise ValueError(\n\u001b[0m\u001b[1;32m    251\u001b[0m                     \u001b[0;34mf'Input {input_index} of layer \"{layer_name}\" '\u001b[0m\u001b[0;34m\u001b[0m\u001b[0;34m\u001b[0m\u001b[0m\n\u001b[1;32m    252\u001b[0m                     \u001b[0;34m\"is incompatible with the layer: \"\u001b[0m\u001b[0;34m\u001b[0m\u001b[0;34m\u001b[0m\u001b[0m\n",
            "\u001b[0;31mValueError\u001b[0m: Input 0 of layer \"conv2d_1\" is incompatible with the layer: expected min_ndim=4, found ndim=3. Full shape received: (None, 10, 25)"
          ]
        }
      ],
      "source": [
        "model = Sequential()\n",
        "# define CNN model\n",
        "model.add((layers.Conv2D(2, 3, activation='relu',input_shape=(10,25))))\n",
        "model.add((layers.MaxPooling2D(pool_size = (2,2),strides=None, padding=\"valid\")))\n",
        "model.add((layers.Flatten()))\n",
        "# define LSTM model\n",
        "model.add(LSTM(4, return_sequences=True, return_state=True))\n",
        "model.add(Dense(units=4, activation='sigmoid'))"
      ]
    },
    {
      "cell_type": "code",
      "execution_count": null,
      "metadata": {
        "id": "kjut7r3Di5Qw"
      },
      "outputs": [],
      "source": [
        "temp0 = pd.DataFrame(label0)\n",
        "temp1 = pd.DataFrame(label1)\n",
        "temp2 = pd.DataFrame(label2)\n",
        "temp3 = pd.DataFrame(label3)"
      ]
    },
    {
      "cell_type": "code",
      "execution_count": null,
      "metadata": {
        "id": "TvRncJ2ioa7E"
      },
      "outputs": [],
      "source": [
        "temp0['label']=0\n",
        "temp1['label']=1\n",
        "temp2['label']=2\n",
        "temp3['label']=3"
      ]
    },
    {
      "cell_type": "code",
      "execution_count": null,
      "metadata": {
        "id": "MMLGjQymoivH"
      },
      "outputs": [],
      "source": [
        "trdf = pd.concat([temp0,temp1,temp2,temp3])"
      ]
    },
    {
      "cell_type": "code",
      "execution_count": null,
      "metadata": {
        "id": "uUO5ho0ErHBX"
      },
      "outputs": [],
      "source": [
        "from sklearn.model_selection import train_test_split"
      ]
    },
    {
      "cell_type": "code",
      "execution_count": null,
      "metadata": {
        "id": "jLhicY8jpw4i"
      },
      "outputs": [],
      "source": [
        "x_train,x_test,y_train,y_test = train_test_split(trdf.iloc[:,:-1],trdf.iloc[:,-1:], test_size=0.2)"
      ]
    },
    {
      "cell_type": "code",
      "execution_count": null,
      "metadata": {
        "id": "eiQDY7Wvp7gP"
      },
      "outputs": [],
      "source": [
        "model.compile(optimizer = 'adam',loss = 'categorical_crossentropy',metrics = ['accuracy'])"
      ]
    },
    {
      "cell_type": "code",
      "execution_count": null,
      "metadata": {
        "colab": {
          "base_uri": "https://localhost:8080/",
          "height": 692
        },
        "id": "o7sAmZc7rjoX",
        "outputId": "3dbada26-bb43-413b-9264-b90a0c5edbec"
      },
      "outputs": [
        {
          "ename": "ValueError",
          "evalue": "ignored",
          "output_type": "error",
          "traceback": [
            "\u001b[0;31m---------------------------------------------------------------------------\u001b[0m",
            "\u001b[0;31mValueError\u001b[0m                                Traceback (most recent call last)",
            "\u001b[0;32m<ipython-input-94-4719cf73997a>\u001b[0m in \u001b[0;36m<module>\u001b[0;34m\u001b[0m\n\u001b[0;32m----> 1\u001b[0;31m \u001b[0mmodel\u001b[0m\u001b[0;34m.\u001b[0m\u001b[0mfit\u001b[0m\u001b[0;34m(\u001b[0m\u001b[0mx_train\u001b[0m\u001b[0;34m,\u001b[0m\u001b[0my_train\u001b[0m\u001b[0;34m)\u001b[0m\u001b[0;34m\u001b[0m\u001b[0;34m\u001b[0m\u001b[0m\n\u001b[0m",
            "\u001b[0;32m/usr/local/lib/python3.9/dist-packages/keras/utils/traceback_utils.py\u001b[0m in \u001b[0;36merror_handler\u001b[0;34m(*args, **kwargs)\u001b[0m\n\u001b[1;32m     68\u001b[0m             \u001b[0;31m# To get the full stack trace, call:\u001b[0m\u001b[0;34m\u001b[0m\u001b[0;34m\u001b[0m\u001b[0m\n\u001b[1;32m     69\u001b[0m             \u001b[0;31m# `tf.debugging.disable_traceback_filtering()`\u001b[0m\u001b[0;34m\u001b[0m\u001b[0;34m\u001b[0m\u001b[0m\n\u001b[0;32m---> 70\u001b[0;31m             \u001b[0;32mraise\u001b[0m \u001b[0me\u001b[0m\u001b[0;34m.\u001b[0m\u001b[0mwith_traceback\u001b[0m\u001b[0;34m(\u001b[0m\u001b[0mfiltered_tb\u001b[0m\u001b[0;34m)\u001b[0m \u001b[0;32mfrom\u001b[0m \u001b[0;32mNone\u001b[0m\u001b[0;34m\u001b[0m\u001b[0;34m\u001b[0m\u001b[0m\n\u001b[0m\u001b[1;32m     71\u001b[0m         \u001b[0;32mfinally\u001b[0m\u001b[0;34m:\u001b[0m\u001b[0;34m\u001b[0m\u001b[0;34m\u001b[0m\u001b[0m\n\u001b[1;32m     72\u001b[0m             \u001b[0;32mdel\u001b[0m \u001b[0mfiltered_tb\u001b[0m\u001b[0;34m\u001b[0m\u001b[0;34m\u001b[0m\u001b[0m\n",
            "\u001b[0;32m/usr/local/lib/python3.9/dist-packages/keras/engine/training.py\u001b[0m in \u001b[0;36mtf__train_function\u001b[0;34m(iterator)\u001b[0m\n\u001b[1;32m     13\u001b[0m                 \u001b[0;32mtry\u001b[0m\u001b[0;34m:\u001b[0m\u001b[0;34m\u001b[0m\u001b[0;34m\u001b[0m\u001b[0m\n\u001b[1;32m     14\u001b[0m                     \u001b[0mdo_return\u001b[0m \u001b[0;34m=\u001b[0m \u001b[0;32mTrue\u001b[0m\u001b[0;34m\u001b[0m\u001b[0;34m\u001b[0m\u001b[0m\n\u001b[0;32m---> 15\u001b[0;31m                     \u001b[0mretval_\u001b[0m \u001b[0;34m=\u001b[0m \u001b[0mag__\u001b[0m\u001b[0;34m.\u001b[0m\u001b[0mconverted_call\u001b[0m\u001b[0;34m(\u001b[0m\u001b[0mag__\u001b[0m\u001b[0;34m.\u001b[0m\u001b[0mld\u001b[0m\u001b[0;34m(\u001b[0m\u001b[0mstep_function\u001b[0m\u001b[0;34m)\u001b[0m\u001b[0;34m,\u001b[0m \u001b[0;34m(\u001b[0m\u001b[0mag__\u001b[0m\u001b[0;34m.\u001b[0m\u001b[0mld\u001b[0m\u001b[0;34m(\u001b[0m\u001b[0mself\u001b[0m\u001b[0;34m)\u001b[0m\u001b[0;34m,\u001b[0m \u001b[0mag__\u001b[0m\u001b[0;34m.\u001b[0m\u001b[0mld\u001b[0m\u001b[0;34m(\u001b[0m\u001b[0miterator\u001b[0m\u001b[0;34m)\u001b[0m\u001b[0;34m)\u001b[0m\u001b[0;34m,\u001b[0m \u001b[0;32mNone\u001b[0m\u001b[0;34m,\u001b[0m \u001b[0mfscope\u001b[0m\u001b[0;34m)\u001b[0m\u001b[0;34m\u001b[0m\u001b[0;34m\u001b[0m\u001b[0m\n\u001b[0m\u001b[1;32m     16\u001b[0m                 \u001b[0;32mexcept\u001b[0m\u001b[0;34m:\u001b[0m\u001b[0;34m\u001b[0m\u001b[0;34m\u001b[0m\u001b[0m\n\u001b[1;32m     17\u001b[0m                     \u001b[0mdo_return\u001b[0m \u001b[0;34m=\u001b[0m \u001b[0;32mFalse\u001b[0m\u001b[0;34m\u001b[0m\u001b[0;34m\u001b[0m\u001b[0m\n",
            "\u001b[0;31mValueError\u001b[0m: in user code:\n\n    File \"/usr/local/lib/python3.9/dist-packages/keras/engine/training.py\", line 1249, in train_function  *\n        return step_function(self, iterator)\n    File \"/usr/local/lib/python3.9/dist-packages/keras/engine/training.py\", line 1233, in step_function  **\n        outputs = model.distribute_strategy.run(run_step, args=(data,))\n    File \"/usr/local/lib/python3.9/dist-packages/keras/engine/training.py\", line 1222, in run_step  **\n        outputs = model.train_step(data)\n    File \"/usr/local/lib/python3.9/dist-packages/keras/engine/training.py\", line 1023, in train_step\n        y_pred = self(x, training=True)\n    File \"/usr/local/lib/python3.9/dist-packages/keras/utils/traceback_utils.py\", line 70, in error_handler\n        raise e.with_traceback(filtered_tb) from None\n    File \"/usr/local/lib/python3.9/dist-packages/keras/layers/rnn/time_distributed.py\", line 124, in build\n        raise ValueError(\n\n    ValueError: Exception encountered when calling layer 'sequential' (type Sequential).\n    \n    `TimeDistributed` Layer should be passed an `input_shape ` with at least 3 dimensions, received: (None, 25)\n    \n    Call arguments received by layer 'sequential' (type Sequential):\n      • inputs=tf.Tensor(shape=(None, 25), dtype=float64)\n      • training=True\n      • mask=None\n"
          ]
        }
      ],
      "source": [
        "model.fit(x_train,y_train)"
      ]
    },
    {
      "cell_type": "markdown",
      "metadata": {
        "id": "4kKorIYY9Asv"
      },
      "source": [
        "###R-CNN Implementation"
      ]
    },
    {
      "cell_type": "code",
      "execution_count": null,
      "metadata": {
        "id": "5cIojoQG9CbC"
      },
      "outputs": [],
      "source": [
        "import os,cv2,keras\n",
        "import pandas as pd\n",
        "import matplotlib.pyplot as plt\n",
        "import numpy as np\n",
        "import tensorflow as tf"
      ]
    },
    {
      "cell_type": "code",
      "execution_count": null,
      "metadata": {
        "colab": {
          "base_uri": "https://localhost:8080/",
          "height": 487
        },
        "id": "eDwh19EI9F17",
        "outputId": "db32d2b9-c654-4189-c8d8-82ebf5fec4c9"
      },
      "outputs": [
        {
          "data": {
            "text/html": [
              "\n",
              "  <div id=\"df-c119f3d0-4b4f-4649-93e3-9952213b5caf\">\n",
              "    <div class=\"colab-df-container\">\n",
              "      <div>\n",
              "<style scoped>\n",
              "    .dataframe tbody tr th:only-of-type {\n",
              "        vertical-align: middle;\n",
              "    }\n",
              "\n",
              "    .dataframe tbody tr th {\n",
              "        vertical-align: top;\n",
              "    }\n",
              "\n",
              "    .dataframe thead th {\n",
              "        text-align: right;\n",
              "    }\n",
              "</style>\n",
              "<table border=\"1\" class=\"dataframe\">\n",
              "  <thead>\n",
              "    <tr style=\"text-align: right;\">\n",
              "      <th></th>\n",
              "      <th>SampleID</th>\n",
              "      <th>Timestamp</th>\n",
              "      <th>1</th>\n",
              "      <th>2</th>\n",
              "      <th>3</th>\n",
              "      <th>4</th>\n",
              "      <th>5</th>\n",
              "      <th>6</th>\n",
              "      <th>7</th>\n",
              "      <th>8</th>\n",
              "      <th>...</th>\n",
              "      <th>16</th>\n",
              "      <th>17</th>\n",
              "      <th>18</th>\n",
              "      <th>19</th>\n",
              "      <th>20</th>\n",
              "      <th>21</th>\n",
              "      <th>22</th>\n",
              "      <th>23</th>\n",
              "      <th>24</th>\n",
              "      <th>25</th>\n",
              "    </tr>\n",
              "  </thead>\n",
              "  <tbody>\n",
              "    <tr>\n",
              "      <th>0</th>\n",
              "      <td>0</td>\n",
              "      <td>1</td>\n",
              "      <td>0.4337</td>\n",
              "      <td>0.7431</td>\n",
              "      <td>0.9390</td>\n",
              "      <td>0.7541</td>\n",
              "      <td>0.9035</td>\n",
              "      <td>0.7943</td>\n",
              "      <td>0.2622</td>\n",
              "      <td>0.5901</td>\n",
              "      <td>...</td>\n",
              "      <td>0.5696</td>\n",
              "      <td>0.6407</td>\n",
              "      <td>0.7027</td>\n",
              "      <td>0.7163</td>\n",
              "      <td>0.9954</td>\n",
              "      <td>0.8303</td>\n",
              "      <td>0.1641</td>\n",
              "      <td>0.7893</td>\n",
              "      <td>0.7533</td>\n",
              "      <td>0.2925</td>\n",
              "    </tr>\n",
              "    <tr>\n",
              "      <th>1</th>\n",
              "      <td>0</td>\n",
              "      <td>2.0</td>\n",
              "      <td>0.7859</td>\n",
              "      <td>0.1925</td>\n",
              "      <td>0.9024</td>\n",
              "      <td>0.8108</td>\n",
              "      <td>0.2016</td>\n",
              "      <td>0.9649</td>\n",
              "      <td>0.2445</td>\n",
              "      <td>0.8934</td>\n",
              "      <td>...</td>\n",
              "      <td>0.4259</td>\n",
              "      <td>0.7456</td>\n",
              "      <td>0.575</td>\n",
              "      <td>0.7947</td>\n",
              "      <td>0.4663</td>\n",
              "      <td>0.4303</td>\n",
              "      <td>0.3643</td>\n",
              "      <td>0.0558</td>\n",
              "      <td>0.133</td>\n",
              "      <td>0.0295</td>\n",
              "    </tr>\n",
              "    <tr>\n",
              "      <th>2</th>\n",
              "      <td>0</td>\n",
              "      <td>3.0</td>\n",
              "      <td>0.0512</td>\n",
              "      <td>0.9633</td>\n",
              "      <td>0.1423</td>\n",
              "      <td>0.8404</td>\n",
              "      <td>0.6654</td>\n",
              "      <td>0.4348</td>\n",
              "      <td>0.5751</td>\n",
              "      <td>0.8067</td>\n",
              "      <td>...</td>\n",
              "      <td>0.4753</td>\n",
              "      <td>0.5449</td>\n",
              "      <td>0.8531</td>\n",
              "      <td>0.6337</td>\n",
              "      <td>0.8807</td>\n",
              "      <td>0.256</td>\n",
              "      <td>0.0597</td>\n",
              "      <td>0.5751</td>\n",
              "      <td>0.7797</td>\n",
              "      <td>0.8544</td>\n",
              "    </tr>\n",
              "    <tr>\n",
              "      <th>3</th>\n",
              "      <td>0</td>\n",
              "      <td>4.0</td>\n",
              "      <td>0.0413</td>\n",
              "      <td>0.1588</td>\n",
              "      <td>0.1675</td>\n",
              "      <td>0.0971</td>\n",
              "      <td>0.2918</td>\n",
              "      <td>0.197</td>\n",
              "      <td>0.0971</td>\n",
              "      <td>0.2039</td>\n",
              "      <td>...</td>\n",
              "      <td>0.7959</td>\n",
              "      <td>0.5306</td>\n",
              "      <td>0.3109</td>\n",
              "      <td>0.2726</td>\n",
              "      <td>0.3298</td>\n",
              "      <td>0.4658</td>\n",
              "      <td>0.7479</td>\n",
              "      <td>0.8747</td>\n",
              "      <td>0.2677</td>\n",
              "      <td>0.3816</td>\n",
              "    </tr>\n",
              "    <tr>\n",
              "      <th>4</th>\n",
              "      <td>0</td>\n",
              "      <td>5.0</td>\n",
              "      <td>0.7042</td>\n",
              "      <td>0.4724</td>\n",
              "      <td>0.3901</td>\n",
              "      <td>0.2793</td>\n",
              "      <td>0.2522</td>\n",
              "      <td>0.1933</td>\n",
              "      <td>0.2694</td>\n",
              "      <td>0.411</td>\n",
              "      <td>...</td>\n",
              "      <td>0.2474</td>\n",
              "      <td>0.5711</td>\n",
              "      <td>0.5686</td>\n",
              "      <td>0.6575</td>\n",
              "      <td>0.1447</td>\n",
              "      <td>0.5774</td>\n",
              "      <td>0.4022</td>\n",
              "      <td>0.6753</td>\n",
              "      <td>0.8371</td>\n",
              "      <td>0.6748</td>\n",
              "    </tr>\n",
              "    <tr>\n",
              "      <th>...</th>\n",
              "      <td>...</td>\n",
              "      <td>...</td>\n",
              "      <td>...</td>\n",
              "      <td>...</td>\n",
              "      <td>...</td>\n",
              "      <td>...</td>\n",
              "      <td>...</td>\n",
              "      <td>...</td>\n",
              "      <td>...</td>\n",
              "      <td>...</td>\n",
              "      <td>...</td>\n",
              "      <td>...</td>\n",
              "      <td>...</td>\n",
              "      <td>...</td>\n",
              "      <td>...</td>\n",
              "      <td>...</td>\n",
              "      <td>...</td>\n",
              "      <td>...</td>\n",
              "      <td>...</td>\n",
              "      <td>...</td>\n",
              "      <td>...</td>\n",
              "    </tr>\n",
              "    <tr>\n",
              "      <th>549995</th>\n",
              "      <td>49999</td>\n",
              "      <td>7.0</td>\n",
              "      <td>0.2817</td>\n",
              "      <td>0.6392</td>\n",
              "      <td>0.9709</td>\n",
              "      <td>0.5667</td>\n",
              "      <td>0.0822</td>\n",
              "      <td>0.9976</td>\n",
              "      <td>0.7358</td>\n",
              "      <td>0.9617</td>\n",
              "      <td>...</td>\n",
              "      <td>0.96</td>\n",
              "      <td>0.4254</td>\n",
              "      <td>0.7402</td>\n",
              "      <td>0.2611</td>\n",
              "      <td>0.8659</td>\n",
              "      <td>0.7473</td>\n",
              "      <td>0.1093</td>\n",
              "      <td>0.3094</td>\n",
              "      <td>0.7807</td>\n",
              "      <td>0.7287</td>\n",
              "    </tr>\n",
              "    <tr>\n",
              "      <th>549996</th>\n",
              "      <td>49999</td>\n",
              "      <td>8.0</td>\n",
              "      <td>0.5622</td>\n",
              "      <td>0.7094</td>\n",
              "      <td>0.1205</td>\n",
              "      <td>0.7765</td>\n",
              "      <td>0.5579</td>\n",
              "      <td>0.4585</td>\n",
              "      <td>0.0583</td>\n",
              "      <td>0.1459</td>\n",
              "      <td>...</td>\n",
              "      <td>0.7685</td>\n",
              "      <td>0.741</td>\n",
              "      <td>0.9113</td>\n",
              "      <td>0.3729</td>\n",
              "      <td>0.1165</td>\n",
              "      <td>0.0866</td>\n",
              "      <td>0.2817</td>\n",
              "      <td>0.4906</td>\n",
              "      <td>0.7756</td>\n",
              "      <td>0.5428</td>\n",
              "    </tr>\n",
              "    <tr>\n",
              "      <th>549997</th>\n",
              "      <td>49999</td>\n",
              "      <td>9.0</td>\n",
              "      <td>0.3565</td>\n",
              "      <td>0.4717</td>\n",
              "      <td>0.6521</td>\n",
              "      <td>0.6147</td>\n",
              "      <td>0.2524</td>\n",
              "      <td>0.3296</td>\n",
              "      <td>0.1769</td>\n",
              "      <td>0.9617</td>\n",
              "      <td>...</td>\n",
              "      <td>0.5341</td>\n",
              "      <td>0.8423</td>\n",
              "      <td>0.509</td>\n",
              "      <td>0.8436</td>\n",
              "      <td>0.9809</td>\n",
              "      <td>0.2696</td>\n",
              "      <td>0.5609</td>\n",
              "      <td>0.6706</td>\n",
              "      <td>0.1297</td>\n",
              "      <td>0.8826</td>\n",
              "    </tr>\n",
              "    <tr>\n",
              "      <th>549998</th>\n",
              "      <td>49999</td>\n",
              "      <td>10.0</td>\n",
              "      <td>0.7871</td>\n",
              "      <td>0.2163</td>\n",
              "      <td>0.1643</td>\n",
              "      <td>0.2265</td>\n",
              "      <td>0.9406</td>\n",
              "      <td>0.6559</td>\n",
              "      <td>0.583</td>\n",
              "      <td>0.4123</td>\n",
              "      <td>...</td>\n",
              "      <td>0.2767</td>\n",
              "      <td>0.0436</td>\n",
              "      <td>0.8426</td>\n",
              "      <td>0.2371</td>\n",
              "      <td>0.6578</td>\n",
              "      <td>0.027</td>\n",
              "      <td>0.7201</td>\n",
              "      <td>0.4489</td>\n",
              "      <td>0.4848</td>\n",
              "      <td>0.5125</td>\n",
              "    </tr>\n",
              "    <tr>\n",
              "      <th>549999</th>\n",
              "      <td>1</td>\n",
              "      <td>NaN</td>\n",
              "      <td>NaN</td>\n",
              "      <td>NaN</td>\n",
              "      <td>NaN</td>\n",
              "      <td>NaN</td>\n",
              "      <td>NaN</td>\n",
              "      <td>NaN</td>\n",
              "      <td>NaN</td>\n",
              "      <td>NaN</td>\n",
              "      <td>...</td>\n",
              "      <td>NaN</td>\n",
              "      <td>NaN</td>\n",
              "      <td>NaN</td>\n",
              "      <td>NaN</td>\n",
              "      <td>NaN</td>\n",
              "      <td>NaN</td>\n",
              "      <td>NaN</td>\n",
              "      <td>NaN</td>\n",
              "      <td>NaN</td>\n",
              "      <td>NaN</td>\n",
              "    </tr>\n",
              "  </tbody>\n",
              "</table>\n",
              "<p>550000 rows × 27 columns</p>\n",
              "</div>\n",
              "      <button class=\"colab-df-convert\" onclick=\"convertToInteractive('df-c119f3d0-4b4f-4649-93e3-9952213b5caf')\"\n",
              "              title=\"Convert this dataframe to an interactive table.\"\n",
              "              style=\"display:none;\">\n",
              "        \n",
              "  <svg xmlns=\"http://www.w3.org/2000/svg\" height=\"24px\"viewBox=\"0 0 24 24\"\n",
              "       width=\"24px\">\n",
              "    <path d=\"M0 0h24v24H0V0z\" fill=\"none\"/>\n",
              "    <path d=\"M18.56 5.44l.94 2.06.94-2.06 2.06-.94-2.06-.94-.94-2.06-.94 2.06-2.06.94zm-11 1L8.5 8.5l.94-2.06 2.06-.94-2.06-.94L8.5 2.5l-.94 2.06-2.06.94zm10 10l.94 2.06.94-2.06 2.06-.94-2.06-.94-.94-2.06-.94 2.06-2.06.94z\"/><path d=\"M17.41 7.96l-1.37-1.37c-.4-.4-.92-.59-1.43-.59-.52 0-1.04.2-1.43.59L10.3 9.45l-7.72 7.72c-.78.78-.78 2.05 0 2.83L4 21.41c.39.39.9.59 1.41.59.51 0 1.02-.2 1.41-.59l7.78-7.78 2.81-2.81c.8-.78.8-2.07 0-2.86zM5.41 20L4 18.59l7.72-7.72 1.47 1.35L5.41 20z\"/>\n",
              "  </svg>\n",
              "      </button>\n",
              "      \n",
              "  <style>\n",
              "    .colab-df-container {\n",
              "      display:flex;\n",
              "      flex-wrap:wrap;\n",
              "      gap: 12px;\n",
              "    }\n",
              "\n",
              "    .colab-df-convert {\n",
              "      background-color: #E8F0FE;\n",
              "      border: none;\n",
              "      border-radius: 50%;\n",
              "      cursor: pointer;\n",
              "      display: none;\n",
              "      fill: #1967D2;\n",
              "      height: 32px;\n",
              "      padding: 0 0 0 0;\n",
              "      width: 32px;\n",
              "    }\n",
              "\n",
              "    .colab-df-convert:hover {\n",
              "      background-color: #E2EBFA;\n",
              "      box-shadow: 0px 1px 2px rgba(60, 64, 67, 0.3), 0px 1px 3px 1px rgba(60, 64, 67, 0.15);\n",
              "      fill: #174EA6;\n",
              "    }\n",
              "\n",
              "    [theme=dark] .colab-df-convert {\n",
              "      background-color: #3B4455;\n",
              "      fill: #D2E3FC;\n",
              "    }\n",
              "\n",
              "    [theme=dark] .colab-df-convert:hover {\n",
              "      background-color: #434B5C;\n",
              "      box-shadow: 0px 1px 3px 1px rgba(0, 0, 0, 0.15);\n",
              "      filter: drop-shadow(0px 1px 2px rgba(0, 0, 0, 0.3));\n",
              "      fill: #FFFFFF;\n",
              "    }\n",
              "  </style>\n",
              "\n",
              "      <script>\n",
              "        const buttonEl =\n",
              "          document.querySelector('#df-c119f3d0-4b4f-4649-93e3-9952213b5caf button.colab-df-convert');\n",
              "        buttonEl.style.display =\n",
              "          google.colab.kernel.accessAllowed ? 'block' : 'none';\n",
              "\n",
              "        async function convertToInteractive(key) {\n",
              "          const element = document.querySelector('#df-c119f3d0-4b4f-4649-93e3-9952213b5caf');\n",
              "          const dataTable =\n",
              "            await google.colab.kernel.invokeFunction('convertToInteractive',\n",
              "                                                     [key], {});\n",
              "          if (!dataTable) return;\n",
              "\n",
              "          const docLinkHtml = 'Like what you see? Visit the ' +\n",
              "            '<a target=\"_blank\" href=https://colab.research.google.com/notebooks/data_table.ipynb>data table notebook</a>'\n",
              "            + ' to learn more about interactive tables.';\n",
              "          element.innerHTML = '';\n",
              "          dataTable['output_type'] = 'display_data';\n",
              "          await google.colab.output.renderOutput(dataTable, element);\n",
              "          const docLink = document.createElement('div');\n",
              "          docLink.innerHTML = docLinkHtml;\n",
              "          element.appendChild(docLink);\n",
              "        }\n",
              "      </script>\n",
              "    </div>\n",
              "  </div>\n",
              "  "
            ],
            "text/plain": [
              "       SampleID Timestamp       1       2       3       4       5       6  \\\n",
              "0             0         1  0.4337  0.7431  0.9390  0.7541  0.9035  0.7943   \n",
              "1             0       2.0  0.7859  0.1925  0.9024  0.8108  0.2016  0.9649   \n",
              "2             0       3.0  0.0512  0.9633  0.1423  0.8404  0.6654  0.4348   \n",
              "3             0       4.0  0.0413  0.1588  0.1675  0.0971  0.2918   0.197   \n",
              "4             0       5.0  0.7042  0.4724  0.3901  0.2793  0.2522  0.1933   \n",
              "...         ...       ...     ...     ...     ...     ...     ...     ...   \n",
              "549995    49999       7.0  0.2817  0.6392  0.9709  0.5667  0.0822  0.9976   \n",
              "549996    49999       8.0  0.5622  0.7094  0.1205  0.7765  0.5579  0.4585   \n",
              "549997    49999       9.0  0.3565  0.4717  0.6521  0.6147  0.2524  0.3296   \n",
              "549998    49999      10.0  0.7871  0.2163  0.1643  0.2265  0.9406  0.6559   \n",
              "549999        1       NaN     NaN     NaN     NaN     NaN     NaN     NaN   \n",
              "\n",
              "             7       8  ...      16      17      18      19      20      21  \\\n",
              "0       0.2622  0.5901  ...  0.5696  0.6407  0.7027  0.7163  0.9954  0.8303   \n",
              "1       0.2445  0.8934  ...  0.4259  0.7456   0.575  0.7947  0.4663  0.4303   \n",
              "2       0.5751  0.8067  ...  0.4753  0.5449  0.8531  0.6337  0.8807   0.256   \n",
              "3       0.0971  0.2039  ...  0.7959  0.5306  0.3109  0.2726  0.3298  0.4658   \n",
              "4       0.2694   0.411  ...  0.2474  0.5711  0.5686  0.6575  0.1447  0.5774   \n",
              "...        ...     ...  ...     ...     ...     ...     ...     ...     ...   \n",
              "549995  0.7358  0.9617  ...    0.96  0.4254  0.7402  0.2611  0.8659  0.7473   \n",
              "549996  0.0583  0.1459  ...  0.7685   0.741  0.9113  0.3729  0.1165  0.0866   \n",
              "549997  0.1769  0.9617  ...  0.5341  0.8423   0.509  0.8436  0.9809  0.2696   \n",
              "549998   0.583  0.4123  ...  0.2767  0.0436  0.8426  0.2371  0.6578   0.027   \n",
              "549999     NaN     NaN  ...     NaN     NaN     NaN     NaN     NaN     NaN   \n",
              "\n",
              "            22      23      24      25  \n",
              "0       0.1641  0.7893  0.7533  0.2925  \n",
              "1       0.3643  0.0558   0.133  0.0295  \n",
              "2       0.0597  0.5751  0.7797  0.8544  \n",
              "3       0.7479  0.8747  0.2677  0.3816  \n",
              "4       0.4022  0.6753  0.8371  0.6748  \n",
              "...        ...     ...     ...     ...  \n",
              "549995  0.1093  0.3094  0.7807  0.7287  \n",
              "549996  0.2817  0.4906  0.7756  0.5428  \n",
              "549997  0.5609  0.6706  0.1297  0.8826  \n",
              "549998  0.7201  0.4489  0.4848  0.5125  \n",
              "549999     NaN     NaN     NaN     NaN  \n",
              "\n",
              "[550000 rows x 27 columns]"
            ]
          },
          "execution_count": 4,
          "metadata": {},
          "output_type": "execute_result"
        }
      ],
      "source": [
        "df"
      ]
    },
    {
      "cell_type": "code",
      "execution_count": null,
      "metadata": {
        "id": "RlKLsEPd-skl"
      },
      "outputs": [],
      "source": []
    },
    {
      "cell_type": "markdown",
      "metadata": {
        "id": "fy4q5f9IpPqP"
      },
      "source": [
        "###ResNet Implementation"
      ]
    },
    {
      "cell_type": "code",
      "execution_count": null,
      "metadata": {
        "id": "hnEh89_mp20F"
      },
      "outputs": [],
      "source": [
        "features = ['1','2','3','4','5','6','7','8','9','10','11','12','13','14','15','16','17','18','19','20','21','22','23','24','25']"
      ]
    },
    {
      "cell_type": "code",
      "execution_count": null,
      "metadata": {
        "colab": {
          "base_uri": "https://localhost:8080/"
        },
        "id": "N0UcCdHGpR6a",
        "outputId": "84fff59e-24b9-4832-c83b-46d1f4dc31f9"
      },
      "outputs": [
        {
          "name": "stderr",
          "output_type": "stream",
          "text": [
            "<ipython-input-36-b110a20debc5>:1: DeprecationWarning: `np.float` is a deprecated alias for the builtin `float`. To silence this warning, use `float` by itself. Doing this will not modify any behavior and is safe. If you specifically wanted the numpy scalar type, use `np.float64` here.\n",
            "Deprecated in NumPy 1.20; for more details and guidance: https://numpy.org/devdocs/release/1.20.0-notes.html#deprecations\n",
            "  tem = np.array(df.iloc[:10,2:],dtype=np.float)\n"
          ]
        }
      ],
      "source": [
        "tem = np.array(df.iloc[:10,2:],dtype=np.float)"
      ]
    },
    {
      "cell_type": "code",
      "execution_count": null,
      "metadata": {
        "colab": {
          "base_uri": "https://localhost:8080/"
        },
        "id": "1BbYaJewtacL",
        "outputId": "6ea91b87-ea09-46c4-bf07-f068f2479486"
      },
      "outputs": [
        {
          "data": {
            "text/plain": [
              "array([[110.5935, 189.4905, 239.445 , 192.2955, 230.3925, 202.5465,\n",
              "         66.861 , 150.4755, 192.729 ,  68.2125, 104.4735,  43.911 ,\n",
              "        107.1   , 196.8345, 218.1015, 145.248 , 163.3785, 179.1885,\n",
              "        182.6565, 253.827 , 211.7265,  41.8455, 201.2715, 192.0915,\n",
              "         74.5875],\n",
              "       [200.4045,  49.0875, 230.112 , 206.754 ,  51.408 , 246.0495,\n",
              "         62.3475, 227.817 , 230.4945, 241.587 , 190.1535, 178.0665,\n",
              "         53.4735,  85.629 , 102.714 , 108.6045, 190.128 , 146.625 ,\n",
              "        202.6485, 118.9065, 109.7265,  92.8965,  14.229 ,  33.915 ,\n",
              "          7.5225],\n",
              "       [ 13.056 , 245.6415,  36.2865, 214.302 , 169.677 , 110.874 ,\n",
              "        146.6505, 205.7085,  85.986 ,  85.323 , 244.035 ,  77.0355,\n",
              "        134.6145, 216.8775,  52.5555, 121.2015, 138.9495, 217.5405,\n",
              "        161.5935, 224.5785,  65.28  ,  15.2235, 146.6505, 198.8235,\n",
              "        217.872 ],\n",
              "       [ 10.5315,  40.494 ,  42.7125,  24.7605,  74.409 ,  50.235 ,\n",
              "         24.7605,  51.9945,  86.496 , 226.0065, 208.6155, 197.3955,\n",
              "        117.6315, 146.268 ,  15.3255, 202.9545, 135.303 ,  79.2795,\n",
              "         69.513 ,  84.099 , 118.779 , 190.7145, 223.0485,  68.2635,\n",
              "         97.308 ],\n",
              "       [179.571 , 120.462 ,  99.4755,  71.2215,  64.311 ,  49.2915,\n",
              "         68.697 , 104.805 ,  92.004 ,  80.4015, 166.158 , 129.1575,\n",
              "         92.106 , 205.071 , 215.679 ,  63.087 , 145.6305, 144.993 ,\n",
              "        167.6625,  36.8985, 147.237 , 102.561 , 172.2015, 213.4605,\n",
              "        172.074 ],\n",
              "       [243.219 ,  77.2395, 107.7885, 198.237 , 132.447 , 192.0405,\n",
              "        122.808 , 252.909 ,  23.46  , 180.9735,  49.1385,  72.726 ,\n",
              "        249.6705, 140.8875, 151.674 ,  62.0415,  52.02  ,  25.8315,\n",
              "        154.122 , 244.035 , 228.429 , 204.153 , 134.691 , 105.366 ,\n",
              "        116.841 ],\n",
              "       [171.5895, 252.603 , 219.402 ,  75.7095, 211.089 , 123.42  ,\n",
              "         63.9285,  20.2725, 231.234 , 249.1095, 152.7195, 155.2185,\n",
              "        116.9175, 137.5725, 165.597 ,  42.891 , 186.711 , 238.3485,\n",
              "         24.5055,  72.5985, 121.941 ,  73.491 , 111.5625, 147.7725,\n",
              "        227.613 ],\n",
              "       [100.5975, 121.2015, 163.71  , 235.2885, 226.5675,  25.551 ,\n",
              "        138.7965, 211.1145, 231.8715, 214.506 , 154.1475, 100.317 ,\n",
              "         10.404 , 174.42  ,  63.4695,   4.488 ,  59.0835, 205.6065,\n",
              "        108.3495, 196.6305, 116.229 , 138.1845, 115.2855,  86.496 ,\n",
              "        162.69  ],\n",
              "       [187.884 , 208.437 , 223.125 ,  31.365 , 101.235 , 195.738 ,\n",
              "        131.9625, 209.3805,  91.3665,  99.195 , 180.948 , 116.9175,\n",
              "        238.017 , 124.0065,  93.8145, 197.523 ,  23.154 , 181.05  ,\n",
              "        194.8455, 197.574 , 244.5195, 199.359 , 243.6015, 195.1515,\n",
              "         39.6525],\n",
              "       [172.176 ,  43.299 , 177.837 ,  32.4615, 129.795 ,  85.527 ,\n",
              "        207.264 ,  70.2015,  40.5705, 238.629 , 171.411 , 223.2525,\n",
              "        102.5355, 112.7355,  59.619 , 201.756 ,  38.6835, 176.5365,\n",
              "        184.7475, 162.69  ,   2.2695, 114.2145, 172.788 , 183.3195,\n",
              "         54.0855]])"
            ]
          },
          "execution_count": 38,
          "metadata": {},
          "output_type": "execute_result"
        }
      ],
      "source": [
        "tem*255"
      ]
    },
    {
      "cell_type": "code",
      "execution_count": null,
      "metadata": {
        "id": "riLpDslytopi"
      },
      "outputs": [],
      "source": [
        "from google.colab.patches import cv2_imshow"
      ]
    },
    {
      "cell_type": "code",
      "execution_count": null,
      "metadata": {
        "colab": {
          "base_uri": "https://localhost:8080/",
          "height": 34
        },
        "id": "7-PuTxMGsCbH",
        "outputId": "f173e7ab-1bf5-4266-e893-d8ed3a8b7285"
      },
      "outputs": [
        {
          "output_type": "display_data",
          "data": {
            "text/plain": [
              "<PIL.Image.Image image mode=L size=25x10 at 0x7FC8395AD790>"
            ],
            "image/png": "[encoded data removed]"
          },
          "metadata": {}
        }
      ],
      "source": [
        "cv2_imshow(255*tem)"
      ]
    },
    {
      "cell_type": "code",
      "execution_count": null,
      "metadata": {
        "colab": {
          "base_uri": "https://localhost:8080/"
        },
        "id": "KFr30Yiptiu_",
        "outputId": "0f5293dd-d0b0-4561-8f49-f714049b9fbe"
      },
      "outputs": [
        {
          "output_type": "execute_result",
          "data": {
            "text/plain": [
              "True"
            ]
          },
          "metadata": {},
          "execution_count": 9
        }
      ],
      "source": [
        "cv2.imwrite('1.jpg',tem*255)"
      ]
    },
    {
      "cell_type": "code",
      "execution_count": null,
      "metadata": {
        "colab": {
          "base_uri": "https://localhost:8080/"
        },
        "id": "T3vqUl8k1OR7",
        "outputId": "f0560811-57d1-42b5-bc74-90752f8d4244"
      },
      "outputs": [
        {
          "name": "stderr",
          "output_type": "stream",
          "text": [
            "<ipython-input-67-d81163e3ce91>:8: DeprecationWarning: `np.float` is a deprecated alias for the builtin `float`. To silence this warning, use `float` by itself. Doing this will not modify any behavior and is safe. If you specifically wanted the numpy scalar type, use `np.float64` here.\n",
            "Deprecated in NumPy 1.20; for more details and guidance: https://numpy.org/devdocs/release/1.20.0-notes.html#deprecations\n",
            "  tem = np.array(df.iloc[i-10:i,2:],dtype=np.float)\n",
            "<ipython-input-67-d81163e3ce91>:12: DeprecationWarning: `np.float` is a deprecated alias for the builtin `float`. To silence this warning, use `float` by itself. Doing this will not modify any behavior and is safe. If you specifically wanted the numpy scalar type, use `np.float64` here.\n",
            "Deprecated in NumPy 1.20; for more details and guidance: https://numpy.org/devdocs/release/1.20.0-notes.html#deprecations\n",
            "  tem = np.array(df.iloc[i-10:i,2:],dtype=np.float)\n",
            "<ipython-input-67-d81163e3ce91>:16: DeprecationWarning: `np.float` is a deprecated alias for the builtin `float`. To silence this warning, use `float` by itself. Doing this will not modify any behavior and is safe. If you specifically wanted the numpy scalar type, use `np.float64` here.\n",
            "Deprecated in NumPy 1.20; for more details and guidance: https://numpy.org/devdocs/release/1.20.0-notes.html#deprecations\n",
            "  tem = np.array(df.iloc[i-10:i,2:],dtype=np.float)\n",
            "<ipython-input-67-d81163e3ce91>:4: DeprecationWarning: `np.float` is a deprecated alias for the builtin `float`. To silence this warning, use `float` by itself. Doing this will not modify any behavior and is safe. If you specifically wanted the numpy scalar type, use `np.float64` here.\n",
            "Deprecated in NumPy 1.20; for more details and guidance: https://numpy.org/devdocs/release/1.20.0-notes.html#deprecations\n",
            "  tem = np.array(df.iloc[i-10:i,2:],dtype=np.float)\n"
          ]
        }
      ],
      "source": [
        "for i in range(10,50000,11):\n",
        "  # print(i)\n",
        "  if (df['SampleID'][i] == 0):\n",
        "    tem = np.array(df.iloc[i-10:i,2:],dtype=np.float)\n",
        "    cv2.imwrite('/content/drive/MyDrive/gc_data/img_data/0/{name}.jpg'.format(name=df['SampleID'][i-1]),tem*255)\n",
        "\n",
        "  elif (df['SampleID'][i] == 1):\n",
        "    tem = np.array(df.iloc[i-10:i,2:],dtype=np.float)\n",
        "    cv2.imwrite('/content/drive/MyDrive/gc_data/img_data/1/{name}.jpg'.format(name=df['SampleID'][i-1]),tem*255)\n",
        "\n",
        "  elif (df['SampleID'][i] == 2):\n",
        "    tem = np.array(df.iloc[i-10:i,2:],dtype=np.float)\n",
        "    cv2.imwrite('/content/drive/MyDrive/gc_data/img_data/2/{name}.jpg'.format(name=df['SampleID'][i-1]),tem*255)\n",
        "\n",
        "  elif (df['SampleID'][i] == 3):\n",
        "    tem = np.array(df.iloc[i-10:i,2:],dtype=np.float)\n",
        "    cv2.imwrite('/content/drive/MyDrive/gc_data/img_data/3/{name}.jpg'.format(name=df['SampleID'][i-1]),tem*255)"
      ]
    },
    {
      "cell_type": "code",
      "execution_count": null,
      "metadata": {
        "id": "30cTBhnu3TBs"
      },
      "outputs": [],
      "source": [
        "cv2.imwrite('0/{name}.jpg'.format(name=df.iloc['SampleID'][i-1]),tem*255)"
      ]
    },
    {
      "cell_type": "code",
      "execution_count": null,
      "metadata": {
        "colab": {
          "base_uri": "https://localhost:8080/",
          "height": 36
        },
        "id": "q-4ktL-U3jCB",
        "outputId": "aa348502-8541-41a7-c4a7-05a6e99b3a13"
      },
      "outputs": [
        {
          "data": {
            "application/vnd.google.colaboratory.intrinsic+json": {
              "type": "string"
            },
            "text/plain": [
              "'0/10.jpg'"
            ]
          },
          "execution_count": 55,
          "metadata": {},
          "output_type": "execute_result"
        }
      ],
      "source": [
        "'0/{name}.jpg'.format(name=10)"
      ]
    },
    {
      "cell_type": "code",
      "execution_count": null,
      "metadata": {
        "colab": {
          "base_uri": "https://localhost:8080/",
          "height": 182
        },
        "id": "E2HmlwV-6VR8",
        "outputId": "3cf57d36-0d10-4d4c-bfe6-a9fe80d7859a"
      },
      "outputs": [
        {
          "ename": "NameError",
          "evalue": "ignored",
          "output_type": "error",
          "traceback": [
            "\u001b[0;31m---------------------------------------------------------------------------\u001b[0m",
            "\u001b[0;31mNameError\u001b[0m                                 Traceback (most recent call last)",
            "\u001b[0;32m<ipython-input-3-79bd9cfc1e10>\u001b[0m in \u001b[0;36m<module>\u001b[0;34m\u001b[0m\n\u001b[0;32m----> 1\u001b[0;31m \u001b[0mplt\u001b[0m\u001b[0;34m.\u001b[0m\u001b[0mimshow\u001b[0m\u001b[0;34m(\u001b[0m\u001b[0mnp\u001b[0m\u001b[0;34m.\u001b[0m\u001b[0marray\u001b[0m\u001b[0;34m(\u001b[0m\u001b[0mdf\u001b[0m\u001b[0;34m.\u001b[0m\u001b[0miloc\u001b[0m\u001b[0;34m[\u001b[0m\u001b[0mi\u001b[0m\u001b[0;34m-\u001b[0m\u001b[0;36m10\u001b[0m\u001b[0;34m:\u001b[0m\u001b[0mi\u001b[0m\u001b[0;34m,\u001b[0m\u001b[0;36m2\u001b[0m\u001b[0;34m:\u001b[0m\u001b[0;34m]\u001b[0m\u001b[0;34m,\u001b[0m \u001b[0mdtype\u001b[0m\u001b[0;34m=\u001b[0m\u001b[0mnp\u001b[0m\u001b[0;34m.\u001b[0m\u001b[0mfloat\u001b[0m\u001b[0;34m)\u001b[0m\u001b[0;34m,\u001b[0m \u001b[0mcmap\u001b[0m\u001b[0;34m=\u001b[0m\u001b[0;34m'hot'\u001b[0m\u001b[0;34m,\u001b[0m \u001b[0minterpolation\u001b[0m\u001b[0;34m=\u001b[0m\u001b[0;34m'nearest'\u001b[0m\u001b[0;34m)\u001b[0m\u001b[0;34m\u001b[0m\u001b[0;34m\u001b[0m\u001b[0m\n\u001b[0m\u001b[1;32m      2\u001b[0m \u001b[0mplt\u001b[0m\u001b[0;34m.\u001b[0m\u001b[0msavefig\u001b[0m\u001b[0;34m(\u001b[0m\u001b[0;34m'test.jpg'\u001b[0m\u001b[0;34m)\u001b[0m\u001b[0;34m\u001b[0m\u001b[0;34m\u001b[0m\u001b[0m\n",
            "\u001b[0;31mNameError\u001b[0m: name 'i' is not defined"
          ]
        }
      ],
      "source": [
        "plt.imshow(np.array(df.iloc[i-10:i,2:], dtype=np.float), cmap='hot', interpolation='nearest')\n",
        "plt.savefig('test.jpg')"
      ]
    },
    {
      "cell_type": "code",
      "execution_count": null,
      "metadata": {
        "id": "lWTq_gj4McMm"
      },
      "outputs": [],
      "source": [
        "img = cv2.imread('test.jpg')"
      ]
    },
    {
      "cell_type": "code",
      "execution_count": null,
      "metadata": {
        "colab": {
          "base_uri": "https://localhost:8080/"
        },
        "id": "gfbJRK_FPGPv",
        "outputId": "c03ab57a-b3e3-4c34-b69d-04558de5c411"
      },
      "outputs": [
        {
          "data": {
            "text/plain": [
              "(288, 432, 3)"
            ]
          },
          "execution_count": 73,
          "metadata": {},
          "output_type": "execute_result"
        }
      ],
      "source": [
        "img.shape"
      ]
    },
    {
      "cell_type": "code",
      "execution_count": null,
      "metadata": {
        "colab": {
          "base_uri": "https://localhost:8080/"
        },
        "id": "B9n93lfgPHYF",
        "outputId": "3b12b02f-8362-4b18-970c-19e0d76ca907"
      },
      "outputs": [
        {
          "output_type": "stream",
          "name": "stderr",
          "text": [
            "<ipython-input-49-20a478852482>:13: DeprecationWarning: `np.float` is a deprecated alias for the builtin `float`. To silence this warning, use `float` by itself. Doing this will not modify any behavior and is safe. If you specifically wanted the numpy scalar type, use `np.float64` here.\n",
            "Deprecated in NumPy 1.20; for more details and guidance: https://numpy.org/devdocs/release/1.20.0-notes.html#deprecations\n",
            "  tem = np.array(df.iloc[i-10:i,2:],dtype=np.float)\n",
            "<ipython-input-49-20a478852482>:18: DeprecationWarning: `np.float` is a deprecated alias for the builtin `float`. To silence this warning, use `float` by itself. Doing this will not modify any behavior and is safe. If you specifically wanted the numpy scalar type, use `np.float64` here.\n",
            "Deprecated in NumPy 1.20; for more details and guidance: https://numpy.org/devdocs/release/1.20.0-notes.html#deprecations\n",
            "  tem = np.array(df.iloc[i-10:i,2:],dtype=np.float)\n",
            "<ipython-input-49-20a478852482>:23: DeprecationWarning: `np.float` is a deprecated alias for the builtin `float`. To silence this warning, use `float` by itself. Doing this will not modify any behavior and is safe. If you specifically wanted the numpy scalar type, use `np.float64` here.\n",
            "Deprecated in NumPy 1.20; for more details and guidance: https://numpy.org/devdocs/release/1.20.0-notes.html#deprecations\n",
            "  tem = np.array(df.iloc[i-10:i,2:],dtype=np.float)\n",
            "<ipython-input-49-20a478852482>:8: DeprecationWarning: `np.float` is a deprecated alias for the builtin `float`. To silence this warning, use `float` by itself. Doing this will not modify any behavior and is safe. If you specifically wanted the numpy scalar type, use `np.float64` here.\n",
            "Deprecated in NumPy 1.20; for more details and guidance: https://numpy.org/devdocs/release/1.20.0-notes.html#deprecations\n",
            "  tem = np.array(df.iloc[i-10:i,2:],dtype=np.float)\n"
          ]
        }
      ],
      "source": [
        "for0=0\n",
        "for1=0\n",
        "for2=0\n",
        "for3=0\n",
        "for i in range(10,50000,11):\n",
        "  # print(i)\n",
        "  if (df['SampleID'][i] == 0 and for0==0):\n",
        "    tem = np.array(df.iloc[i-10:i,2:],dtype=np.float)\n",
        "    cv2.imwrite('0_10.jpg'.format(name=df['SampleID'][i-1]),tem*255)\n",
        "    for0=1\n",
        "\n",
        "  elif (df['SampleID'][i] == 1 and for1==0):\n",
        "    tem = np.array(df.iloc[i-10:i,2:],dtype=np.float)\n",
        "    cv2.imwrite('1_10.jpg'.format(name=df['SampleID'][i-1]),tem*255)\n",
        "    for1=1\n",
        "\n",
        "  elif (df['SampleID'][i] == 2 and for2==0):\n",
        "    tem = np.array(df.iloc[i-10:i,2:],dtype=np.float)\n",
        "    cv2.imwrite('2_10.jpg'.format(name=df['SampleID'][i-1]),tem*255)\n",
        "    for2=1\n",
        "\n",
        "  elif (df['SampleID'][i] == 3 and for3==0):\n",
        "    tem = np.array(df.iloc[i-10:i,2:],dtype=np.float)\n",
        "    cv2.imwrite('3_10.jpg'.format(name=df['SampleID'][i-1]),tem*255)\n",
        "    for3=1"
      ]
    },
    {
      "cell_type": "code",
      "source": [
        "tes0 = cv2.imread('0_10.jpg',cv2.IMREAD_GRAYSCALE)\n",
        "tes1 = cv2.imread('1_10.jpg',cv2.IMREAD_GRAYSCALE)\n",
        "tes2 = cv2.imread('2_10.jpg',cv2.IMREAD_GRAYSCALE)\n",
        "tes3 = cv2.imread('3_10.jpg',cv2.IMREAD_GRAYSCALE)"
      ],
      "metadata": {
        "id": "kOGjaQLaU9W4"
      },
      "execution_count": null,
      "outputs": []
    },
    {
      "cell_type": "code",
      "source": [
        "tes0 = cv2.resize(tes0, (100, 50))\n",
        "tes1 = cv2.resize(tes1, (100, 50))\n",
        "tes2 = cv2.resize(tes2, (100, 50))\n",
        "tes3 = cv2.resize(tes3, (100, 50))"
      ],
      "metadata": {
        "id": "LQVx956vW01m"
      },
      "execution_count": null,
      "outputs": []
    },
    {
      "cell_type": "code",
      "source": [
        "# tes.shape"
      ],
      "metadata": {
        "id": "n3tSxtERVtXt"
      },
      "execution_count": null,
      "outputs": []
    },
    {
      "cell_type": "code",
      "source": [
        "tes0=np.transpose(tes0)\n",
        "tes1=np.transpose(tes1)\n",
        "tes2=np.transpose(tes2)\n",
        "tes3=np.transpose(tes3)"
      ],
      "metadata": {
        "id": "Gzjv_TB3VBnT"
      },
      "execution_count": null,
      "outputs": []
    },
    {
      "cell_type": "code",
      "source": [
        "cv2_imshow(tes0)"
      ],
      "metadata": {
        "colab": {
          "base_uri": "https://localhost:8080/",
          "height": 117
        },
        "id": "WMYg1YWcW75M",
        "outputId": "dc3ce0e0-75f9-44c8-fde0-d49f2a9f66e8"
      },
      "execution_count": null,
      "outputs": [
        {
          "output_type": "display_data",
          "data": {
            "text/plain": [
              "<PIL.Image.Image image mode=L size=50x100 at 0x7FC7B8DB2610>"
            ],
            "image/png": "[encoded data removed]"
          },
          "metadata": {}
        }
      ]
    },
    {
      "cell_type": "code",
      "source": [
        "cv2_imshow(tes1)"
      ],
      "metadata": {
        "colab": {
          "base_uri": "https://localhost:8080/",
          "height": 117
        },
        "id": "kj3OcoHhYr1C",
        "outputId": "199c50f5-a5e7-4be8-c75e-20967bc38be7"
      },
      "execution_count": null,
      "outputs": [
        {
          "output_type": "display_data",
          "data": {
            "text/plain": [
              "<PIL.Image.Image image mode=L size=50x100 at 0x7FC7B8DB2250>"
            ],
            "image/png": "[encoded data removed]"
          },
          "metadata": {}
        }
      ]
    },
    {
      "cell_type": "code",
      "source": [
        "cv2_imshow(tes2)"
      ],
      "metadata": {
        "colab": {
          "base_uri": "https://localhost:8080/",
          "height": 117
        },
        "id": "JP-ffpd1YuL5",
        "outputId": "9c13216f-194f-4e46-e332-e0368ff9df7d"
      },
      "execution_count": null,
      "outputs": [
        {
          "output_type": "display_data",
          "data": {
            "text/plain": [
              "<PIL.Image.Image image mode=L size=50x100 at 0x7FC7B8DB2B50>"
            ],
            "image/png": "[encoded data removed]"
          },
          "metadata": {}
        }
      ]
    },
    {
      "cell_type": "code",
      "source": [
        "cv2_imshow(tes3)"
      ],
      "metadata": {
        "colab": {
          "base_uri": "https://localhost:8080/",
          "height": 117
        },
        "id": "k3PufNpQYyvo",
        "outputId": "4faf6d87-3f71-4203-dad4-cf39e60e35b8"
      },
      "execution_count": null,
      "outputs": [
        {
          "output_type": "display_data",
          "data": {
            "text/plain": [
              "<PIL.Image.Image image mode=L size=50x100 at 0x7FC7B8DB2BB0>"
            ],
            "image/png": "[encoded data removed]"
          },
          "metadata": {}
        }
      ]
    },
    {
      "cell_type": "code",
      "source": [
        "cv2.imwrite('0.jpg',tes0)\n",
        "cv2.imwrite('1.jpg',tes1)\n",
        "cv2.imwrite('2.jpg',tes2)\n",
        "cv2.imwrite('3.jpg',tes3)"
      ],
      "metadata": {
        "colab": {
          "base_uri": "https://localhost:8080/"
        },
        "id": "FlpVSFaGWLQl",
        "outputId": "5a268d4e-12d0-4487-f26a-0b938534646a"
      },
      "execution_count": null,
      "outputs": [
        {
          "output_type": "execute_result",
          "data": {
            "text/plain": [
              "True"
            ]
          },
          "metadata": {},
          "execution_count": 48
        }
      ]
    },
    {
      "cell_type": "code",
      "source": [
        "for i in range(10,50000,11):\n",
        "  # print(i)\n",
        "  if (df['SampleID'][i] == 0):\n",
        "    # plt.imshow(np.array(df.iloc[i-10:i,2:], dtype=np.float), cmap='hot', interpolation='nearest')\n",
        "    plt.axis('off')\n",
        "    plt.imshow(np.array(df.iloc[i-10:i,2:], dtype=np.float), cmap='hot', interpolation='nearest')\n",
        "    plt.savefig('/content/drive/MyDrive/gc_data/heatmaps/0/{name}.jpg'.format(name=df['SampleID'][i-1]),bbox_inches='tight',pad_inches = 0)\n",
        "\n",
        "  elif (df['SampleID'][i] == 1):\n",
        "    plt.axis('off')\n",
        "    plt.imshow(np.array(df.iloc[i-10:i,2:], dtype=np.float), cmap='hot', interpolation='nearest')\n",
        "    plt.savefig('/content/drive/MyDrive/gc_data/heatmaps/1/{name}.jpg'.format(name=df['SampleID'][i-1]),bbox_inches='tight',pad_inches = 0)\n",
        "\n",
        "  elif (df['SampleID'][i] == 2):\n",
        "    plt.axis('off')\n",
        "    plt.imshow(np.array(df.iloc[i-10:i,2:], dtype=np.float), cmap='hot', interpolation='nearest')\n",
        "    plt.savefig('/content/drive/MyDrive/gc_data/heatmaps/2/{name}.jpg'.format(name=df['SampleID'][i-1]),bbox_inches='tight',pad_inches = 0)\n",
        "\n",
        "  elif (df['SampleID'][i] == 3):\n",
        "    plt.axis('off')\n",
        "    plt.imshow(np.array(df.iloc[i-10:i,2:], dtype=np.float), cmap='hot', interpolation='nearest')\n",
        "    plt.savefig('/content/drive/MyDrive/gc_data/heatmaps/3/{name}.jpg'.format(name=df['SampleID'][i-1]),bbox_inches='tight',pad_inches = 0)"
      ],
      "metadata": {
        "id": "ZobdSJftT0fY"
      },
      "execution_count": null,
      "outputs": []
    },
    {
      "cell_type": "code",
      "execution_count": null,
      "metadata": {
        "id": "SlWZ0KlNR3oO"
      },
      "outputs": [],
      "source": [
        "svm = sns.heatmap(np.array(df.iloc[0:10,2:],dtype=np.float), annot=False,cmap='coolwarm', linecolor='white', linewidths=1)\n",
        "\n",
        "figure = svm.get_figure()\n",
        "figure.savefig('svm_conf.png', dpi=400)"
      ]
    },
    {
      "cell_type": "code",
      "execution_count": null,
      "metadata": {
        "colab": {
          "base_uri": "https://localhost:8080/",
          "height": 237
        },
        "id": "kdRAPGDJtmEV",
        "outputId": "3b26f1d6-8029-4935-d5cb-d1bf8d37714f"
      },
      "outputs": [
        {
          "name": "stderr",
          "output_type": "stream",
          "text": [
            "<ipython-input-57-99235798993c>:2: DeprecationWarning: `np.float` is a deprecated alias for the builtin `float`. To silence this warning, use `float` by itself. Doing this will not modify any behavior and is safe. If you specifically wanted the numpy scalar type, use `np.float64` here.\n",
            "Deprecated in NumPy 1.20; for more details and guidance: https://numpy.org/devdocs/release/1.20.0-notes.html#deprecations\n",
            "  a = plt.imshow(np.array(df.iloc[i-10:i,2:], dtype=np.float), cmap='hot', interpolation='nearest')\n"
          ]
        },
        {
          "data": {
            "image/png": "[encoded data removed]",
            "text/plain": [
              "<Figure size 432x288 with 1 Axes>"
            ]
          },
          "metadata": {},
          "output_type": "display_data"
        }
      ],
      "source": [
        "plt.axis('off')\n",
        "a = plt.imshow(np.array(df.iloc[i-10:i,2:], dtype=np.float), cmap='hot', interpolation='nearest')\n",
        "plt.savefig('/content/drive/MyDrive/gc_data/heatmaps/1/00001.jpg',bbox_inches='tight',pad_inches = 0)"
      ]
    },
    {
      "cell_type": "code",
      "execution_count": null,
      "metadata": {
        "colab": {
          "base_uri": "https://localhost:8080/"
        },
        "id": "KLXXGA7et1zW",
        "outputId": "7494cd71-0e2e-41d8-e213-decda8d3b052"
      },
      "outputs": [
        {
          "data": {
            "text/plain": [
              "False"
            ]
          },
          "execution_count": 53,
          "metadata": {},
          "output_type": "execute_result"
        }
      ],
      "source": [
        "cv2.imwrite('content/drive/MyDrive/gc_data/1/heatmaps/1/test.jpg',np.array([[1,2],[2,3]]))"
      ]
    },
    {
      "cell_type": "code",
      "execution_count": null,
      "metadata": {
        "colab": {
          "base_uri": "https://localhost:8080/",
          "height": 34
        },
        "id": "Gc7rkPWy3-Bu",
        "outputId": "b4214abf-ce40-4916-aa99-9b2c875f5696"
      },
      "outputs": [
        {
          "data": {
            "text/plain": [
              "<Figure size 432x288 with 0 Axes>"
            ]
          },
          "metadata": {},
          "output_type": "display_data"
        }
      ],
      "source": []
    },
    {
      "cell_type": "code",
      "execution_count": null,
      "metadata": {
        "id": "02fP7bjXUGNm"
      },
      "outputs": [],
      "source": [
        "t = cv2.imread('svm_conf.png')"
      ]
    },
    {
      "cell_type": "code",
      "execution_count": null,
      "metadata": {
        "colab": {
          "base_uri": "https://localhost:8080/",
          "height": 759
        },
        "id": "I_2swqu9grZo",
        "outputId": "1f68977e-1f27-41cd-a372-5540bce16339"
      },
      "outputs": [
        {
          "data": {
            "image/png": "[encoded data removed]",
            "text/plain": [
              "<PIL.Image.Image image mode=RGB size=2400x1600 at 0x7F03F7852C70>"
            ]
          },
          "metadata": {},
          "output_type": "display_data"
        }
      ],
      "source": [
        "cv2_imshow(t)"
      ]
    },
    {
      "cell_type": "code",
      "execution_count": null,
      "metadata": {
        "id": "6mnwJdpchCbv"
      },
      "outputs": [],
      "source": []
    },
    {
      "cell_type": "markdown",
      "metadata": {
        "id": "g9Cy_TsP0OGt"
      },
      "source": [
        "###Percentile calculation"
      ]
    },
    {
      "cell_type": "code",
      "execution_count": null,
      "metadata": {
        "id": "5IWlt9vA0P1f"
      },
      "outputs": [],
      "source": [
        "df['y'] = 0"
      ]
    },
    {
      "cell_type": "code",
      "execution_count": null,
      "metadata": {
        "id": "vqGiHE9_0jGo"
      },
      "outputs": [],
      "source": [
        "df"
      ]
    },
    {
      "cell_type": "code",
      "execution_count": null,
      "metadata": {
        "id": "DbAIoyvh0jxM"
      },
      "outputs": [],
      "source": []
    }
  ],
  "metadata": {
    "colab": {
      "provenance": []
    },
    "gpuClass": "standard",
    "kernelspec": {
      "display_name": "Python 3",
      "name": "python3"
    },
    "language_info": {
      "name": "python"
    }
  },
  "nbformat": 4,
  "nbformat_minor": 0
}